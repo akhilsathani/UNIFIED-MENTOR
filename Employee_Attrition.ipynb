{
 "cells": [
  {
   "cell_type": "code",
   "execution_count": 308,
   "id": "b5eac8e6",
   "metadata": {},
   "outputs": [],
   "source": [
    "import matplotlib.pyplot as plt \n",
    "import sklearn\n",
    "import seaborn as sns\n",
    "import os\n",
    "import pandas as pd\n",
    "import numpy as np"
   ]
  },
  {
   "cell_type": "code",
   "execution_count": 309,
   "id": "5e8877d6",
   "metadata": {},
   "outputs": [],
   "source": [
    "os.chdir(r\"D:\\Machinelearning\\csv\")\n",
    "df=pd.read_csv(\"employee_attrition.csv\")"
   ]
  },
  {
   "cell_type": "code",
   "execution_count": 310,
   "id": "fec6c72b",
   "metadata": {},
   "outputs": [],
   "source": [
    "y=df['Attrition']"
   ]
  },
  {
   "cell_type": "code",
   "execution_count": 311,
   "id": "0f16f51d",
   "metadata": {},
   "outputs": [
    {
     "data": {
      "text/html": [
       "<div>\n",
       "<style scoped>\n",
       "    .dataframe tbody tr th:only-of-type {\n",
       "        vertical-align: middle;\n",
       "    }\n",
       "\n",
       "    .dataframe tbody tr th {\n",
       "        vertical-align: top;\n",
       "    }\n",
       "\n",
       "    .dataframe thead th {\n",
       "        text-align: right;\n",
       "    }\n",
       "</style>\n",
       "<table border=\"1\" class=\"dataframe\">\n",
       "  <thead>\n",
       "    <tr style=\"text-align: right;\">\n",
       "      <th></th>\n",
       "      <th>Age</th>\n",
       "      <th>Attrition</th>\n",
       "      <th>BusinessTravel</th>\n",
       "      <th>DailyRate</th>\n",
       "      <th>Department</th>\n",
       "      <th>DistanceFromHome</th>\n",
       "      <th>Education</th>\n",
       "      <th>EducationField</th>\n",
       "      <th>EmployeeCount</th>\n",
       "      <th>EmployeeNumber</th>\n",
       "      <th>...</th>\n",
       "      <th>RelationshipSatisfaction</th>\n",
       "      <th>StandardHours</th>\n",
       "      <th>StockOptionLevel</th>\n",
       "      <th>TotalWorkingYears</th>\n",
       "      <th>TrainingTimesLastYear</th>\n",
       "      <th>WorkLifeBalance</th>\n",
       "      <th>YearsAtCompany</th>\n",
       "      <th>YearsInCurrentRole</th>\n",
       "      <th>YearsSinceLastPromotion</th>\n",
       "      <th>YearsWithCurrManager</th>\n",
       "    </tr>\n",
       "  </thead>\n",
       "  <tbody>\n",
       "    <tr>\n",
       "      <th>0</th>\n",
       "      <td>41</td>\n",
       "      <td>Yes</td>\n",
       "      <td>Travel_Rarely</td>\n",
       "      <td>1102</td>\n",
       "      <td>Sales</td>\n",
       "      <td>1</td>\n",
       "      <td>2</td>\n",
       "      <td>Life Sciences</td>\n",
       "      <td>1</td>\n",
       "      <td>1</td>\n",
       "      <td>...</td>\n",
       "      <td>1</td>\n",
       "      <td>80</td>\n",
       "      <td>0</td>\n",
       "      <td>8</td>\n",
       "      <td>0</td>\n",
       "      <td>1</td>\n",
       "      <td>6</td>\n",
       "      <td>4</td>\n",
       "      <td>0</td>\n",
       "      <td>5</td>\n",
       "    </tr>\n",
       "    <tr>\n",
       "      <th>1</th>\n",
       "      <td>49</td>\n",
       "      <td>No</td>\n",
       "      <td>Travel_Frequently</td>\n",
       "      <td>279</td>\n",
       "      <td>Research &amp; Development</td>\n",
       "      <td>8</td>\n",
       "      <td>1</td>\n",
       "      <td>Life Sciences</td>\n",
       "      <td>1</td>\n",
       "      <td>2</td>\n",
       "      <td>...</td>\n",
       "      <td>4</td>\n",
       "      <td>80</td>\n",
       "      <td>1</td>\n",
       "      <td>10</td>\n",
       "      <td>3</td>\n",
       "      <td>3</td>\n",
       "      <td>10</td>\n",
       "      <td>7</td>\n",
       "      <td>1</td>\n",
       "      <td>7</td>\n",
       "    </tr>\n",
       "    <tr>\n",
       "      <th>2</th>\n",
       "      <td>37</td>\n",
       "      <td>Yes</td>\n",
       "      <td>Travel_Rarely</td>\n",
       "      <td>1373</td>\n",
       "      <td>Research &amp; Development</td>\n",
       "      <td>2</td>\n",
       "      <td>2</td>\n",
       "      <td>Other</td>\n",
       "      <td>1</td>\n",
       "      <td>4</td>\n",
       "      <td>...</td>\n",
       "      <td>2</td>\n",
       "      <td>80</td>\n",
       "      <td>0</td>\n",
       "      <td>7</td>\n",
       "      <td>3</td>\n",
       "      <td>3</td>\n",
       "      <td>0</td>\n",
       "      <td>0</td>\n",
       "      <td>0</td>\n",
       "      <td>0</td>\n",
       "    </tr>\n",
       "    <tr>\n",
       "      <th>3</th>\n",
       "      <td>33</td>\n",
       "      <td>No</td>\n",
       "      <td>Travel_Frequently</td>\n",
       "      <td>1392</td>\n",
       "      <td>Research &amp; Development</td>\n",
       "      <td>3</td>\n",
       "      <td>4</td>\n",
       "      <td>Life Sciences</td>\n",
       "      <td>1</td>\n",
       "      <td>5</td>\n",
       "      <td>...</td>\n",
       "      <td>3</td>\n",
       "      <td>80</td>\n",
       "      <td>0</td>\n",
       "      <td>8</td>\n",
       "      <td>3</td>\n",
       "      <td>3</td>\n",
       "      <td>8</td>\n",
       "      <td>7</td>\n",
       "      <td>3</td>\n",
       "      <td>0</td>\n",
       "    </tr>\n",
       "    <tr>\n",
       "      <th>4</th>\n",
       "      <td>27</td>\n",
       "      <td>No</td>\n",
       "      <td>Travel_Rarely</td>\n",
       "      <td>591</td>\n",
       "      <td>Research &amp; Development</td>\n",
       "      <td>2</td>\n",
       "      <td>1</td>\n",
       "      <td>Medical</td>\n",
       "      <td>1</td>\n",
       "      <td>7</td>\n",
       "      <td>...</td>\n",
       "      <td>4</td>\n",
       "      <td>80</td>\n",
       "      <td>1</td>\n",
       "      <td>6</td>\n",
       "      <td>3</td>\n",
       "      <td>3</td>\n",
       "      <td>2</td>\n",
       "      <td>2</td>\n",
       "      <td>2</td>\n",
       "      <td>2</td>\n",
       "    </tr>\n",
       "  </tbody>\n",
       "</table>\n",
       "<p>5 rows × 35 columns</p>\n",
       "</div>"
      ],
      "text/plain": [
       "   Age Attrition     BusinessTravel  DailyRate              Department  \\\n",
       "0   41       Yes      Travel_Rarely       1102                   Sales   \n",
       "1   49        No  Travel_Frequently        279  Research & Development   \n",
       "2   37       Yes      Travel_Rarely       1373  Research & Development   \n",
       "3   33        No  Travel_Frequently       1392  Research & Development   \n",
       "4   27        No      Travel_Rarely        591  Research & Development   \n",
       "\n",
       "   DistanceFromHome  Education EducationField  EmployeeCount  EmployeeNumber  \\\n",
       "0                 1          2  Life Sciences              1               1   \n",
       "1                 8          1  Life Sciences              1               2   \n",
       "2                 2          2          Other              1               4   \n",
       "3                 3          4  Life Sciences              1               5   \n",
       "4                 2          1        Medical              1               7   \n",
       "\n",
       "   ...  RelationshipSatisfaction StandardHours  StockOptionLevel  \\\n",
       "0  ...                         1            80                 0   \n",
       "1  ...                         4            80                 1   \n",
       "2  ...                         2            80                 0   \n",
       "3  ...                         3            80                 0   \n",
       "4  ...                         4            80                 1   \n",
       "\n",
       "   TotalWorkingYears  TrainingTimesLastYear WorkLifeBalance  YearsAtCompany  \\\n",
       "0                  8                      0               1               6   \n",
       "1                 10                      3               3              10   \n",
       "2                  7                      3               3               0   \n",
       "3                  8                      3               3               8   \n",
       "4                  6                      3               3               2   \n",
       "\n",
       "  YearsInCurrentRole  YearsSinceLastPromotion  YearsWithCurrManager  \n",
       "0                  4                        0                     5  \n",
       "1                  7                        1                     7  \n",
       "2                  0                        0                     0  \n",
       "3                  7                        3                     0  \n",
       "4                  2                        2                     2  \n",
       "\n",
       "[5 rows x 35 columns]"
      ]
     },
     "execution_count": 311,
     "metadata": {},
     "output_type": "execute_result"
    }
   ],
   "source": [
    "df.head()"
   ]
  },
  {
   "cell_type": "markdown",
   "id": "29591407",
   "metadata": {},
   "source": [
    "# Finding out number unique classes/labels present in each feature/column"
   ]
  },
  {
   "cell_type": "code",
   "execution_count": 312,
   "id": "647c9e62",
   "metadata": {},
   "outputs": [
    {
     "data": {
      "text/plain": [
       "6"
      ]
     },
     "execution_count": 312,
     "metadata": {},
     "output_type": "execute_result"
    }
   ],
   "source": [
    "df['EducationField'].nunique()"
   ]
  },
  {
   "cell_type": "code",
   "execution_count": 313,
   "id": "e4ee434b",
   "metadata": {},
   "outputs": [
    {
     "data": {
      "text/plain": [
       "array(['Life Sciences', 'Other', 'Medical', 'Marketing',\n",
       "       'Technical Degree', 'Human Resources'], dtype=object)"
      ]
     },
     "execution_count": 313,
     "metadata": {},
     "output_type": "execute_result"
    }
   ],
   "source": [
    "df['EducationField'].unique()"
   ]
  },
  {
   "cell_type": "code",
   "execution_count": 314,
   "id": "23e47808",
   "metadata": {},
   "outputs": [],
   "source": [
    "df['EducationField'].replace(['Life Sciences', 'Other', 'Medical', 'Marketing',\n",
    "       'Technical Degree', 'Human Resources'],[0,1,2,3,4,5],inplace=True)"
   ]
  },
  {
   "cell_type": "code",
   "execution_count": 315,
   "id": "fd2cd55f",
   "metadata": {},
   "outputs": [
    {
     "data": {
      "text/plain": [
       "3"
      ]
     },
     "execution_count": 315,
     "metadata": {},
     "output_type": "execute_result"
    }
   ],
   "source": [
    "df['BusinessTravel'].nunique()"
   ]
  },
  {
   "cell_type": "code",
   "execution_count": 316,
   "id": "d9180e48",
   "metadata": {},
   "outputs": [
    {
     "data": {
      "text/plain": [
       "array(['Travel_Rarely', 'Travel_Frequently', 'Non-Travel'], dtype=object)"
      ]
     },
     "execution_count": 316,
     "metadata": {},
     "output_type": "execute_result"
    }
   ],
   "source": [
    "df['BusinessTravel'].unique()"
   ]
  },
  {
   "cell_type": "code",
   "execution_count": 317,
   "id": "7eceb53c",
   "metadata": {},
   "outputs": [],
   "source": [
    "df.replace(['Travel_Rarely', 'Travel_Frequently', 'Non-Travel'],[0,1,2],inplace=True)"
   ]
  },
  {
   "cell_type": "code",
   "execution_count": 318,
   "id": "1cf82105",
   "metadata": {},
   "outputs": [
    {
     "data": {
      "text/plain": [
       "3"
      ]
     },
     "execution_count": 318,
     "metadata": {},
     "output_type": "execute_result"
    }
   ],
   "source": [
    "df['Department'].nunique()"
   ]
  },
  {
   "cell_type": "code",
   "execution_count": 319,
   "id": "402180b3",
   "metadata": {},
   "outputs": [
    {
     "data": {
      "text/plain": [
       "array(['Sales', 'Research & Development', 'Human Resources'], dtype=object)"
      ]
     },
     "execution_count": 319,
     "metadata": {},
     "output_type": "execute_result"
    }
   ],
   "source": [
    "df['Department'].unique()"
   ]
  },
  {
   "cell_type": "code",
   "execution_count": 320,
   "id": "ad9dee9b",
   "metadata": {},
   "outputs": [],
   "source": [
    "df['Department'].replace(['Sales', 'Research & Development', 'Human Resources'],[0,1,2],inplace=True)"
   ]
  },
  {
   "cell_type": "code",
   "execution_count": 321,
   "id": "c562c818",
   "metadata": {},
   "outputs": [],
   "source": [
    "df['Attrition'].replace(['Yes','No'],[0,1],inplace=True)"
   ]
  },
  {
   "cell_type": "code",
   "execution_count": 322,
   "id": "c5c78066",
   "metadata": {},
   "outputs": [],
   "source": [
    "df['Gender'].replace(['Female','Male'],[0,1],inplace=True)"
   ]
  },
  {
   "cell_type": "code",
   "execution_count": 323,
   "id": "a347a0aa",
   "metadata": {},
   "outputs": [
    {
     "data": {
      "text/plain": [
       "array(['Sales Executive', 'Research Scientist', 'Laboratory Technician',\n",
       "       'Manufacturing Director', 'Healthcare Representative', 'Manager',\n",
       "       'Sales Representative', 'Research Director', 'Human Resources'],\n",
       "      dtype=object)"
      ]
     },
     "execution_count": 323,
     "metadata": {},
     "output_type": "execute_result"
    }
   ],
   "source": [
    "df['JobRole'].unique()"
   ]
  },
  {
   "cell_type": "code",
   "execution_count": 324,
   "id": "7fb65e07",
   "metadata": {},
   "outputs": [],
   "source": [
    "df['JobRole'].replace(['Sales Executive', 'Research Scientist', 'Laboratory Technician',\n",
    "       'Manufacturing Director', 'Healthcare Representative', 'Manager',\n",
    "       'Sales Representative', 'Research Director', 'Human Resources'],[0,1,2,3,4,5,6,7,8],inplace=True)"
   ]
  },
  {
   "cell_type": "code",
   "execution_count": 325,
   "id": "309a30fd",
   "metadata": {},
   "outputs": [
    {
     "data": {
      "text/html": [
       "<div>\n",
       "<style scoped>\n",
       "    .dataframe tbody tr th:only-of-type {\n",
       "        vertical-align: middle;\n",
       "    }\n",
       "\n",
       "    .dataframe tbody tr th {\n",
       "        vertical-align: top;\n",
       "    }\n",
       "\n",
       "    .dataframe thead th {\n",
       "        text-align: right;\n",
       "    }\n",
       "</style>\n",
       "<table border=\"1\" class=\"dataframe\">\n",
       "  <thead>\n",
       "    <tr style=\"text-align: right;\">\n",
       "      <th></th>\n",
       "      <th>Age</th>\n",
       "      <th>Attrition</th>\n",
       "      <th>BusinessTravel</th>\n",
       "      <th>DailyRate</th>\n",
       "      <th>Department</th>\n",
       "      <th>DistanceFromHome</th>\n",
       "      <th>Education</th>\n",
       "      <th>EducationField</th>\n",
       "      <th>EmployeeCount</th>\n",
       "      <th>EmployeeNumber</th>\n",
       "      <th>...</th>\n",
       "      <th>RelationshipSatisfaction</th>\n",
       "      <th>StandardHours</th>\n",
       "      <th>StockOptionLevel</th>\n",
       "      <th>TotalWorkingYears</th>\n",
       "      <th>TrainingTimesLastYear</th>\n",
       "      <th>WorkLifeBalance</th>\n",
       "      <th>YearsAtCompany</th>\n",
       "      <th>YearsInCurrentRole</th>\n",
       "      <th>YearsSinceLastPromotion</th>\n",
       "      <th>YearsWithCurrManager</th>\n",
       "    </tr>\n",
       "  </thead>\n",
       "  <tbody>\n",
       "    <tr>\n",
       "      <th>0</th>\n",
       "      <td>41</td>\n",
       "      <td>0</td>\n",
       "      <td>0</td>\n",
       "      <td>1102</td>\n",
       "      <td>0</td>\n",
       "      <td>1</td>\n",
       "      <td>2</td>\n",
       "      <td>0</td>\n",
       "      <td>1</td>\n",
       "      <td>1</td>\n",
       "      <td>...</td>\n",
       "      <td>1</td>\n",
       "      <td>80</td>\n",
       "      <td>0</td>\n",
       "      <td>8</td>\n",
       "      <td>0</td>\n",
       "      <td>1</td>\n",
       "      <td>6</td>\n",
       "      <td>4</td>\n",
       "      <td>0</td>\n",
       "      <td>5</td>\n",
       "    </tr>\n",
       "    <tr>\n",
       "      <th>1</th>\n",
       "      <td>49</td>\n",
       "      <td>1</td>\n",
       "      <td>1</td>\n",
       "      <td>279</td>\n",
       "      <td>1</td>\n",
       "      <td>8</td>\n",
       "      <td>1</td>\n",
       "      <td>0</td>\n",
       "      <td>1</td>\n",
       "      <td>2</td>\n",
       "      <td>...</td>\n",
       "      <td>4</td>\n",
       "      <td>80</td>\n",
       "      <td>1</td>\n",
       "      <td>10</td>\n",
       "      <td>3</td>\n",
       "      <td>3</td>\n",
       "      <td>10</td>\n",
       "      <td>7</td>\n",
       "      <td>1</td>\n",
       "      <td>7</td>\n",
       "    </tr>\n",
       "    <tr>\n",
       "      <th>2</th>\n",
       "      <td>37</td>\n",
       "      <td>0</td>\n",
       "      <td>0</td>\n",
       "      <td>1373</td>\n",
       "      <td>1</td>\n",
       "      <td>2</td>\n",
       "      <td>2</td>\n",
       "      <td>1</td>\n",
       "      <td>1</td>\n",
       "      <td>4</td>\n",
       "      <td>...</td>\n",
       "      <td>2</td>\n",
       "      <td>80</td>\n",
       "      <td>0</td>\n",
       "      <td>7</td>\n",
       "      <td>3</td>\n",
       "      <td>3</td>\n",
       "      <td>0</td>\n",
       "      <td>0</td>\n",
       "      <td>0</td>\n",
       "      <td>0</td>\n",
       "    </tr>\n",
       "    <tr>\n",
       "      <th>3</th>\n",
       "      <td>33</td>\n",
       "      <td>1</td>\n",
       "      <td>1</td>\n",
       "      <td>1392</td>\n",
       "      <td>1</td>\n",
       "      <td>3</td>\n",
       "      <td>4</td>\n",
       "      <td>0</td>\n",
       "      <td>1</td>\n",
       "      <td>5</td>\n",
       "      <td>...</td>\n",
       "      <td>3</td>\n",
       "      <td>80</td>\n",
       "      <td>0</td>\n",
       "      <td>8</td>\n",
       "      <td>3</td>\n",
       "      <td>3</td>\n",
       "      <td>8</td>\n",
       "      <td>7</td>\n",
       "      <td>3</td>\n",
       "      <td>0</td>\n",
       "    </tr>\n",
       "    <tr>\n",
       "      <th>4</th>\n",
       "      <td>27</td>\n",
       "      <td>1</td>\n",
       "      <td>0</td>\n",
       "      <td>591</td>\n",
       "      <td>1</td>\n",
       "      <td>2</td>\n",
       "      <td>1</td>\n",
       "      <td>2</td>\n",
       "      <td>1</td>\n",
       "      <td>7</td>\n",
       "      <td>...</td>\n",
       "      <td>4</td>\n",
       "      <td>80</td>\n",
       "      <td>1</td>\n",
       "      <td>6</td>\n",
       "      <td>3</td>\n",
       "      <td>3</td>\n",
       "      <td>2</td>\n",
       "      <td>2</td>\n",
       "      <td>2</td>\n",
       "      <td>2</td>\n",
       "    </tr>\n",
       "  </tbody>\n",
       "</table>\n",
       "<p>5 rows × 35 columns</p>\n",
       "</div>"
      ],
      "text/plain": [
       "   Age  Attrition  BusinessTravel  DailyRate  Department  DistanceFromHome  \\\n",
       "0   41          0               0       1102           0                 1   \n",
       "1   49          1               1        279           1                 8   \n",
       "2   37          0               0       1373           1                 2   \n",
       "3   33          1               1       1392           1                 3   \n",
       "4   27          1               0        591           1                 2   \n",
       "\n",
       "   Education  EducationField  EmployeeCount  EmployeeNumber  ...  \\\n",
       "0          2               0              1               1  ...   \n",
       "1          1               0              1               2  ...   \n",
       "2          2               1              1               4  ...   \n",
       "3          4               0              1               5  ...   \n",
       "4          1               2              1               7  ...   \n",
       "\n",
       "   RelationshipSatisfaction  StandardHours  StockOptionLevel  \\\n",
       "0                         1             80                 0   \n",
       "1                         4             80                 1   \n",
       "2                         2             80                 0   \n",
       "3                         3             80                 0   \n",
       "4                         4             80                 1   \n",
       "\n",
       "   TotalWorkingYears  TrainingTimesLastYear  WorkLifeBalance  YearsAtCompany  \\\n",
       "0                  8                      0                1               6   \n",
       "1                 10                      3                3              10   \n",
       "2                  7                      3                3               0   \n",
       "3                  8                      3                3               8   \n",
       "4                  6                      3                3               2   \n",
       "\n",
       "  YearsInCurrentRole  YearsSinceLastPromotion  YearsWithCurrManager  \n",
       "0                  4                        0                     5  \n",
       "1                  7                        1                     7  \n",
       "2                  0                        0                     0  \n",
       "3                  7                        3                     0  \n",
       "4                  2                        2                     2  \n",
       "\n",
       "[5 rows x 35 columns]"
      ]
     },
     "execution_count": 325,
     "metadata": {},
     "output_type": "execute_result"
    }
   ],
   "source": [
    "df.head()"
   ]
  },
  {
   "cell_type": "code",
   "execution_count": 239,
   "id": "c4ae197e",
   "metadata": {},
   "outputs": [
    {
     "data": {
      "text/plain": [
       "(1470, 35)"
      ]
     },
     "execution_count": 239,
     "metadata": {},
     "output_type": "execute_result"
    }
   ],
   "source": [
    "df.shape"
   ]
  },
  {
   "cell_type": "code",
   "execution_count": 215,
   "id": "7901cd85",
   "metadata": {},
   "outputs": [
    {
     "name": "stderr",
     "output_type": "stream",
     "text": [
      "C:\\python310\\lib\\site-packages\\seaborn\\_decorators.py:36: FutureWarning: Pass the following variable as a keyword arg: x. From version 0.12, the only valid positional argument will be `data`, and passing other arguments without an explicit keyword will result in an error or misinterpretation.\n",
      "  warnings.warn(\n"
     ]
    },
    {
     "data": {
      "text/plain": [
       "<AxesSubplot:xlabel='Attrition', ylabel='count'>"
      ]
     },
     "execution_count": 215,
     "metadata": {},
     "output_type": "execute_result"
    },
    {
     "data": {
      "image/png": "[encoded data removed]",
      "text/plain": [
       "<Figure size 640x480 with 1 Axes>"
      ]
     },
     "metadata": {},
     "output_type": "display_data"
    }
   ],
   "source": [
    "sns.countplot(df['Attrition'])"
   ]
  },
  {
   "cell_type": "raw",
   "id": "597491ce",
   "metadata": {},
   "source": [
    "from the above plot we can say that the data is highly imbalanced"
   ]
  },
  {
   "cell_type": "code",
   "execution_count": 17,
   "id": "6e5b8af0",
   "metadata": {},
   "outputs": [
    {
     "data": {
      "text/html": [
       "<div>\n",
       "<style scoped>\n",
       "    .dataframe tbody tr th:only-of-type {\n",
       "        vertical-align: middle;\n",
       "    }\n",
       "\n",
       "    .dataframe tbody tr th {\n",
       "        vertical-align: top;\n",
       "    }\n",
       "\n",
       "    .dataframe thead th {\n",
       "        text-align: right;\n",
       "    }\n",
       "</style>\n",
       "<table border=\"1\" class=\"dataframe\">\n",
       "  <thead>\n",
       "    <tr style=\"text-align: right;\">\n",
       "      <th></th>\n",
       "      <th>Age</th>\n",
       "      <th>BusinessTravel</th>\n",
       "      <th>DailyRate</th>\n",
       "      <th>Department</th>\n",
       "      <th>DistanceFromHome</th>\n",
       "      <th>Education</th>\n",
       "      <th>EducationField</th>\n",
       "      <th>EmployeeCount</th>\n",
       "      <th>EmployeeNumber</th>\n",
       "      <th>EnvironmentSatisfaction</th>\n",
       "      <th>...</th>\n",
       "      <th>RelationshipSatisfaction</th>\n",
       "      <th>StandardHours</th>\n",
       "      <th>StockOptionLevel</th>\n",
       "      <th>TotalWorkingYears</th>\n",
       "      <th>TrainingTimesLastYear</th>\n",
       "      <th>WorkLifeBalance</th>\n",
       "      <th>YearsAtCompany</th>\n",
       "      <th>YearsInCurrentRole</th>\n",
       "      <th>YearsSinceLastPromotion</th>\n",
       "      <th>YearsWithCurrManager</th>\n",
       "    </tr>\n",
       "  </thead>\n",
       "  <tbody>\n",
       "    <tr>\n",
       "      <th>count</th>\n",
       "      <td>1470.000000</td>\n",
       "      <td>1470.000000</td>\n",
       "      <td>1470.000000</td>\n",
       "      <td>1470.000000</td>\n",
       "      <td>1470.000000</td>\n",
       "      <td>1470.000000</td>\n",
       "      <td>1470.000000</td>\n",
       "      <td>1470.0</td>\n",
       "      <td>1470.000000</td>\n",
       "      <td>1470.000000</td>\n",
       "      <td>...</td>\n",
       "      <td>1470.000000</td>\n",
       "      <td>1470.0</td>\n",
       "      <td>1470.000000</td>\n",
       "      <td>1470.000000</td>\n",
       "      <td>1470.000000</td>\n",
       "      <td>1470.000000</td>\n",
       "      <td>1470.000000</td>\n",
       "      <td>1470.000000</td>\n",
       "      <td>1470.000000</td>\n",
       "      <td>1470.000000</td>\n",
       "    </tr>\n",
       "    <tr>\n",
       "      <th>mean</th>\n",
       "      <td>36.923810</td>\n",
       "      <td>0.392517</td>\n",
       "      <td>802.485714</td>\n",
       "      <td>0.739456</td>\n",
       "      <td>9.192517</td>\n",
       "      <td>2.912925</td>\n",
       "      <td>1.462585</td>\n",
       "      <td>1.0</td>\n",
       "      <td>1024.865306</td>\n",
       "      <td>2.721769</td>\n",
       "      <td>...</td>\n",
       "      <td>2.712245</td>\n",
       "      <td>80.0</td>\n",
       "      <td>0.793878</td>\n",
       "      <td>11.279592</td>\n",
       "      <td>2.799320</td>\n",
       "      <td>2.761224</td>\n",
       "      <td>7.008163</td>\n",
       "      <td>4.229252</td>\n",
       "      <td>2.187755</td>\n",
       "      <td>4.123129</td>\n",
       "    </tr>\n",
       "    <tr>\n",
       "      <th>std</th>\n",
       "      <td>9.135373</td>\n",
       "      <td>0.665455</td>\n",
       "      <td>403.509100</td>\n",
       "      <td>0.527792</td>\n",
       "      <td>8.106864</td>\n",
       "      <td>1.024165</td>\n",
       "      <td>1.431780</td>\n",
       "      <td>0.0</td>\n",
       "      <td>602.024335</td>\n",
       "      <td>1.093082</td>\n",
       "      <td>...</td>\n",
       "      <td>1.081209</td>\n",
       "      <td>0.0</td>\n",
       "      <td>0.852077</td>\n",
       "      <td>7.780782</td>\n",
       "      <td>1.289271</td>\n",
       "      <td>0.706476</td>\n",
       "      <td>6.126525</td>\n",
       "      <td>3.623137</td>\n",
       "      <td>3.222430</td>\n",
       "      <td>3.568136</td>\n",
       "    </tr>\n",
       "    <tr>\n",
       "      <th>min</th>\n",
       "      <td>18.000000</td>\n",
       "      <td>0.000000</td>\n",
       "      <td>102.000000</td>\n",
       "      <td>0.000000</td>\n",
       "      <td>1.000000</td>\n",
       "      <td>1.000000</td>\n",
       "      <td>0.000000</td>\n",
       "      <td>1.0</td>\n",
       "      <td>1.000000</td>\n",
       "      <td>1.000000</td>\n",
       "      <td>...</td>\n",
       "      <td>1.000000</td>\n",
       "      <td>80.0</td>\n",
       "      <td>0.000000</td>\n",
       "      <td>0.000000</td>\n",
       "      <td>0.000000</td>\n",
       "      <td>1.000000</td>\n",
       "      <td>0.000000</td>\n",
       "      <td>0.000000</td>\n",
       "      <td>0.000000</td>\n",
       "      <td>0.000000</td>\n",
       "    </tr>\n",
       "    <tr>\n",
       "      <th>25%</th>\n",
       "      <td>30.000000</td>\n",
       "      <td>0.000000</td>\n",
       "      <td>465.000000</td>\n",
       "      <td>0.000000</td>\n",
       "      <td>2.000000</td>\n",
       "      <td>2.000000</td>\n",
       "      <td>0.000000</td>\n",
       "      <td>1.0</td>\n",
       "      <td>491.250000</td>\n",
       "      <td>2.000000</td>\n",
       "      <td>...</td>\n",
       "      <td>2.000000</td>\n",
       "      <td>80.0</td>\n",
       "      <td>0.000000</td>\n",
       "      <td>6.000000</td>\n",
       "      <td>2.000000</td>\n",
       "      <td>2.000000</td>\n",
       "      <td>3.000000</td>\n",
       "      <td>2.000000</td>\n",
       "      <td>0.000000</td>\n",
       "      <td>2.000000</td>\n",
       "    </tr>\n",
       "    <tr>\n",
       "      <th>50%</th>\n",
       "      <td>36.000000</td>\n",
       "      <td>0.000000</td>\n",
       "      <td>802.000000</td>\n",
       "      <td>1.000000</td>\n",
       "      <td>7.000000</td>\n",
       "      <td>3.000000</td>\n",
       "      <td>2.000000</td>\n",
       "      <td>1.0</td>\n",
       "      <td>1020.500000</td>\n",
       "      <td>3.000000</td>\n",
       "      <td>...</td>\n",
       "      <td>3.000000</td>\n",
       "      <td>80.0</td>\n",
       "      <td>1.000000</td>\n",
       "      <td>10.000000</td>\n",
       "      <td>3.000000</td>\n",
       "      <td>3.000000</td>\n",
       "      <td>5.000000</td>\n",
       "      <td>3.000000</td>\n",
       "      <td>1.000000</td>\n",
       "      <td>3.000000</td>\n",
       "    </tr>\n",
       "    <tr>\n",
       "      <th>75%</th>\n",
       "      <td>43.000000</td>\n",
       "      <td>1.000000</td>\n",
       "      <td>1157.000000</td>\n",
       "      <td>1.000000</td>\n",
       "      <td>14.000000</td>\n",
       "      <td>4.000000</td>\n",
       "      <td>2.000000</td>\n",
       "      <td>1.0</td>\n",
       "      <td>1555.750000</td>\n",
       "      <td>4.000000</td>\n",
       "      <td>...</td>\n",
       "      <td>4.000000</td>\n",
       "      <td>80.0</td>\n",
       "      <td>1.000000</td>\n",
       "      <td>15.000000</td>\n",
       "      <td>3.000000</td>\n",
       "      <td>3.000000</td>\n",
       "      <td>9.000000</td>\n",
       "      <td>7.000000</td>\n",
       "      <td>3.000000</td>\n",
       "      <td>7.000000</td>\n",
       "    </tr>\n",
       "    <tr>\n",
       "      <th>max</th>\n",
       "      <td>60.000000</td>\n",
       "      <td>2.000000</td>\n",
       "      <td>1499.000000</td>\n",
       "      <td>2.000000</td>\n",
       "      <td>29.000000</td>\n",
       "      <td>5.000000</td>\n",
       "      <td>5.000000</td>\n",
       "      <td>1.0</td>\n",
       "      <td>2068.000000</td>\n",
       "      <td>4.000000</td>\n",
       "      <td>...</td>\n",
       "      <td>4.000000</td>\n",
       "      <td>80.0</td>\n",
       "      <td>3.000000</td>\n",
       "      <td>40.000000</td>\n",
       "      <td>6.000000</td>\n",
       "      <td>4.000000</td>\n",
       "      <td>40.000000</td>\n",
       "      <td>18.000000</td>\n",
       "      <td>15.000000</td>\n",
       "      <td>17.000000</td>\n",
       "    </tr>\n",
       "  </tbody>\n",
       "</table>\n",
       "<p>8 rows × 29 columns</p>\n",
       "</div>"
      ],
      "text/plain": [
       "               Age  BusinessTravel    DailyRate   Department  \\\n",
       "count  1470.000000     1470.000000  1470.000000  1470.000000   \n",
       "mean     36.923810        0.392517   802.485714     0.739456   \n",
       "std       9.135373        0.665455   403.509100     0.527792   \n",
       "min      18.000000        0.000000   102.000000     0.000000   \n",
       "25%      30.000000        0.000000   465.000000     0.000000   \n",
       "50%      36.000000        0.000000   802.000000     1.000000   \n",
       "75%      43.000000        1.000000  1157.000000     1.000000   \n",
       "max      60.000000        2.000000  1499.000000     2.000000   \n",
       "\n",
       "       DistanceFromHome    Education  EducationField  EmployeeCount  \\\n",
       "count       1470.000000  1470.000000     1470.000000         1470.0   \n",
       "mean           9.192517     2.912925        1.462585            1.0   \n",
       "std            8.106864     1.024165        1.431780            0.0   \n",
       "min            1.000000     1.000000        0.000000            1.0   \n",
       "25%            2.000000     2.000000        0.000000            1.0   \n",
       "50%            7.000000     3.000000        2.000000            1.0   \n",
       "75%           14.000000     4.000000        2.000000            1.0   \n",
       "max           29.000000     5.000000        5.000000            1.0   \n",
       "\n",
       "       EmployeeNumber  EnvironmentSatisfaction  ...  RelationshipSatisfaction  \\\n",
       "count     1470.000000              1470.000000  ...               1470.000000   \n",
       "mean      1024.865306                 2.721769  ...                  2.712245   \n",
       "std        602.024335                 1.093082  ...                  1.081209   \n",
       "min          1.000000                 1.000000  ...                  1.000000   \n",
       "25%        491.250000                 2.000000  ...                  2.000000   \n",
       "50%       1020.500000                 3.000000  ...                  3.000000   \n",
       "75%       1555.750000                 4.000000  ...                  4.000000   \n",
       "max       2068.000000                 4.000000  ...                  4.000000   \n",
       "\n",
       "       StandardHours  StockOptionLevel  TotalWorkingYears  \\\n",
       "count         1470.0       1470.000000        1470.000000   \n",
       "mean            80.0          0.793878          11.279592   \n",
       "std              0.0          0.852077           7.780782   \n",
       "min             80.0          0.000000           0.000000   \n",
       "25%             80.0          0.000000           6.000000   \n",
       "50%             80.0          1.000000          10.000000   \n",
       "75%             80.0          1.000000          15.000000   \n",
       "max             80.0          3.000000          40.000000   \n",
       "\n",
       "       TrainingTimesLastYear  WorkLifeBalance  YearsAtCompany  \\\n",
       "count            1470.000000      1470.000000     1470.000000   \n",
       "mean                2.799320         2.761224        7.008163   \n",
       "std                 1.289271         0.706476        6.126525   \n",
       "min                 0.000000         1.000000        0.000000   \n",
       "25%                 2.000000         2.000000        3.000000   \n",
       "50%                 3.000000         3.000000        5.000000   \n",
       "75%                 3.000000         3.000000        9.000000   \n",
       "max                 6.000000         4.000000       40.000000   \n",
       "\n",
       "       YearsInCurrentRole  YearsSinceLastPromotion  YearsWithCurrManager  \n",
       "count         1470.000000              1470.000000           1470.000000  \n",
       "mean             4.229252                 2.187755              4.123129  \n",
       "std              3.623137                 3.222430              3.568136  \n",
       "min              0.000000                 0.000000              0.000000  \n",
       "25%              2.000000                 0.000000              2.000000  \n",
       "50%              3.000000                 1.000000              3.000000  \n",
       "75%              7.000000                 3.000000              7.000000  \n",
       "max             18.000000                15.000000             17.000000  \n",
       "\n",
       "[8 rows x 29 columns]"
      ]
     },
     "execution_count": 17,
     "metadata": {},
     "output_type": "execute_result"
    }
   ],
   "source": [
    "df.describe()"
   ]
  },
  {
   "cell_type": "markdown",
   "id": "38e134d9",
   "metadata": {},
   "source": [
    "#department,education,education_field,environmentSatisfaction,relationSatisfsaction,stockOptionlevel,trainingtimelastyear,worklifebalance are negatively skewed"
   ]
  },
  {
   "cell_type": "code",
   "execution_count": 24,
   "id": "30288b75",
   "metadata": {},
   "outputs": [],
   "source": [
    "#Let's consider only those columns that are necessary to get the output\n",
    "#Firstly we need to find the type of each column and we need to find out whether any null values are present or not"
   ]
  },
  {
   "cell_type": "code",
   "execution_count": 25,
   "id": "988f0928",
   "metadata": {},
   "outputs": [
    {
     "data": {
      "text/plain": [
       "Age                         0\n",
       "Attrition                   0\n",
       "BusinessTravel              0\n",
       "DailyRate                   0\n",
       "Department                  0\n",
       "DistanceFromHome            0\n",
       "Education                   0\n",
       "EducationField              0\n",
       "EmployeeCount               0\n",
       "EmployeeNumber              0\n",
       "EnvironmentSatisfaction     0\n",
       "Gender                      0\n",
       "HourlyRate                  0\n",
       "JobInvolvement              0\n",
       "JobLevel                    0\n",
       "JobRole                     0\n",
       "JobSatisfaction             0\n",
       "MaritalStatus               0\n",
       "MonthlyIncome               0\n",
       "MonthlyRate                 0\n",
       "NumCompaniesWorked          0\n",
       "Over18                      0\n",
       "OverTime                    0\n",
       "PercentSalaryHike           0\n",
       "PerformanceRating           0\n",
       "RelationshipSatisfaction    0\n",
       "StandardHours               0\n",
       "StockOptionLevel            0\n",
       "TotalWorkingYears           0\n",
       "TrainingTimesLastYear       0\n",
       "WorkLifeBalance             0\n",
       "YearsAtCompany              0\n",
       "YearsInCurrentRole          0\n",
       "YearsSinceLastPromotion     0\n",
       "YearsWithCurrManager        0\n",
       "dtype: int64"
      ]
     },
     "execution_count": 25,
     "metadata": {},
     "output_type": "execute_result"
    }
   ],
   "source": [
    "df.isnull().sum()"
   ]
  },
  {
   "cell_type": "code",
   "execution_count": 26,
   "id": "5c5ed507",
   "metadata": {},
   "outputs": [
    {
     "name": "stdout",
     "output_type": "stream",
     "text": [
      "<class 'pandas.core.frame.DataFrame'>\n",
      "RangeIndex: 1470 entries, 0 to 1469\n",
      "Data columns (total 35 columns):\n",
      " #   Column                    Non-Null Count  Dtype \n",
      "---  ------                    --------------  ----- \n",
      " 0   Age                       1470 non-null   int64 \n",
      " 1   Attrition                 1470 non-null   object\n",
      " 2   BusinessTravel            1470 non-null   int64 \n",
      " 3   DailyRate                 1470 non-null   int64 \n",
      " 4   Department                1470 non-null   int64 \n",
      " 5   DistanceFromHome          1470 non-null   int64 \n",
      " 6   Education                 1470 non-null   int64 \n",
      " 7   EducationField            1470 non-null   int64 \n",
      " 8   EmployeeCount             1470 non-null   int64 \n",
      " 9   EmployeeNumber            1470 non-null   int64 \n",
      " 10  EnvironmentSatisfaction   1470 non-null   int64 \n",
      " 11  Gender                    1470 non-null   object\n",
      " 12  HourlyRate                1470 non-null   int64 \n",
      " 13  JobInvolvement            1470 non-null   int64 \n",
      " 14  JobLevel                  1470 non-null   int64 \n",
      " 15  JobRole                   1470 non-null   object\n",
      " 16  JobSatisfaction           1470 non-null   int64 \n",
      " 17  MaritalStatus             1470 non-null   object\n",
      " 18  MonthlyIncome             1470 non-null   int64 \n",
      " 19  MonthlyRate               1470 non-null   int64 \n",
      " 20  NumCompaniesWorked        1470 non-null   int64 \n",
      " 21  Over18                    1470 non-null   object\n",
      " 22  OverTime                  1470 non-null   object\n",
      " 23  PercentSalaryHike         1470 non-null   int64 \n",
      " 24  PerformanceRating         1470 non-null   int64 \n",
      " 25  RelationshipSatisfaction  1470 non-null   int64 \n",
      " 26  StandardHours             1470 non-null   int64 \n",
      " 27  StockOptionLevel          1470 non-null   int64 \n",
      " 28  TotalWorkingYears         1470 non-null   int64 \n",
      " 29  TrainingTimesLastYear     1470 non-null   int64 \n",
      " 30  WorkLifeBalance           1470 non-null   int64 \n",
      " 31  YearsAtCompany            1470 non-null   int64 \n",
      " 32  YearsInCurrentRole        1470 non-null   int64 \n",
      " 33  YearsSinceLastPromotion   1470 non-null   int64 \n",
      " 34  YearsWithCurrManager      1470 non-null   int64 \n",
      "dtypes: int64(29), object(6)\n",
      "memory usage: 402.1+ KB\n"
     ]
    }
   ],
   "source": [
    "df.info()"
   ]
  },
  {
   "cell_type": "code",
   "execution_count": 27,
   "id": "35d92fd3",
   "metadata": {},
   "outputs": [],
   "source": [
    "#There is no null value present in our dataset "
   ]
  },
  {
   "cell_type": "code",
   "execution_count": 27,
   "id": "d143373a",
   "metadata": {},
   "outputs": [
    {
     "data": {
      "text/plain": [
       "Index(['Age', 'Attrition', 'BusinessTravel', 'DailyRate', 'Department',\n",
       "       'DistanceFromHome', 'Education', 'EducationField', 'EmployeeCount',\n",
       "       'EmployeeNumber', 'EnvironmentSatisfaction', 'Gender', 'HourlyRate',\n",
       "       'JobInvolvement', 'JobLevel', 'JobRole', 'JobSatisfaction',\n",
       "       'MaritalStatus', 'MonthlyIncome', 'MonthlyRate', 'NumCompaniesWorked',\n",
       "       'Over18', 'OverTime', 'PercentSalaryHike', 'PerformanceRating',\n",
       "       'RelationshipSatisfaction', 'StandardHours', 'StockOptionLevel',\n",
       "       'TotalWorkingYears', 'TrainingTimesLastYear', 'WorkLifeBalance',\n",
       "       'YearsAtCompany', 'YearsInCurrentRole', 'YearsSinceLastPromotion',\n",
       "       'YearsWithCurrManager'],\n",
       "      dtype='object')"
      ]
     },
     "execution_count": 27,
     "metadata": {},
     "output_type": "execute_result"
    }
   ],
   "source": [
    "df.columns"
   ]
  },
  {
   "cell_type": "markdown",
   "id": "09a5fdac",
   "metadata": {},
   "source": [
    "# Univariate Analysis"
   ]
  },
  {
   "cell_type": "code",
   "execution_count": 28,
   "id": "44a3d6a2",
   "metadata": {},
   "outputs": [
    {
     "data": {
      "text/plain": [
       "<AxesSubplot:xlabel='DailyRate', ylabel='Count'>"
      ]
     },
     "execution_count": 28,
     "metadata": {},
     "output_type": "execute_result"
    },
    {
     "data": {
      "image/png": "[encoded data removed]",
      "text/plain": [
       "<Figure size 640x480 with 1 Axes>"
      ]
     },
     "metadata": {},
     "output_type": "display_data"
    }
   ],
   "source": [
    "#DailyRate,Deaprtment,DistanceFromHome,EnvironmentSatisfaction,HourlyRate,Joblevel,JobRole,MonthlyIncome,YearsAtCompany,PerformanceRating,ToatlWorkingYears\n",
    "sns.histplot(df['DailyRate'],kde=True,bins=20)"
   ]
  },
  {
   "cell_type": "code",
   "execution_count": 30,
   "id": "29c40089",
   "metadata": {},
   "outputs": [
    {
     "data": {
      "text/plain": [
       "<AxesSubplot:xlabel='DistanceFromHome', ylabel='Count'>"
      ]
     },
     "execution_count": 30,
     "metadata": {},
     "output_type": "execute_result"
    },
    {
     "data": {
      "image/png": "[encoded data removed]",
      "text/plain": [
       "<Figure size 640x480 with 1 Axes>"
      ]
     },
     "metadata": {},
     "output_type": "display_data"
    }
   ],
   "source": [
    "sns.histplot(df['DistanceFromHome'],kde=True,bins=20)"
   ]
  },
  {
   "cell_type": "code",
   "execution_count": 37,
   "id": "c0b03bd1",
   "metadata": {},
   "outputs": [
    {
     "data": {
      "text/plain": [
       "<AxesSubplot:xlabel='DailyRate', ylabel='Attrition'>"
      ]
     },
     "execution_count": 37,
     "metadata": {},
     "output_type": "execute_result"
    },
    {
     "data": {
      "image/png": "[encoded data removed]",
      "text/plain": [
       "<Figure size 640x480 with 1 Axes>"
      ]
     },
     "metadata": {},
     "output_type": "display_data"
    }
   ],
   "source": [
    "sns.boxplot(x=df['DailyRate'],y=df['Attrition'],data=df,orient='h')"
   ]
  },
  {
   "cell_type": "code",
   "execution_count": 38,
   "id": "584a2900",
   "metadata": {},
   "outputs": [
    {
     "data": {
      "text/plain": [
       "<AxesSubplot:xlabel='DistanceFromHome', ylabel='Attrition'>"
      ]
     },
     "execution_count": 38,
     "metadata": {},
     "output_type": "execute_result"
    },
    {
     "data": {
      "image/png": "[encoded data removed]",
      "text/plain": [
       "<Figure size 640x480 with 1 Axes>"
      ]
     },
     "metadata": {},
     "output_type": "display_data"
    }
   ],
   "source": [
    "sns.boxplot(x=df['DistanceFromHome'],y=df['Attrition'],data=df,orient='h')"
   ]
  },
  {
   "cell_type": "code",
   "execution_count": 39,
   "id": "65a40ae7",
   "metadata": {},
   "outputs": [
    {
     "data": {
      "text/plain": [
       "<AxesSubplot:xlabel='EnvironmentSatisfaction', ylabel='Attrition'>"
      ]
     },
     "execution_count": 39,
     "metadata": {},
     "output_type": "execute_result"
    },
    {
     "data": {
      "image/png": "[encoded data removed]",
      "text/plain": [
       "<Figure size 640x480 with 1 Axes>"
      ]
     },
     "metadata": {},
     "output_type": "display_data"
    }
   ],
   "source": [
    "sns.boxplot(x=df['EnvironmentSatisfaction'],y=df['Attrition'],data=df,orient='h')"
   ]
  },
  {
   "cell_type": "markdown",
   "id": "2c50286b",
   "metadata": {},
   "source": [
    "# Selecting only required Features "
   ]
  },
  {
   "cell_type": "code",
   "execution_count": 348,
   "id": "72774ad1",
   "metadata": {},
   "outputs": [],
   "source": [
    "x=df.loc[:,['Age','DailyRate','EnvironmentSatisfaction','Gender','HourlyRate', 'JobRole','JobSatisfaction'\n",
    ",'MonthlyIncome','MonthlyRate','PerformanceRating','PercentSalaryHike','NumCompaniesWorked','JobInvolvement','JobLevel','TotalWorkingYears' ,'WorkLifeBalance']]"
   ]
  },
  {
   "cell_type": "code",
   "execution_count": 331,
   "id": "d1d6152f",
   "metadata": {},
   "outputs": [
    {
     "name": "stderr",
     "output_type": "stream",
     "text": [
      "C:\\python310\\lib\\site-packages\\sklearn\\base.py:450: UserWarning: X does not have valid feature names, but IsolationForest was fitted with feature names\n",
      "  warnings.warn(\n"
     ]
    },
    {
     "name": "stdout",
     "output_type": "stream",
     "text": [
      "[-1 -1  1 ... -1  1  1]\n"
     ]
    }
   ],
   "source": [
    "#removing the anomaly present\n",
    "from sklearn.ensemble import IsolationForest\n",
    "clf=IsolationForest(contamination=0.3)\n",
    "clf.fit(x)\n",
    "print(clf.predict(x))\n",
    "z=clf.predict(x)"
   ]
  },
  {
   "cell_type": "code",
   "execution_count": 332,
   "id": "5c6d0037",
   "metadata": {},
   "outputs": [
    {
     "data": {
      "text/plain": [
       "(array([   0,    1,    6,    8,   15,   18,   21,   25,   26,   28,   29,\n",
       "          39,   42,   45,   48,   50,   52,   54,   56,   62,   63,   70,\n",
       "          77,   78,   79,   85,   87,   90,   91,   93,   95,   96,   98,\n",
       "         100,  105,  106,  110,  111,  112,  118,  119,  120,  123,  126,\n",
       "         134,  135,  136,  139,  140,  142,  147,  152,  153,  157,  163,\n",
       "         165,  168,  171,  174,  177,  178,  180,  182,  187,  189,  190,\n",
       "         193,  194,  205,  208,  210,  213,  221,  230,  232,  233,  235,\n",
       "         236,  237,  244,  251,  257,  260,  263,  270,  272,  276,  277,\n",
       "         278,  279,  281,  286,  290,  295,  302,  304,  307,  314,  323,\n",
       "         329,  335,  336,  348,  352,  356,  357,  362,  364,  370,  375,\n",
       "         378,  379,  385,  390,  391,  392,  394,  395,  401,  407,  408,\n",
       "         410,  411,  413,  415,  416,  417,  418,  422,  424,  425,  427,\n",
       "         429,  434,  435,  440,  445,  451,  455,  456,  463,  466,  473,\n",
       "         475,  476,  477,  484,  489,  492,  493,  497,  501,  502,  509,\n",
       "         510,  516,  517,  518,  521,  524,  533,  534,  535,  537,  538,\n",
       "         540,  541,  544,  545,  551,  552,  553,  554,  561,  563,  568,\n",
       "         573,  575,  578,  582,  585,  587,  588,  590,  592,  594,  595,\n",
       "         602,  609,  610,  613,  616,  618,  619,  624,  627,  630,  631,\n",
       "         633,  646,  649,  653,  654,  656,  661,  665,  669,  676,  677,\n",
       "         682,  688,  689,  695,  700,  701,  706,  707,  709,  711,  714,\n",
       "         716,  725,  730,  734,  741,  743,  744,  746,  748,  749,  750,\n",
       "         755,  757,  760,  764,  766,  770,  774,  777,  778,  779,  785,\n",
       "         789,  791,  792,  797,  798,  799,  804,  808,  813,  814,  817,\n",
       "         821,  835,  836,  837,  838,  841,  843,  847,  849,  851,  853,\n",
       "         858,  859,  861,  864,  867,  869,  871,  875,  878,  882,  887,\n",
       "         890,  892,  894,  898,  899,  904,  905,  907,  913,  914,  915,\n",
       "         916,  918,  919,  922,  936,  943,  945,  948,  954,  955,  956,\n",
       "         966,  968,  970,  971,  974,  975,  976,  978,  986,  992,  993,\n",
       "         994, 1000, 1005, 1006, 1008, 1009, 1010, 1014, 1016, 1023, 1024,\n",
       "        1031, 1032, 1033, 1034, 1035, 1040, 1043, 1053, 1054, 1055, 1057,\n",
       "        1058, 1064, 1068, 1069, 1071, 1075, 1076, 1077, 1078, 1080, 1081,\n",
       "        1086, 1087, 1093, 1096, 1100, 1116, 1124, 1126, 1129, 1135, 1138,\n",
       "        1140, 1151, 1154, 1166, 1176, 1177, 1181, 1183, 1184, 1185, 1186,\n",
       "        1193, 1194, 1200, 1202, 1203, 1207, 1209, 1213, 1221, 1222, 1223,\n",
       "        1225, 1228, 1239, 1241, 1242, 1243, 1246, 1255, 1263, 1264, 1266,\n",
       "        1268, 1270, 1277, 1284, 1287, 1289, 1298, 1301, 1307, 1308, 1310,\n",
       "        1311, 1312, 1313, 1316, 1319, 1327, 1328, 1330, 1331, 1332, 1333,\n",
       "        1336, 1339, 1347, 1348, 1351, 1353, 1356, 1357, 1366, 1372, 1374,\n",
       "        1377, 1383, 1384, 1389, 1391, 1394, 1401, 1403, 1405, 1414, 1421,\n",
       "        1430, 1432, 1433, 1437, 1438, 1442, 1443, 1444, 1445, 1447, 1462,\n",
       "        1467], dtype=int64),)"
      ]
     },
     "execution_count": 332,
     "metadata": {},
     "output_type": "execute_result"
    }
   ],
   "source": [
    "#finding out the indexes where outliers are present\n",
    "out_index=np.where(z<0)\n",
    "out_index"
   ]
  },
  {
   "cell_type": "markdown",
   "id": "76136cce",
   "metadata": {},
   "source": [
    "# Splitting the data"
   ]
  },
  {
   "cell_type": "code",
   "execution_count": 347,
   "id": "ffd35525",
   "metadata": {},
   "outputs": [],
   "source": [
    "from sklearn.model_selection import train_test_split\n",
    "x_train,x_test,y_train,y_test=train_test_split(x,y,test_size=0.20,random_state=40)"
   ]
  },
  {
   "cell_type": "markdown",
   "id": "b23630d6",
   "metadata": {},
   "source": [
    "# Before Sampling(Not performing oversampling for imbalanced data)"
   ]
  },
  {
   "cell_type": "code",
   "execution_count": 335,
   "id": "24f688f9",
   "metadata": {},
   "outputs": [],
   "source": [
    "from sklearn import tree\n",
    "clf = tree.DecisionTreeClassifier()\n",
    "c= clf.fit(x_train, y_train)"
   ]
  },
  {
   "cell_type": "code",
   "execution_count": 336,
   "id": "44b0d931",
   "metadata": {},
   "outputs": [],
   "source": [
    "y_pred=c.predict(x_test)"
   ]
  },
  {
   "cell_type": "code",
   "execution_count": 337,
   "id": "1a6cf0a6",
   "metadata": {},
   "outputs": [
    {
     "name": "stdout",
     "output_type": "stream",
     "text": [
      "Accuracy: 0.7551020408163265\n"
     ]
    }
   ],
   "source": [
    "from sklearn.metrics import accuracy_score\n",
    "print(\"Accuracy:\",accuracy_score(y_test,y_pred))"
   ]
  },
  {
   "cell_type": "code",
   "execution_count": 338,
   "id": "59b496c3",
   "metadata": {},
   "outputs": [
    {
     "data": {
      "text/plain": [
       "[Text(0.3166560683139535, 0.9736842105263158, 'X[14] <= 1.5\\ngini = 0.269\\nsamples = 1176\\nvalue = [988, 188]'),\n",
       " Text(0.09053156146179402, 0.9210526315789473, 'X[0] <= 32.5\\ngini = 0.5\\nsamples = 72\\nvalue = [36, 36]'),\n",
       " Text(0.06478405315614617, 0.868421052631579, 'X[4] <= 58.5\\ngini = 0.486\\nsamples = 60\\nvalue = [25, 35]'),\n",
       " Text(0.03322259136212625, 0.8157894736842105, 'X[5] <= 1.5\\ngini = 0.287\\nsamples = 23\\nvalue = [4, 19]'),\n",
       " Text(0.019933554817275746, 0.7631578947368421, 'X[8] <= 21741.5\\ngini = 0.5\\nsamples = 6\\nvalue = [3, 3]'),\n",
       " Text(0.013289036544850499, 0.7105263157894737, 'X[12] <= 2.5\\ngini = 0.375\\nsamples = 4\\nvalue = [3, 1]'),\n",
       " Text(0.006644518272425249, 0.6578947368421053, 'gini = 0.0\\nsamples = 1\\nvalue = [0, 1]'),\n",
       " Text(0.019933554817275746, 0.6578947368421053, 'gini = 0.0\\nsamples = 3\\nvalue = [3, 0]'),\n",
       " Text(0.026578073089700997, 0.7105263157894737, 'gini = 0.0\\nsamples = 2\\nvalue = [0, 2]'),\n",
       " Text(0.046511627906976744, 0.7631578947368421, 'X[4] <= 34.5\\ngini = 0.111\\nsamples = 17\\nvalue = [1, 16]'),\n",
       " Text(0.03986710963455149, 0.7105263157894737, 'X[5] <= 4.0\\ngini = 0.444\\nsamples = 3\\nvalue = [1, 2]'),\n",
       " Text(0.03322259136212625, 0.6578947368421053, 'gini = 0.0\\nsamples = 1\\nvalue = [1, 0]'),\n",
       " Text(0.046511627906976744, 0.6578947368421053, 'gini = 0.0\\nsamples = 2\\nvalue = [0, 2]'),\n",
       " Text(0.053156146179401995, 0.7105263157894737, 'gini = 0.0\\nsamples = 14\\nvalue = [0, 14]'),\n",
       " Text(0.09634551495016612, 0.8157894736842105, 'X[10] <= 17.5\\ngini = 0.491\\nsamples = 37\\nvalue = [21, 16]'),\n",
       " Text(0.07308970099667775, 0.7631578947368421, 'X[1] <= 267.0\\ngini = 0.413\\nsamples = 24\\nvalue = [17, 7]'),\n",
       " Text(0.0664451827242525, 0.7105263157894737, 'gini = 0.0\\nsamples = 2\\nvalue = [0, 2]'),\n",
       " Text(0.07973421926910298, 0.7105263157894737, 'X[1] <= 1220.0\\ngini = 0.351\\nsamples = 22\\nvalue = [17, 5]'),\n",
       " Text(0.0664451827242525, 0.6578947368421053, 'X[7] <= 1159.0\\ngini = 0.208\\nsamples = 17\\nvalue = [15, 2]'),\n",
       " Text(0.059800664451827246, 0.6052631578947368, 'X[1] <= 443.0\\ngini = 0.444\\nsamples = 3\\nvalue = [1, 2]'),\n",
       " Text(0.053156146179401995, 0.5526315789473685, 'gini = 0.0\\nsamples = 1\\nvalue = [1, 0]'),\n",
       " Text(0.0664451827242525, 0.5526315789473685, 'gini = 0.0\\nsamples = 2\\nvalue = [0, 2]'),\n",
       " Text(0.07308970099667775, 0.6052631578947368, 'gini = 0.0\\nsamples = 14\\nvalue = [14, 0]'),\n",
       " Text(0.09302325581395349, 0.6578947368421053, 'X[0] <= 28.5\\ngini = 0.48\\nsamples = 5\\nvalue = [2, 3]'),\n",
       " Text(0.08637873754152824, 0.6052631578947368, 'gini = 0.0\\nsamples = 2\\nvalue = [0, 2]'),\n",
       " Text(0.09966777408637874, 0.6052631578947368, 'X[10] <= 11.5\\ngini = 0.444\\nsamples = 3\\nvalue = [2, 1]'),\n",
       " Text(0.09302325581395349, 0.5526315789473685, 'gini = 0.0\\nsamples = 2\\nvalue = [2, 0]'),\n",
       " Text(0.10631229235880399, 0.5526315789473685, 'gini = 0.0\\nsamples = 1\\nvalue = [0, 1]'),\n",
       " Text(0.11960132890365449, 0.7631578947368421, 'X[0] <= 23.5\\ngini = 0.426\\nsamples = 13\\nvalue = [4, 9]'),\n",
       " Text(0.11295681063122924, 0.7105263157894737, 'gini = 0.0\\nsamples = 5\\nvalue = [0, 5]'),\n",
       " Text(0.12624584717607973, 0.7105263157894737, 'X[6] <= 3.5\\ngini = 0.5\\nsamples = 8\\nvalue = [4, 4]'),\n",
       " Text(0.11960132890365449, 0.6578947368421053, 'X[6] <= 1.5\\ngini = 0.32\\nsamples = 5\\nvalue = [4, 1]'),\n",
       " Text(0.11295681063122924, 0.6052631578947368, 'gini = 0.0\\nsamples = 1\\nvalue = [0, 1]'),\n",
       " Text(0.12624584717607973, 0.6052631578947368, 'gini = 0.0\\nsamples = 4\\nvalue = [4, 0]'),\n",
       " Text(0.132890365448505, 0.6578947368421053, 'gini = 0.0\\nsamples = 3\\nvalue = [0, 3]'),\n",
       " Text(0.11627906976744186, 0.868421052631579, 'X[8] <= 24925.0\\ngini = 0.153\\nsamples = 12\\nvalue = [11, 1]'),\n",
       " Text(0.10963455149501661, 0.8157894736842105, 'gini = 0.0\\nsamples = 11\\nvalue = [11, 0]'),\n",
       " Text(0.12292358803986711, 0.8157894736842105, 'gini = 0.0\\nsamples = 1\\nvalue = [0, 1]'),\n",
       " Text(0.542780575166113, 0.9210526315789473, 'X[13] <= 1.5\\ngini = 0.237\\nsamples = 1104\\nvalue = [952, 152]'),\n",
       " Text(0.3521594684385382, 0.868421052631579, 'X[6] <= 3.5\\ngini = 0.331\\nsamples = 372\\nvalue = [294, 78]'),\n",
       " Text(0.24833887043189368, 0.8157894736842105, 'X[2] <= 1.5\\ngini = 0.385\\nsamples = 250\\nvalue = [185, 65]'),\n",
       " Text(0.1719269102990033, 0.7631578947368421, 'X[8] <= 4240.5\\ngini = 0.493\\nsamples = 50\\nvalue = [28, 22]'),\n",
       " Text(0.15282392026578073, 0.7105263157894737, 'X[4] <= 50.5\\ngini = 0.219\\nsamples = 8\\nvalue = [1, 7]'),\n",
       " Text(0.1461794019933555, 0.6578947368421053, 'gini = 0.0\\nsamples = 1\\nvalue = [1, 0]'),\n",
       " Text(0.15946843853820597, 0.6578947368421053, 'gini = 0.0\\nsamples = 7\\nvalue = [0, 7]'),\n",
       " Text(0.19102990033222592, 0.7105263157894737, 'X[11] <= 1.5\\ngini = 0.459\\nsamples = 42\\nvalue = [27, 15]'),\n",
       " Text(0.17275747508305647, 0.6578947368421053, 'X[0] <= 25.0\\ngini = 0.208\\nsamples = 17\\nvalue = [15, 2]'),\n",
       " Text(0.16611295681063123, 0.6052631578947368, 'X[8] <= 13498.0\\ngini = 0.444\\nsamples = 3\\nvalue = [1, 2]'),\n",
       " Text(0.15946843853820597, 0.5526315789473685, 'gini = 0.0\\nsamples = 1\\nvalue = [1, 0]'),\n",
       " Text(0.17275747508305647, 0.5526315789473685, 'gini = 0.0\\nsamples = 2\\nvalue = [0, 2]'),\n",
       " Text(0.17940199335548174, 0.6052631578947368, 'gini = 0.0\\nsamples = 14\\nvalue = [14, 0]'),\n",
       " Text(0.20930232558139536, 0.6578947368421053, 'X[7] <= 3637.5\\ngini = 0.499\\nsamples = 25\\nvalue = [12, 13]'),\n",
       " Text(0.2026578073089701, 0.6052631578947368, 'X[7] <= 2435.0\\ngini = 0.49\\nsamples = 21\\nvalue = [12, 9]'),\n",
       " Text(0.18604651162790697, 0.5526315789473685, 'X[8] <= 11244.5\\ngini = 0.375\\nsamples = 8\\nvalue = [2, 6]'),\n",
       " Text(0.17940199335548174, 0.5, 'gini = 0.0\\nsamples = 2\\nvalue = [2, 0]'),\n",
       " Text(0.19269102990033224, 0.5, 'gini = 0.0\\nsamples = 6\\nvalue = [0, 6]'),\n",
       " Text(0.21926910299003322, 0.5526315789473685, 'X[15] <= 3.5\\ngini = 0.355\\nsamples = 13\\nvalue = [10, 3]'),\n",
       " Text(0.2059800664451827, 0.5, 'X[14] <= 5.5\\ngini = 0.18\\nsamples = 10\\nvalue = [9, 1]'),\n",
       " Text(0.19933554817275748, 0.4473684210526316, 'gini = 0.0\\nsamples = 1\\nvalue = [0, 1]'),\n",
       " Text(0.21262458471760798, 0.4473684210526316, 'gini = 0.0\\nsamples = 9\\nvalue = [9, 0]'),\n",
       " Text(0.23255813953488372, 0.5, 'X[10] <= 15.5\\ngini = 0.444\\nsamples = 3\\nvalue = [1, 2]'),\n",
       " Text(0.22591362126245848, 0.4473684210526316, 'gini = 0.0\\nsamples = 2\\nvalue = [0, 2]'),\n",
       " Text(0.23920265780730898, 0.4473684210526316, 'gini = 0.0\\nsamples = 1\\nvalue = [1, 0]'),\n",
       " Text(0.2159468438538206, 0.6052631578947368, 'gini = 0.0\\nsamples = 4\\nvalue = [0, 4]'),\n",
       " Text(0.32475083056478404, 0.7631578947368421, 'X[10] <= 21.5\\ngini = 0.338\\nsamples = 200\\nvalue = [157, 43]'),\n",
       " Text(0.287375415282392, 0.7105263157894737, 'X[1] <= 892.0\\ngini = 0.298\\nsamples = 181\\nvalue = [148, 33]'),\n",
       " Text(0.26245847176079734, 0.6578947368421053, 'X[1] <= 882.5\\ngini = 0.39\\nsamples = 98\\nvalue = [72, 26]'),\n",
       " Text(0.2558139534883721, 0.6052631578947368, 'X[4] <= 35.0\\ngini = 0.375\\nsamples = 96\\nvalue = [72, 24]'),\n",
       " Text(0.24916943521594684, 0.5526315789473685, 'gini = 0.0\\nsamples = 2\\nvalue = [0, 2]'),\n",
       " Text(0.26245847176079734, 0.5526315789473685, 'X[7] <= 2023.0\\ngini = 0.359\\nsamples = 94\\nvalue = [72, 22]'),\n",
       " Text(0.2558139534883721, 0.5, 'gini = 0.0\\nsamples = 2\\nvalue = [0, 2]'),\n",
       " Text(0.2691029900332226, 0.5, 'X[10] <= 11.5\\ngini = 0.34\\nsamples = 92\\nvalue = [72, 20]'),\n",
       " Text(0.25249169435215946, 0.4473684210526316, 'X[14] <= 7.5\\ngini = 0.5\\nsamples = 14\\nvalue = [7, 7]'),\n",
       " Text(0.24584717607973422, 0.39473684210526316, 'X[1] <= 412.5\\ngini = 0.42\\nsamples = 10\\nvalue = [7, 3]'),\n",
       " Text(0.23920265780730898, 0.34210526315789475, 'X[5] <= 1.5\\ngini = 0.375\\nsamples = 4\\nvalue = [1, 3]'),\n",
       " Text(0.23255813953488372, 0.2894736842105263, 'gini = 0.0\\nsamples = 1\\nvalue = [1, 0]'),\n",
       " Text(0.24584717607973422, 0.2894736842105263, 'gini = 0.0\\nsamples = 3\\nvalue = [0, 3]'),\n",
       " Text(0.25249169435215946, 0.34210526315789475, 'gini = 0.0\\nsamples = 6\\nvalue = [6, 0]'),\n",
       " Text(0.2591362126245847, 0.39473684210526316, 'gini = 0.0\\nsamples = 4\\nvalue = [0, 4]'),\n",
       " Text(0.2857142857142857, 0.4473684210526316, 'X[14] <= 2.5\\ngini = 0.278\\nsamples = 78\\nvalue = [65, 13]'),\n",
       " Text(0.2724252491694352, 0.39473684210526316, 'X[0] <= 27.0\\ngini = 0.444\\nsamples = 6\\nvalue = [2, 4]'),\n",
       " Text(0.26578073089701, 0.34210526315789475, 'X[8] <= 20441.0\\ngini = 0.444\\nsamples = 3\\nvalue = [2, 1]'),\n",
       " Text(0.2591362126245847, 0.2894736842105263, 'gini = 0.0\\nsamples = 2\\nvalue = [2, 0]'),\n",
       " Text(0.2724252491694352, 0.2894736842105263, 'gini = 0.0\\nsamples = 1\\nvalue = [0, 1]'),\n",
       " Text(0.27906976744186046, 0.34210526315789475, 'gini = 0.0\\nsamples = 3\\nvalue = [0, 3]'),\n",
       " Text(0.29900332225913623, 0.39473684210526316, 'X[8] <= 25669.0\\ngini = 0.219\\nsamples = 72\\nvalue = [63, 9]'),\n",
       " Text(0.292358803986711, 0.34210526315789475, 'X[7] <= 4842.0\\ngini = 0.18\\nsamples = 70\\nvalue = [63, 7]'),\n",
       " Text(0.2857142857142857, 0.2894736842105263, 'X[4] <= 40.0\\ngini = 0.159\\nsamples = 69\\nvalue = [63, 6]'),\n",
       " Text(0.26411960132890366, 0.23684210526315788, 'X[1] <= 789.5\\ngini = 0.48\\nsamples = 5\\nvalue = [3, 2]'),\n",
       " Text(0.2574750830564784, 0.18421052631578946, 'gini = 0.0\\nsamples = 3\\nvalue = [3, 0]'),\n",
       " Text(0.2707641196013289, 0.18421052631578946, 'gini = 0.0\\nsamples = 2\\nvalue = [0, 2]'),\n",
       " Text(0.3073089700996678, 0.23684210526315788, 'X[8] <= 22128.0\\ngini = 0.117\\nsamples = 64\\nvalue = [60, 4]'),\n",
       " Text(0.2840531561461794, 0.18421052631578946, 'X[4] <= 98.5\\ngini = 0.071\\nsamples = 54\\nvalue = [52, 2]'),\n",
       " Text(0.2707641196013289, 0.13157894736842105, 'X[15] <= 3.5\\ngini = 0.038\\nsamples = 51\\nvalue = [50, 1]'),\n",
       " Text(0.26411960132890366, 0.07894736842105263, 'gini = 0.0\\nsamples = 43\\nvalue = [43, 0]'),\n",
       " Text(0.27740863787375414, 0.07894736842105263, 'X[8] <= 17962.0\\ngini = 0.219\\nsamples = 8\\nvalue = [7, 1]'),\n",
       " Text(0.2707641196013289, 0.02631578947368421, 'gini = 0.0\\nsamples = 7\\nvalue = [7, 0]'),\n",
       " Text(0.2840531561461794, 0.02631578947368421, 'gini = 0.0\\nsamples = 1\\nvalue = [0, 1]'),\n",
       " Text(0.2973421926910299, 0.13157894736842105, 'X[7] <= 2971.0\\ngini = 0.444\\nsamples = 3\\nvalue = [2, 1]'),\n",
       " Text(0.29069767441860467, 0.07894736842105263, 'gini = 0.0\\nsamples = 1\\nvalue = [0, 1]'),\n",
       " Text(0.30398671096345514, 0.07894736842105263, 'gini = 0.0\\nsamples = 2\\nvalue = [2, 0]'),\n",
       " Text(0.33056478405315615, 0.18421052631578946, 'X[1] <= 412.0\\ngini = 0.32\\nsamples = 10\\nvalue = [8, 2]'),\n",
       " Text(0.3239202657807309, 0.13157894736842105, 'X[14] <= 7.0\\ngini = 0.444\\nsamples = 3\\nvalue = [1, 2]'),\n",
       " Text(0.31727574750830567, 0.07894736842105263, 'gini = 0.0\\nsamples = 2\\nvalue = [0, 2]'),\n",
       " Text(0.33056478405315615, 0.07894736842105263, 'gini = 0.0\\nsamples = 1\\nvalue = [1, 0]'),\n",
       " Text(0.3372093023255814, 0.13157894736842105, 'gini = 0.0\\nsamples = 7\\nvalue = [7, 0]'),\n",
       " Text(0.29900332225913623, 0.2894736842105263, 'gini = 0.0\\nsamples = 1\\nvalue = [0, 1]'),\n",
       " Text(0.30564784053156147, 0.34210526315789475, 'gini = 0.0\\nsamples = 2\\nvalue = [0, 2]'),\n",
       " Text(0.2691029900332226, 0.6052631578947368, 'gini = 0.0\\nsamples = 2\\nvalue = [0, 2]'),\n",
       " Text(0.3122923588039867, 0.6578947368421053, 'X[4] <= 84.5\\ngini = 0.154\\nsamples = 83\\nvalue = [76, 7]'),\n",
       " Text(0.2956810631229236, 0.6052631578947368, 'X[14] <= 2.5\\ngini = 0.031\\nsamples = 63\\nvalue = [62, 1]'),\n",
       " Text(0.28903654485049834, 0.5526315789473685, 'X[15] <= 2.5\\ngini = 0.375\\nsamples = 4\\nvalue = [3, 1]'),\n",
       " Text(0.2823920265780731, 0.5, 'gini = 0.0\\nsamples = 1\\nvalue = [0, 1]'),\n",
       " Text(0.2956810631229236, 0.5, 'gini = 0.0\\nsamples = 3\\nvalue = [3, 0]'),\n",
       " Text(0.3023255813953488, 0.5526315789473685, 'gini = 0.0\\nsamples = 59\\nvalue = [59, 0]'),\n",
       " Text(0.3289036544850498, 0.6052631578947368, 'X[10] <= 16.5\\ngini = 0.42\\nsamples = 20\\nvalue = [14, 6]'),\n",
       " Text(0.3222591362126246, 0.5526315789473685, 'X[8] <= 8264.5\\ngini = 0.496\\nsamples = 11\\nvalue = [5, 6]'),\n",
       " Text(0.3089700996677741, 0.5, 'X[10] <= 14.5\\ngini = 0.32\\nsamples = 5\\nvalue = [4, 1]'),\n",
       " Text(0.3023255813953488, 0.4473684210526316, 'gini = 0.0\\nsamples = 4\\nvalue = [4, 0]'),\n",
       " Text(0.31561461794019935, 0.4473684210526316, 'gini = 0.0\\nsamples = 1\\nvalue = [0, 1]'),\n",
       " Text(0.33554817275747506, 0.5, 'X[15] <= 2.5\\ngini = 0.278\\nsamples = 6\\nvalue = [1, 5]'),\n",
       " Text(0.3289036544850498, 0.4473684210526316, 'gini = 0.0\\nsamples = 1\\nvalue = [1, 0]'),\n",
       " Text(0.34219269102990035, 0.4473684210526316, 'gini = 0.0\\nsamples = 5\\nvalue = [0, 5]'),\n",
       " Text(0.33554817275747506, 0.5526315789473685, 'gini = 0.0\\nsamples = 9\\nvalue = [9, 0]'),\n",
       " Text(0.36212624584717606, 0.7105263157894737, 'X[6] <= 1.5\\ngini = 0.499\\nsamples = 19\\nvalue = [9, 10]'),\n",
       " Text(0.3488372093023256, 0.6578947368421053, 'X[10] <= 24.0\\ngini = 0.245\\nsamples = 7\\nvalue = [1, 6]'),\n",
       " Text(0.34219269102990035, 0.6052631578947368, 'gini = 0.0\\nsamples = 6\\nvalue = [0, 6]'),\n",
       " Text(0.3554817275747508, 0.6052631578947368, 'gini = 0.0\\nsamples = 1\\nvalue = [1, 0]'),\n",
       " Text(0.3754152823920266, 0.6578947368421053, 'X[8] <= 9513.0\\ngini = 0.444\\nsamples = 12\\nvalue = [8, 4]'),\n",
       " Text(0.3687707641196013, 0.6052631578947368, 'gini = 0.0\\nsamples = 6\\nvalue = [6, 0]'),\n",
       " Text(0.38205980066445183, 0.6052631578947368, 'X[4] <= 75.5\\ngini = 0.444\\nsamples = 6\\nvalue = [2, 4]'),\n",
       " Text(0.3754152823920266, 0.5526315789473685, 'gini = 0.0\\nsamples = 4\\nvalue = [0, 4]'),\n",
       " Text(0.38870431893687707, 0.5526315789473685, 'gini = 0.0\\nsamples = 2\\nvalue = [2, 0]'),\n",
       " Text(0.45598006644518274, 0.8157894736842105, 'X[11] <= 4.5\\ngini = 0.19\\nsamples = 122\\nvalue = [109, 13]'),\n",
       " Text(0.4368770764119601, 0.7631578947368421, 'X[4] <= 98.0\\ngini = 0.096\\nsamples = 99\\nvalue = [94, 5]'),\n",
       " Text(0.4186046511627907, 0.7105263157894737, 'X[12] <= 1.5\\ngini = 0.08\\nsamples = 96\\nvalue = [92, 4]'),\n",
       " Text(0.4019933554817276, 0.6578947368421053, 'X[14] <= 8.0\\ngini = 0.375\\nsamples = 4\\nvalue = [3, 1]'),\n",
       " Text(0.3953488372093023, 0.6052631578947368, 'gini = 0.0\\nsamples = 3\\nvalue = [3, 0]'),\n",
       " Text(0.40863787375415284, 0.6052631578947368, 'gini = 0.0\\nsamples = 1\\nvalue = [0, 1]'),\n",
       " Text(0.43521594684385384, 0.6578947368421053, 'X[8] <= 5368.5\\ngini = 0.063\\nsamples = 92\\nvalue = [89, 3]'),\n",
       " Text(0.4219269102990033, 0.6052631578947368, 'X[15] <= 3.5\\ngini = 0.245\\nsamples = 14\\nvalue = [12, 2]'),\n",
       " Text(0.4152823920265781, 0.5526315789473685, 'X[8] <= 5125.5\\ngini = 0.142\\nsamples = 13\\nvalue = [12, 1]'),\n",
       " Text(0.40863787375415284, 0.5, 'gini = 0.0\\nsamples = 12\\nvalue = [12, 0]'),\n",
       " Text(0.4219269102990033, 0.5, 'gini = 0.0\\nsamples = 1\\nvalue = [0, 1]'),\n",
       " Text(0.42857142857142855, 0.5526315789473685, 'gini = 0.0\\nsamples = 1\\nvalue = [0, 1]'),\n",
       " Text(0.4485049833887043, 0.6052631578947368, 'X[4] <= 85.0\\ngini = 0.025\\nsamples = 78\\nvalue = [77, 1]'),\n",
       " Text(0.4418604651162791, 0.5526315789473685, 'gini = 0.0\\nsamples = 63\\nvalue = [63, 0]'),\n",
       " Text(0.45514950166112955, 0.5526315789473685, 'X[4] <= 86.5\\ngini = 0.124\\nsamples = 15\\nvalue = [14, 1]'),\n",
       " Text(0.4485049833887043, 0.5, 'X[14] <= 4.5\\ngini = 0.444\\nsamples = 3\\nvalue = [2, 1]'),\n",
       " Text(0.4418604651162791, 0.4473684210526316, 'gini = 0.0\\nsamples = 1\\nvalue = [0, 1]'),\n",
       " Text(0.45514950166112955, 0.4473684210526316, 'gini = 0.0\\nsamples = 2\\nvalue = [2, 0]'),\n",
       " Text(0.46179401993355484, 0.5, 'gini = 0.0\\nsamples = 12\\nvalue = [12, 0]'),\n",
       " Text(0.45514950166112955, 0.7105263157894737, 'X[10] <= 18.5\\ngini = 0.444\\nsamples = 3\\nvalue = [2, 1]'),\n",
       " Text(0.4485049833887043, 0.6578947368421053, 'gini = 0.0\\nsamples = 2\\nvalue = [2, 0]'),\n",
       " Text(0.46179401993355484, 0.6578947368421053, 'gini = 0.0\\nsamples = 1\\nvalue = [0, 1]'),\n",
       " Text(0.4750830564784053, 0.7631578947368421, 'X[14] <= 4.5\\ngini = 0.454\\nsamples = 23\\nvalue = [15, 8]'),\n",
       " Text(0.4684385382059801, 0.7105263157894737, 'gini = 0.0\\nsamples = 4\\nvalue = [0, 4]'),\n",
       " Text(0.48172757475083056, 0.7105263157894737, 'X[10] <= 13.5\\ngini = 0.332\\nsamples = 19\\nvalue = [15, 4]'),\n",
       " Text(0.4750830564784053, 0.6578947368421053, 'X[5] <= 1.5\\ngini = 0.5\\nsamples = 8\\nvalue = [4, 4]'),\n",
       " Text(0.4684385382059801, 0.6052631578947368, 'gini = 0.0\\nsamples = 4\\nvalue = [4, 0]'),\n",
       " Text(0.48172757475083056, 0.6052631578947368, 'gini = 0.0\\nsamples = 4\\nvalue = [0, 4]'),\n",
       " Text(0.4883720930232558, 0.6578947368421053, 'gini = 0.0\\nsamples = 11\\nvalue = [11, 0]'),\n",
       " Text(0.7334016818936877, 0.868421052631579, 'X[5] <= 0.5\\ngini = 0.182\\nsamples = 732\\nvalue = [658, 74]'),\n",
       " Text(0.6463870431893688, 0.8157894736842105, 'X[11] <= 3.5\\ngini = 0.306\\nsamples = 260\\nvalue = [211, 49]'),\n",
       " Text(0.5851328903654485, 0.7631578947368421, 'X[7] <= 9082.5\\ngini = 0.231\\nsamples = 173\\nvalue = [150, 23]'),\n",
       " Text(0.542358803986711, 0.7105263157894737, 'X[1] <= 1080.5\\ngini = 0.178\\nsamples = 142\\nvalue = [128, 14]'),\n",
       " Text(0.5357142857142857, 0.6578947368421053, 'X[1] <= 1072.0\\ngini = 0.235\\nsamples = 103\\nvalue = [89, 14]'),\n",
       " Text(0.5290697674418605, 0.6052631578947368, 'X[7] <= 5611.0\\ngini = 0.222\\nsamples = 102\\nvalue = [89, 13]'),\n",
       " Text(0.4983388704318937, 0.5526315789473685, 'X[10] <= 22.5\\ngini = 0.131\\nsamples = 57\\nvalue = [53, 4]'),\n",
       " Text(0.48172757475083056, 0.5, 'X[4] <= 99.5\\ngini = 0.074\\nsamples = 52\\nvalue = [50, 2]'),\n",
       " Text(0.4684385382059801, 0.4473684210526316, 'X[8] <= 23152.0\\ngini = 0.04\\nsamples = 49\\nvalue = [48, 1]'),\n",
       " Text(0.46179401993355484, 0.39473684210526316, 'gini = 0.0\\nsamples = 42\\nvalue = [42, 0]'),\n",
       " Text(0.4750830564784053, 0.39473684210526316, 'X[8] <= 23648.0\\ngini = 0.245\\nsamples = 7\\nvalue = [6, 1]'),\n",
       " Text(0.4684385382059801, 0.34210526315789475, 'gini = 0.0\\nsamples = 1\\nvalue = [0, 1]'),\n",
       " Text(0.48172757475083056, 0.34210526315789475, 'gini = 0.0\\nsamples = 6\\nvalue = [6, 0]'),\n",
       " Text(0.4950166112956811, 0.4473684210526316, 'X[1] <= 325.5\\ngini = 0.444\\nsamples = 3\\nvalue = [2, 1]'),\n",
       " Text(0.4883720930232558, 0.39473684210526316, 'gini = 0.0\\nsamples = 1\\nvalue = [0, 1]'),\n",
       " Text(0.5016611295681063, 0.39473684210526316, 'gini = 0.0\\nsamples = 2\\nvalue = [2, 0]'),\n",
       " Text(0.5149501661129569, 0.5, 'X[7] <= 4983.5\\ngini = 0.48\\nsamples = 5\\nvalue = [3, 2]'),\n",
       " Text(0.5083056478405316, 0.4473684210526316, 'gini = 0.0\\nsamples = 2\\nvalue = [0, 2]'),\n",
       " Text(0.521594684385382, 0.4473684210526316, 'gini = 0.0\\nsamples = 3\\nvalue = [3, 0]'),\n",
       " Text(0.5598006644518272, 0.5526315789473685, 'X[7] <= 5973.0\\ngini = 0.32\\nsamples = 45\\nvalue = [36, 9]'),\n",
       " Text(0.5415282392026578, 0.5, 'X[4] <= 84.5\\ngini = 0.444\\nsamples = 6\\nvalue = [2, 4]'),\n",
       " Text(0.5348837209302325, 0.4473684210526316, 'gini = 0.0\\nsamples = 4\\nvalue = [0, 4]'),\n",
       " Text(0.5481727574750831, 0.4473684210526316, 'gini = 0.0\\nsamples = 2\\nvalue = [2, 0]'),\n",
       " Text(0.5780730897009967, 0.5, 'X[15] <= 2.5\\ngini = 0.224\\nsamples = 39\\nvalue = [34, 5]'),\n",
       " Text(0.5614617940199336, 0.4473684210526316, 'X[1] <= 459.5\\ngini = 0.5\\nsamples = 6\\nvalue = [3, 3]'),\n",
       " Text(0.5548172757475083, 0.39473684210526316, 'gini = 0.0\\nsamples = 3\\nvalue = [0, 3]'),\n",
       " Text(0.5681063122923588, 0.39473684210526316, 'gini = 0.0\\nsamples = 3\\nvalue = [3, 0]'),\n",
       " Text(0.5946843853820598, 0.4473684210526316, 'X[0] <= 49.0\\ngini = 0.114\\nsamples = 33\\nvalue = [31, 2]'),\n",
       " Text(0.5813953488372093, 0.39473684210526316, 'X[10] <= 12.5\\ngini = 0.062\\nsamples = 31\\nvalue = [30, 1]'),\n",
       " Text(0.574750830564784, 0.34210526315789475, 'X[4] <= 67.0\\ngini = 0.278\\nsamples = 6\\nvalue = [5, 1]'),\n",
       " Text(0.5681063122923588, 0.2894736842105263, 'gini = 0.0\\nsamples = 5\\nvalue = [5, 0]'),\n",
       " Text(0.5813953488372093, 0.2894736842105263, 'gini = 0.0\\nsamples = 1\\nvalue = [0, 1]'),\n",
       " Text(0.5880398671096345, 0.34210526315789475, 'gini = 0.0\\nsamples = 25\\nvalue = [25, 0]'),\n",
       " Text(0.6079734219269103, 0.39473684210526316, 'X[1] <= 353.5\\ngini = 0.5\\nsamples = 2\\nvalue = [1, 1]'),\n",
       " Text(0.6013289036544851, 0.34210526315789475, 'gini = 0.0\\nsamples = 1\\nvalue = [1, 0]'),\n",
       " Text(0.6146179401993356, 0.34210526315789475, 'gini = 0.0\\nsamples = 1\\nvalue = [0, 1]'),\n",
       " Text(0.542358803986711, 0.6052631578947368, 'gini = 0.0\\nsamples = 1\\nvalue = [0, 1]'),\n",
       " Text(0.5490033222591362, 0.6578947368421053, 'gini = 0.0\\nsamples = 39\\nvalue = [39, 0]'),\n",
       " Text(0.627906976744186, 0.7105263157894737, 'X[12] <= 2.5\\ngini = 0.412\\nsamples = 31\\nvalue = [22, 9]'),\n",
       " Text(0.6112956810631229, 0.6578947368421053, 'X[8] <= 12484.5\\ngini = 0.494\\nsamples = 9\\nvalue = [4, 5]'),\n",
       " Text(0.6046511627906976, 0.6052631578947368, 'X[0] <= 36.5\\ngini = 0.444\\nsamples = 6\\nvalue = [4, 2]'),\n",
       " Text(0.5980066445182725, 0.5526315789473685, 'X[12] <= 1.5\\ngini = 0.444\\nsamples = 3\\nvalue = [1, 2]'),\n",
       " Text(0.5913621262458472, 0.5, 'gini = 0.0\\nsamples = 1\\nvalue = [1, 0]'),\n",
       " Text(0.6046511627906976, 0.5, 'gini = 0.0\\nsamples = 2\\nvalue = [0, 2]'),\n",
       " Text(0.6112956810631229, 0.5526315789473685, 'gini = 0.0\\nsamples = 3\\nvalue = [3, 0]'),\n",
       " Text(0.6179401993355482, 0.6052631578947368, 'gini = 0.0\\nsamples = 3\\nvalue = [0, 3]'),\n",
       " Text(0.6445182724252492, 0.6578947368421053, 'X[14] <= 8.5\\ngini = 0.298\\nsamples = 22\\nvalue = [18, 4]'),\n",
       " Text(0.6312292358803987, 0.6052631578947368, 'X[0] <= 27.5\\ngini = 0.444\\nsamples = 3\\nvalue = [1, 2]'),\n",
       " Text(0.6245847176079734, 0.5526315789473685, 'gini = 0.0\\nsamples = 1\\nvalue = [1, 0]'),\n",
       " Text(0.6378737541528239, 0.5526315789473685, 'gini = 0.0\\nsamples = 2\\nvalue = [0, 2]'),\n",
       " Text(0.6578073089700996, 0.6052631578947368, 'X[7] <= 13549.5\\ngini = 0.188\\nsamples = 19\\nvalue = [17, 2]'),\n",
       " Text(0.6511627906976745, 0.5526315789473685, 'X[10] <= 21.5\\ngini = 0.105\\nsamples = 18\\nvalue = [17, 1]'),\n",
       " Text(0.6445182724252492, 0.5, 'gini = 0.0\\nsamples = 16\\nvalue = [16, 0]'),\n",
       " Text(0.6578073089700996, 0.5, 'X[3] <= 0.5\\ngini = 0.5\\nsamples = 2\\nvalue = [1, 1]'),\n",
       " Text(0.6511627906976745, 0.4473684210526316, 'gini = 0.0\\nsamples = 1\\nvalue = [1, 0]'),\n",
       " Text(0.6644518272425249, 0.4473684210526316, 'gini = 0.0\\nsamples = 1\\nvalue = [0, 1]'),\n",
       " Text(0.6644518272425249, 0.5526315789473685, 'gini = 0.0\\nsamples = 1\\nvalue = [0, 1]'),\n",
       " Text(0.707641196013289, 0.7631578947368421, 'X[15] <= 2.5\\ngini = 0.419\\nsamples = 87\\nvalue = [61, 26]'),\n",
       " Text(0.6910299003322259, 0.7105263157894737, 'X[4] <= 85.5\\ngini = 0.5\\nsamples = 30\\nvalue = [15, 15]'),\n",
       " Text(0.6777408637873754, 0.6578947368421053, 'X[7] <= 5153.5\\ngini = 0.463\\nsamples = 22\\nvalue = [8, 14]'),\n",
       " Text(0.6710963455149501, 0.6052631578947368, 'gini = 0.0\\nsamples = 3\\nvalue = [3, 0]'),\n",
       " Text(0.6843853820598007, 0.6052631578947368, 'X[8] <= 14338.5\\ngini = 0.388\\nsamples = 19\\nvalue = [5, 14]'),\n",
       " Text(0.6777408637873754, 0.5526315789473685, 'X[10] <= 12.5\\ngini = 0.5\\nsamples = 10\\nvalue = [5, 5]'),\n",
       " Text(0.6710963455149501, 0.5, 'gini = 0.0\\nsamples = 4\\nvalue = [4, 0]'),\n",
       " Text(0.6843853820598007, 0.5, 'X[9] <= 3.5\\ngini = 0.278\\nsamples = 6\\nvalue = [1, 5]'),\n",
       " Text(0.6777408637873754, 0.4473684210526316, 'gini = 0.0\\nsamples = 5\\nvalue = [0, 5]'),\n",
       " Text(0.6910299003322259, 0.4473684210526316, 'gini = 0.0\\nsamples = 1\\nvalue = [1, 0]'),\n",
       " Text(0.6910299003322259, 0.5526315789473685, 'gini = 0.0\\nsamples = 9\\nvalue = [0, 9]'),\n",
       " Text(0.7043189368770764, 0.6578947368421053, 'X[1] <= 1457.0\\ngini = 0.219\\nsamples = 8\\nvalue = [7, 1]'),\n",
       " Text(0.6976744186046512, 0.6052631578947368, 'gini = 0.0\\nsamples = 7\\nvalue = [7, 0]'),\n",
       " Text(0.7109634551495017, 0.6052631578947368, 'gini = 0.0\\nsamples = 1\\nvalue = [0, 1]'),\n",
       " Text(0.7242524916943521, 0.7105263157894737, 'X[8] <= 8502.0\\ngini = 0.311\\nsamples = 57\\nvalue = [46, 11]'),\n",
       " Text(0.717607973421927, 0.6578947368421053, 'gini = 0.0\\nsamples = 15\\nvalue = [15, 0]'),\n",
       " Text(0.7308970099667774, 0.6578947368421053, 'X[0] <= 28.0\\ngini = 0.387\\nsamples = 42\\nvalue = [31, 11]'),\n",
       " Text(0.7242524916943521, 0.6052631578947368, 'gini = 0.0\\nsamples = 2\\nvalue = [0, 2]'),\n",
       " Text(0.7375415282392026, 0.6052631578947368, 'X[1] <= 1418.5\\ngini = 0.349\\nsamples = 40\\nvalue = [31, 9]'),\n",
       " Text(0.7308970099667774, 0.5526315789473685, 'X[7] <= 6365.5\\ngini = 0.301\\nsamples = 38\\nvalue = [31, 7]'),\n",
       " Text(0.7242524916943521, 0.5, 'gini = 0.0\\nsamples = 18\\nvalue = [18, 0]'),\n",
       " Text(0.7375415282392026, 0.5, 'X[4] <= 42.0\\ngini = 0.455\\nsamples = 20\\nvalue = [13, 7]'),\n",
       " Text(0.7308970099667774, 0.4473684210526316, 'gini = 0.0\\nsamples = 2\\nvalue = [0, 2]'),\n",
       " Text(0.7441860465116279, 0.4473684210526316, 'X[0] <= 45.5\\ngini = 0.401\\nsamples = 18\\nvalue = [13, 5]'),\n",
       " Text(0.7308970099667774, 0.39473684210526316, 'X[10] <= 16.0\\ngini = 0.18\\nsamples = 10\\nvalue = [9, 1]'),\n",
       " Text(0.7242524916943521, 0.34210526315789475, 'gini = 0.0\\nsamples = 8\\nvalue = [8, 0]'),\n",
       " Text(0.7375415282392026, 0.34210526315789475, 'X[11] <= 7.0\\ngini = 0.5\\nsamples = 2\\nvalue = [1, 1]'),\n",
       " Text(0.7308970099667774, 0.2894736842105263, 'gini = 0.0\\nsamples = 1\\nvalue = [1, 0]'),\n",
       " Text(0.7441860465116279, 0.2894736842105263, 'gini = 0.0\\nsamples = 1\\nvalue = [0, 1]'),\n",
       " Text(0.7574750830564784, 0.39473684210526316, 'X[10] <= 13.0\\ngini = 0.5\\nsamples = 8\\nvalue = [4, 4]'),\n",
       " Text(0.7508305647840532, 0.34210526315789475, 'gini = 0.0\\nsamples = 3\\nvalue = [0, 3]'),\n",
       " Text(0.7641196013289037, 0.34210526315789475, 'X[9] <= 3.5\\ngini = 0.32\\nsamples = 5\\nvalue = [4, 1]'),\n",
       " Text(0.7574750830564784, 0.2894736842105263, 'gini = 0.0\\nsamples = 4\\nvalue = [4, 0]'),\n",
       " Text(0.770764119601329, 0.2894736842105263, 'gini = 0.0\\nsamples = 1\\nvalue = [0, 1]'),\n",
       " Text(0.7441860465116279, 0.5526315789473685, 'gini = 0.0\\nsamples = 2\\nvalue = [0, 2]'),\n",
       " Text(0.8204163205980066, 0.8157894736842105, 'X[14] <= 38.5\\ngini = 0.1\\nsamples = 472\\nvalue = [447, 25]'),\n",
       " Text(0.8137718023255814, 0.7631578947368421, 'X[0] <= 22.5\\ngini = 0.093\\nsamples = 470\\nvalue = [447, 23]'),\n",
       " Text(0.7807308970099668, 0.7105263157894737, 'X[4] <= 33.5\\ngini = 0.5\\nsamples = 2\\nvalue = [1, 1]'),\n",
       " Text(0.7740863787375415, 0.6578947368421053, 'gini = 0.0\\nsamples = 1\\nvalue = [1, 0]'),\n",
       " Text(0.7873754152823921, 0.6578947368421053, 'gini = 0.0\\nsamples = 1\\nvalue = [0, 1]'),\n",
       " Text(0.846812707641196, 0.7105263157894737, 'X[7] <= 2109.5\\ngini = 0.09\\nsamples = 468\\nvalue = [446, 22]'),\n",
       " Text(0.8006644518272426, 0.6578947368421053, 'X[0] <= 41.5\\ngini = 0.5\\nsamples = 2\\nvalue = [1, 1]'),\n",
       " Text(0.7940199335548173, 0.6052631578947368, 'gini = 0.0\\nsamples = 1\\nvalue = [0, 1]'),\n",
       " Text(0.8073089700996677, 0.6052631578947368, 'gini = 0.0\\nsamples = 1\\nvalue = [1, 0]'),\n",
       " Text(0.8929609634551495, 0.6578947368421053, 'X[2] <= 1.5\\ngini = 0.086\\nsamples = 466\\nvalue = [445, 21]'),\n",
       " Text(0.8205980066445183, 0.6052631578947368, 'X[12] <= 1.5\\ngini = 0.193\\nsamples = 83\\nvalue = [74, 9]'),\n",
       " Text(0.813953488372093, 0.5526315789473685, 'gini = 0.0\\nsamples = 2\\nvalue = [0, 2]'),\n",
       " Text(0.8272425249169435, 0.5526315789473685, 'X[5] <= 4.5\\ngini = 0.158\\nsamples = 81\\nvalue = [74, 7]'),\n",
       " Text(0.8205980066445183, 0.5, 'X[7] <= 7878.5\\ngini = 0.233\\nsamples = 52\\nvalue = [45, 7]'),\n",
       " Text(0.7973421926910299, 0.4473684210526316, 'X[10] <= 19.0\\ngini = 0.136\\nsamples = 41\\nvalue = [38, 3]'),\n",
       " Text(0.7840531561461794, 0.39473684210526316, 'X[11] <= 6.5\\ngini = 0.056\\nsamples = 35\\nvalue = [34, 1]'),\n",
       " Text(0.7774086378737541, 0.34210526315789475, 'gini = 0.0\\nsamples = 32\\nvalue = [32, 0]'),\n",
       " Text(0.7906976744186046, 0.34210526315789475, 'X[14] <= 9.5\\ngini = 0.444\\nsamples = 3\\nvalue = [2, 1]'),\n",
       " Text(0.7840531561461794, 0.2894736842105263, 'gini = 0.0\\nsamples = 1\\nvalue = [0, 1]'),\n",
       " Text(0.7973421926910299, 0.2894736842105263, 'gini = 0.0\\nsamples = 2\\nvalue = [2, 0]'),\n",
       " Text(0.8106312292358804, 0.39473684210526316, 'X[12] <= 2.5\\ngini = 0.444\\nsamples = 6\\nvalue = [4, 2]'),\n",
       " Text(0.8039867109634552, 0.34210526315789475, 'gini = 0.0\\nsamples = 2\\nvalue = [0, 2]'),\n",
       " Text(0.8172757475083057, 0.34210526315789475, 'gini = 0.0\\nsamples = 4\\nvalue = [4, 0]'),\n",
       " Text(0.8438538205980066, 0.4473684210526316, 'X[1] <= 641.0\\ngini = 0.463\\nsamples = 11\\nvalue = [7, 4]'),\n",
       " Text(0.8372093023255814, 0.39473684210526316, 'X[8] <= 9593.5\\ngini = 0.32\\nsamples = 5\\nvalue = [1, 4]'),\n",
       " Text(0.8305647840531561, 0.34210526315789475, 'gini = 0.0\\nsamples = 1\\nvalue = [1, 0]'),\n",
       " Text(0.8438538205980066, 0.34210526315789475, 'gini = 0.0\\nsamples = 4\\nvalue = [0, 4]'),\n",
       " Text(0.8504983388704319, 0.39473684210526316, 'gini = 0.0\\nsamples = 6\\nvalue = [6, 0]'),\n",
       " Text(0.8338870431893688, 0.5, 'gini = 0.0\\nsamples = 29\\nvalue = [29, 0]'),\n",
       " Text(0.9653239202657807, 0.6052631578947368, 'X[5] <= 7.5\\ngini = 0.061\\nsamples = 383\\nvalue = [371, 12]'),\n",
       " Text(0.9439368770764119, 0.5526315789473685, 'X[4] <= 99.5\\ngini = 0.052\\nsamples = 373\\nvalue = [363, 10]'),\n",
       " Text(0.9210963455149501, 0.5, 'X[7] <= 19846.0\\ngini = 0.047\\nsamples = 370\\nvalue = [361, 9]'),\n",
       " Text(0.8953488372093024, 0.4473684210526316, 'X[1] <= 340.0\\ngini = 0.043\\nsamples = 366\\nvalue = [358, 8]'),\n",
       " Text(0.8637873754152824, 0.39473684210526316, 'X[1] <= 335.5\\ngini = 0.131\\nsamples = 57\\nvalue = [53, 4]'),\n",
       " Text(0.8571428571428571, 0.34210526315789475, 'X[4] <= 91.0\\ngini = 0.101\\nsamples = 56\\nvalue = [53, 3]'),\n",
       " Text(0.8438538205980066, 0.2894736842105263, 'X[10] <= 21.5\\ngini = 0.039\\nsamples = 50\\nvalue = [49, 1]'),\n",
       " Text(0.8372093023255814, 0.23684210526315788, 'gini = 0.0\\nsamples = 48\\nvalue = [48, 0]'),\n",
       " Text(0.8504983388704319, 0.23684210526315788, 'X[5] <= 5.5\\ngini = 0.5\\nsamples = 2\\nvalue = [1, 1]'),\n",
       " Text(0.8438538205980066, 0.18421052631578946, 'gini = 0.0\\nsamples = 1\\nvalue = [0, 1]'),\n",
       " Text(0.8571428571428571, 0.18421052631578946, 'gini = 0.0\\nsamples = 1\\nvalue = [1, 0]'),\n",
       " Text(0.8704318936877077, 0.2894736842105263, 'X[5] <= 3.5\\ngini = 0.444\\nsamples = 6\\nvalue = [4, 2]'),\n",
       " Text(0.8637873754152824, 0.23684210526315788, 'gini = 0.0\\nsamples = 2\\nvalue = [0, 2]'),\n",
       " Text(0.8770764119601329, 0.23684210526315788, 'gini = 0.0\\nsamples = 4\\nvalue = [4, 0]'),\n",
       " Text(0.8704318936877077, 0.34210526315789475, 'gini = 0.0\\nsamples = 1\\nvalue = [0, 1]'),\n",
       " Text(0.9269102990033222, 0.39473684210526316, 'X[7] <= 19531.0\\ngini = 0.026\\nsamples = 309\\nvalue = [305, 4]'),\n",
       " Text(0.9102990033222591, 0.34210526315789475, 'X[0] <= 57.5\\ngini = 0.02\\nsamples = 301\\nvalue = [298, 3]'),\n",
       " Text(0.8970099667774086, 0.2894736842105263, 'X[7] <= 4969.5\\ngini = 0.014\\nsamples = 293\\nvalue = [291, 2]'),\n",
       " Text(0.8903654485049833, 0.23684210526315788, 'X[7] <= 4879.5\\ngini = 0.063\\nsamples = 61\\nvalue = [59, 2]'),\n",
       " Text(0.8837209302325582, 0.18421052631578946, 'gini = 0.0\\nsamples = 58\\nvalue = [58, 0]'),\n",
       " Text(0.8970099667774086, 0.18421052631578946, 'X[11] <= 0.5\\ngini = 0.444\\nsamples = 3\\nvalue = [1, 2]'),\n",
       " Text(0.8903654485049833, 0.13157894736842105, 'gini = 0.0\\nsamples = 1\\nvalue = [1, 0]'),\n",
       " Text(0.9036544850498339, 0.13157894736842105, 'gini = 0.0\\nsamples = 2\\nvalue = [0, 2]'),\n",
       " Text(0.9036544850498339, 0.23684210526315788, 'gini = 0.0\\nsamples = 232\\nvalue = [232, 0]'),\n",
       " Text(0.9235880398671097, 0.2894736842105263, 'X[6] <= 1.5\\ngini = 0.219\\nsamples = 8\\nvalue = [7, 1]'),\n",
       " Text(0.9169435215946844, 0.23684210526315788, 'gini = 0.0\\nsamples = 1\\nvalue = [0, 1]'),\n",
       " Text(0.9302325581395349, 0.23684210526315788, 'gini = 0.0\\nsamples = 7\\nvalue = [7, 0]'),\n",
       " Text(0.9435215946843853, 0.34210526315789475, 'X[7] <= 19579.0\\ngini = 0.219\\nsamples = 8\\nvalue = [7, 1]'),\n",
       " Text(0.9368770764119602, 0.2894736842105263, 'gini = 0.0\\nsamples = 1\\nvalue = [0, 1]'),\n",
       " Text(0.9501661129568106, 0.2894736842105263, 'gini = 0.0\\nsamples = 7\\nvalue = [7, 0]'),\n",
       " Text(0.946843853820598, 0.4473684210526316, 'X[7] <= 19892.5\\ngini = 0.375\\nsamples = 4\\nvalue = [3, 1]'),\n",
       " Text(0.9401993355481728, 0.39473684210526316, 'gini = 0.0\\nsamples = 1\\nvalue = [0, 1]'),\n",
       " Text(0.9534883720930233, 0.39473684210526316, 'gini = 0.0\\nsamples = 3\\nvalue = [3, 0]'),\n",
       " Text(0.9667774086378738, 0.5, 'X[14] <= 13.5\\ngini = 0.444\\nsamples = 3\\nvalue = [2, 1]'),\n",
       " Text(0.9601328903654485, 0.4473684210526316, 'gini = 0.0\\nsamples = 1\\nvalue = [0, 1]'),\n",
       " Text(0.973421926910299, 0.4473684210526316, 'gini = 0.0\\nsamples = 2\\nvalue = [2, 0]'),\n",
       " Text(0.9867109634551495, 0.5526315789473685, 'X[6] <= 1.5\\ngini = 0.32\\nsamples = 10\\nvalue = [8, 2]'),\n",
       " Text(0.9800664451827242, 0.5, 'gini = 0.0\\nsamples = 2\\nvalue = [0, 2]'),\n",
       " Text(0.9933554817275747, 0.5, 'gini = 0.0\\nsamples = 8\\nvalue = [8, 0]'),\n",
       " Text(0.8270608388704319, 0.7631578947368421, 'gini = 0.0\\nsamples = 2\\nvalue = [0, 2]')]"
      ]
     },
     "execution_count": 338,
     "metadata": {},
     "output_type": "execute_result"
    },
    {
     "data": {
      "image/png": "[encoded data removed]",
      "text/plain": [
       "<Figure size 640x480 with 1 Axes>"
      ]
     },
     "metadata": {},
     "output_type": "display_data"
    }
   ],
   "source": [
    "tree.plot_tree(c)"
   ]
  },
  {
   "cell_type": "code",
   "execution_count": null,
   "id": "ff329648",
   "metadata": {},
   "outputs": [],
   "source": [
    "#Now,due to the presence of imbalanced dataset we need to look for the model that goes well for the imbalanced dataset or try either oversampling or undersampling technique"
   ]
  },
  {
   "cell_type": "markdown",
   "id": "9a952d04",
   "metadata": {},
   "source": [
    "# After Sampling"
   ]
  },
  {
   "cell_type": "code",
   "execution_count": 339,
   "id": "32a38a41",
   "metadata": {},
   "outputs": [],
   "source": [
    "yes=df[df['Attrition']==1]\n",
    "no=df[df['Attrition']==0]"
   ]
  },
  {
   "cell_type": "code",
   "execution_count": 340,
   "id": "0cfbc0b7",
   "metadata": {},
   "outputs": [
    {
     "data": {
      "text/plain": [
       "((1233, 35), (237, 35))"
      ]
     },
     "execution_count": 340,
     "metadata": {},
     "output_type": "execute_result"
    }
   ],
   "source": [
    "yes.shape,no.shape"
   ]
  },
  {
   "cell_type": "code",
   "execution_count": 349,
   "id": "9edaddde",
   "metadata": {},
   "outputs": [],
   "source": [
    "\n",
    "from imblearn.combine import SMOTETomek\n",
    "smk=SMOTETomek(random_state=42)\n",
    "\n",
    "x_res,y_res=smk.fit_resample(x,y)"
   ]
  },
  {
   "cell_type": "code",
   "execution_count": 342,
   "id": "b8deeb2f",
   "metadata": {},
   "outputs": [
    {
     "name": "stdout",
     "output_type": "stream",
     "text": [
      "(2326, 16) (2326,)\n"
     ]
    }
   ],
   "source": [
    "print(x_res.shape,y_res.shape)"
   ]
  },
  {
   "cell_type": "code",
   "execution_count": 343,
   "id": "72716967",
   "metadata": {},
   "outputs": [
    {
     "name": "stdout",
     "output_type": "stream",
     "text": [
      "Original data shape Counter({'No': 1233, 'Yes': 237})\n",
      "resampled data shape Counter({'Yes': 1163, 'No': 1163})\n"
     ]
    }
   ],
   "source": [
    "from collections import Counter\n",
    "print('Original data shape',format(Counter(y)))\n",
    "print('resampled data shape',format(Counter(y_res)))\n"
   ]
  },
  {
   "cell_type": "code",
   "execution_count": 344,
   "id": "9db2f389",
   "metadata": {},
   "outputs": [],
   "source": [
    "from sklearn.model_selection import train_test_split\n",
    "x_train,x_test,y_train,y_test=train_test_split(x_res,y_res,test_size=0.20,random_state=40)"
   ]
  },
  {
   "cell_type": "code",
   "execution_count": 345,
   "id": "41cd78f9",
   "metadata": {},
   "outputs": [],
   "source": [
    "from sklearn import tree\n",
    "clf = tree.DecisionTreeClassifier()\n",
    "c= clf.fit(x_train, y_train)"
   ]
  },
  {
   "cell_type": "code",
   "execution_count": 346,
   "id": "8b800ba6",
   "metadata": {},
   "outputs": [
    {
     "name": "stdout",
     "output_type": "stream",
     "text": [
      "Accuracy: 0.7918454935622318\n"
     ]
    }
   ],
   "source": [
    "y_pred=c.predict(x_test)\n",
    "from sklearn.metrics import accuracy_score\n",
    "print(\"Accuracy:\",accuracy_score(y_test,y_pred))"
   ]
  },
  {
   "cell_type": "markdown",
   "id": "29ec3312",
   "metadata": {},
   "source": [
    "# NaiveBayes"
   ]
  },
  {
   "cell_type": "code",
   "execution_count": 131,
   "id": "3736db94",
   "metadata": {},
   "outputs": [],
   "source": [
    "#for performing naive bayes we need to perform scaling"
   ]
  },
  {
   "cell_type": "code",
   "execution_count": 350,
   "id": "54201886",
   "metadata": {},
   "outputs": [
    {
     "data": {
      "text/plain": [
       "array([[ 0.69194288,  0.84660875, -0.45457791, ...,  0.57268494,\n",
       "        -0.01573167, -1.99108632],\n",
       "       [ 1.42141605, -1.36901773,  0.48152248, ...,  0.57268494,\n",
       "         0.27201001,  0.49499461],\n",
       "       [ 0.27890037,  1.45222639,  1.37944958, ..., -0.98235288,\n",
       "        -0.1781569 ,  0.49499461],\n",
       "       ...,\n",
       "       [ 0.59211563,  0.7724964 , -1.4446267 , ..., -0.98235288,\n",
       "        -0.01573167, -0.88965143],\n",
       "       [-0.54873213, -0.38263407, -1.4446267 , ..., -0.98235288,\n",
       "        -0.78164269,  0.49499461],\n",
       "       [-1.73213363, -1.22003377, -0.45457791, ..., -0.98235288,\n",
       "        -1.36343815, -0.88965143]])"
      ]
     },
     "execution_count": 350,
     "metadata": {},
     "output_type": "execute_result"
    }
   ],
   "source": [
    "#using power transformer in order to deal with outliers and skewness.\n",
    "#PowerTransformer applies a power transformation to each feature to make the data more\n",
    "#Gaussian-like in order to stabilize variance and minimize skewness.\n",
    "from sklearn.preprocessing import PowerTransformer \n",
    "pt = PowerTransformer()\n",
    "pt.fit_transform(x_res,y_res)"
   ]
  },
  {
   "cell_type": "code",
   "execution_count": 296,
   "id": "18882c5d",
   "metadata": {},
   "outputs": [],
   "source": [
    "from sklearn.model_selection import train_test_split\n",
    "x_train,x_test,y_train,y_test=train_test_split(x_res,y_res,test_size=0.20,random_state=40)"
   ]
  },
  {
   "cell_type": "code",
   "execution_count": 297,
   "id": "a48108e9",
   "metadata": {},
   "outputs": [],
   "source": [
    "from sklearn.naive_bayes import GaussianNB\n",
    "gnb = GaussianNB()"
   ]
  },
  {
   "cell_type": "code",
   "execution_count": 298,
   "id": "068bb78c",
   "metadata": {},
   "outputs": [],
   "source": [
    "y_pred = gnb.fit(x_train, y_train).predict(x_test)"
   ]
  },
  {
   "cell_type": "code",
   "execution_count": 299,
   "id": "f9be1953",
   "metadata": {},
   "outputs": [
    {
     "name": "stdout",
     "output_type": "stream",
     "text": [
      "Accuracy: 0.6952789699570815\n"
     ]
    }
   ],
   "source": [
    "from sklearn.metrics import accuracy_score\n",
    "print(\"Accuracy:\",accuracy_score(y_test,y_pred))"
   ]
  },
  {
   "cell_type": "code",
   "execution_count": 300,
   "id": "ca031322",
   "metadata": {},
   "outputs": [],
   "source": [
    "#now performing the testing inorder to find out the model is correctly predicting or not"
   ]
  },
  {
   "cell_type": "code",
   "execution_count": 301,
   "id": "9c6d0d3c",
   "metadata": {},
   "outputs": [
    {
     "name": "stderr",
     "output_type": "stream",
     "text": [
      "C:\\python310\\lib\\site-packages\\sklearn\\base.py:450: UserWarning: X does not have valid feature names, but GaussianNB was fitted with feature names\n",
      "  warnings.warn(\n"
     ]
    }
   ],
   "source": [
    "input=pt.fit_transform([[41,1102,2,0,94,0,4,5993,19479,3,11,8,3,2,8,1]])\n",
    "output=gnb.predict(input)"
   ]
  },
  {
   "cell_type": "code",
   "execution_count": 302,
   "id": "c61b62a7",
   "metadata": {},
   "outputs": [
    {
     "data": {
      "text/plain": [
       "array(['No'], dtype='<U3')"
      ]
     },
     "execution_count": 302,
     "metadata": {},
     "output_type": "execute_result"
    }
   ],
   "source": [
    "output"
   ]
  },
  {
   "cell_type": "markdown",
   "id": "22aecae7",
   "metadata": {},
   "source": [
    "# PERFORMING SVC"
   ]
  },
  {
   "cell_type": "code",
   "execution_count": 351,
   "id": "7ee44c96",
   "metadata": {},
   "outputs": [],
   "source": [
    "from sklearn.svm import SVC"
   ]
  },
  {
   "cell_type": "code",
   "execution_count": 352,
   "id": "c1e26314",
   "metadata": {},
   "outputs": [],
   "source": [
    "from sklearn.model_selection import train_test_split\n",
    "x_train,x_test,y_train,y_test=train_test_split(x_res,y_res,test_size=0.20,random_state=40)"
   ]
  },
  {
   "cell_type": "code",
   "execution_count": 356,
   "id": "8d322f3d",
   "metadata": {},
   "outputs": [],
   "source": [
    "from sklearn.metrics import accuracy_score\n",
    "cf=SVC(kernel='linear')"
   ]
  },
  {
   "cell_type": "code",
   "execution_count": null,
   "id": "0e0699f4",
   "metadata": {},
   "outputs": [],
   "source": [
    "cf.fit(x_train,y_train)\n",
    "y_pred1=cf.predict(x_test)\n",
    "print(\"Accuracy:\",accuracy_score(y_test,y_pred1))"
   ]
  },
  {
   "cell_type": "markdown",
   "id": "3a4ebb8b",
   "metadata": {},
   "source": [
    "# According to the above metrics we can conclude that Decision Tree is performing well on the dataset"
   ]
  },
  {
   "cell_type": "code",
   "execution_count": null,
   "id": "3e8f7db0",
   "metadata": {},
   "outputs": [],
   "source": []
  }
 ],
 "metadata": {
  "kernelspec": {
   "display_name": "Python 3 (ipykernel)",
   "language": "python",
   "name": "python3"
  },
  "language_info": {
   "codemirror_mode": {
    "name": "ipython",
    "version": 3
   },
   "file_extension": ".py",
   "mimetype": "text/x-python",
   "name": "python",
   "nbconvert_exporter": "python",
   "pygments_lexer": "ipython3",
   "version": "3.12.4"
  }
 },
 "nbformat": 4,
 "nbformat_minor": 5
}
