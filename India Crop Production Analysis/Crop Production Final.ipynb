{
 "cells": [
  {
   "cell_type": "code",
   "execution_count": 1,
   "metadata": {
    "executionInfo": {
     "elapsed": 910,
     "status": "ok",
     "timestamp": 1631783098492,
     "user": {
      "displayName": "Mirthula M",
      "photoUrl": "https://lh3.googleusercontent.com/a-/AOh14Gjzk08XC9_s634256p0qat8RQGnvbtNfsNxKmFxaw=s64",
      "userId": "12143112822111938694"
     },
     "user_tz": -330
    },
    "id": "Drow-37ZQHkF"
   },
   "outputs": [],
   "source": [
    "import numpy as np\n",
    "import pandas as pd\n",
    "import matplotlib.pyplot as plt\n",
    "%matplotlib inline\n",
    "import seaborn as sns"
   ]
  },
  {
   "cell_type": "code",
   "execution_count": 2,
   "metadata": {
    "executionInfo": {
     "elapsed": 388,
     "status": "ok",
     "timestamp": 1631783098877,
     "user": {
      "displayName": "Mirthula M",
      "photoUrl": "https://lh3.googleusercontent.com/a-/AOh14Gjzk08XC9_s634256p0qat8RQGnvbtNfsNxKmFxaw=s64",
      "userId": "12143112822111938694"
     },
     "user_tz": -330
    },
    "id": "uZ0mH5UhQaMy"
   },
   "outputs": [],
   "source": [
    "df=pd.read_csv(\"Crop_production.csv\")"
   ]
  },
  {
   "cell_type": "code",
   "execution_count": 3,
   "metadata": {
    "colab": {
     "base_uri": "https://localhost:8080/",
     "height": 203
    },
    "executionInfo": {
     "elapsed": 25,
     "status": "ok",
     "timestamp": 1631783098879,
     "user": {
      "displayName": "Mirthula M",
      "photoUrl": "https://lh3.googleusercontent.com/a-/AOh14Gjzk08XC9_s634256p0qat8RQGnvbtNfsNxKmFxaw=s64",
      "userId": "12143112822111938694"
     },
     "user_tz": -330
    },
    "id": "n3s04QG-QikC",
    "outputId": "0d1d1bc4-cefd-48ab-8d88-1fc43bd87ed2"
   },
   "outputs": [
    {
     "data": {
      "text/html": [
       "<div>\n",
       "<style scoped>\n",
       "    .dataframe tbody tr th:only-of-type {\n",
       "        vertical-align: middle;\n",
       "    }\n",
       "\n",
       "    .dataframe tbody tr th {\n",
       "        vertical-align: top;\n",
       "    }\n",
       "\n",
       "    .dataframe thead th {\n",
       "        text-align: right;\n",
       "    }\n",
       "</style>\n",
       "<table border=\"1\" class=\"dataframe\">\n",
       "  <thead>\n",
       "    <tr style=\"text-align: right;\">\n",
       "      <th></th>\n",
       "      <th>State_Name</th>\n",
       "      <th>District_Name</th>\n",
       "      <th>Crop_Year</th>\n",
       "      <th>Season</th>\n",
       "      <th>Crop</th>\n",
       "      <th>Area</th>\n",
       "      <th>Production</th>\n",
       "    </tr>\n",
       "  </thead>\n",
       "  <tbody>\n",
       "    <tr>\n",
       "      <th>0</th>\n",
       "      <td>Andaman and Nicobar Islands</td>\n",
       "      <td>NICOBARS</td>\n",
       "      <td>2000</td>\n",
       "      <td>Kharif</td>\n",
       "      <td>Arecanut</td>\n",
       "      <td>1254.0</td>\n",
       "      <td>2000.0</td>\n",
       "    </tr>\n",
       "    <tr>\n",
       "      <th>1</th>\n",
       "      <td>Andaman and Nicobar Islands</td>\n",
       "      <td>NICOBARS</td>\n",
       "      <td>2000</td>\n",
       "      <td>Kharif</td>\n",
       "      <td>Other Kharif pulses</td>\n",
       "      <td>2.0</td>\n",
       "      <td>1.0</td>\n",
       "    </tr>\n",
       "    <tr>\n",
       "      <th>2</th>\n",
       "      <td>Andaman and Nicobar Islands</td>\n",
       "      <td>NICOBARS</td>\n",
       "      <td>2000</td>\n",
       "      <td>Kharif</td>\n",
       "      <td>Rice</td>\n",
       "      <td>102.0</td>\n",
       "      <td>321.0</td>\n",
       "    </tr>\n",
       "    <tr>\n",
       "      <th>3</th>\n",
       "      <td>Andaman and Nicobar Islands</td>\n",
       "      <td>NICOBARS</td>\n",
       "      <td>2000</td>\n",
       "      <td>Whole Year</td>\n",
       "      <td>Banana</td>\n",
       "      <td>176.0</td>\n",
       "      <td>641.0</td>\n",
       "    </tr>\n",
       "    <tr>\n",
       "      <th>4</th>\n",
       "      <td>Andaman and Nicobar Islands</td>\n",
       "      <td>NICOBARS</td>\n",
       "      <td>2000</td>\n",
       "      <td>Whole Year</td>\n",
       "      <td>Cashewnut</td>\n",
       "      <td>720.0</td>\n",
       "      <td>165.0</td>\n",
       "    </tr>\n",
       "  </tbody>\n",
       "</table>\n",
       "</div>"
      ],
      "text/plain": [
       "                    State_Name District_Name  Crop_Year       Season  \\\n",
       "0  Andaman and Nicobar Islands      NICOBARS       2000  Kharif        \n",
       "1  Andaman and Nicobar Islands      NICOBARS       2000  Kharif        \n",
       "2  Andaman and Nicobar Islands      NICOBARS       2000  Kharif        \n",
       "3  Andaman and Nicobar Islands      NICOBARS       2000  Whole Year    \n",
       "4  Andaman and Nicobar Islands      NICOBARS       2000  Whole Year    \n",
       "\n",
       "                  Crop    Area  Production  \n",
       "0             Arecanut  1254.0      2000.0  \n",
       "1  Other Kharif pulses     2.0         1.0  \n",
       "2                 Rice   102.0       321.0  \n",
       "3               Banana   176.0       641.0  \n",
       "4            Cashewnut   720.0       165.0  "
      ]
     },
     "execution_count": 3,
     "metadata": {},
     "output_type": "execute_result"
    }
   ],
   "source": [
    "df.head()"
   ]
  },
  {
   "cell_type": "code",
   "execution_count": 4,
   "metadata": {
    "colab": {
     "base_uri": "https://localhost:8080/",
     "height": 203
    },
    "executionInfo": {
     "elapsed": 21,
     "status": "ok",
     "timestamp": 1631783098880,
     "user": {
      "displayName": "Mirthula M",
      "photoUrl": "https://lh3.googleusercontent.com/a-/AOh14Gjzk08XC9_s634256p0qat8RQGnvbtNfsNxKmFxaw=s64",
      "userId": "12143112822111938694"
     },
     "user_tz": -330
    },
    "id": "E2NtmJwCQkOS",
    "outputId": "fced6db5-c600-49f2-fe9e-8a8362225588"
   },
   "outputs": [
    {
     "data": {
      "text/html": [
       "<div>\n",
       "<style scoped>\n",
       "    .dataframe tbody tr th:only-of-type {\n",
       "        vertical-align: middle;\n",
       "    }\n",
       "\n",
       "    .dataframe tbody tr th {\n",
       "        vertical-align: top;\n",
       "    }\n",
       "\n",
       "    .dataframe thead th {\n",
       "        text-align: right;\n",
       "    }\n",
       "</style>\n",
       "<table border=\"1\" class=\"dataframe\">\n",
       "  <thead>\n",
       "    <tr style=\"text-align: right;\">\n",
       "      <th></th>\n",
       "      <th>State_Name</th>\n",
       "      <th>District_Name</th>\n",
       "      <th>Crop_Year</th>\n",
       "      <th>Season</th>\n",
       "      <th>Crop</th>\n",
       "      <th>Area</th>\n",
       "      <th>Production</th>\n",
       "    </tr>\n",
       "  </thead>\n",
       "  <tbody>\n",
       "    <tr>\n",
       "      <th>246086</th>\n",
       "      <td>West Bengal</td>\n",
       "      <td>PURULIA</td>\n",
       "      <td>2014</td>\n",
       "      <td>Summer</td>\n",
       "      <td>Rice</td>\n",
       "      <td>306.0</td>\n",
       "      <td>801.0</td>\n",
       "    </tr>\n",
       "    <tr>\n",
       "      <th>246087</th>\n",
       "      <td>West Bengal</td>\n",
       "      <td>PURULIA</td>\n",
       "      <td>2014</td>\n",
       "      <td>Summer</td>\n",
       "      <td>Sesamum</td>\n",
       "      <td>627.0</td>\n",
       "      <td>463.0</td>\n",
       "    </tr>\n",
       "    <tr>\n",
       "      <th>246088</th>\n",
       "      <td>West Bengal</td>\n",
       "      <td>PURULIA</td>\n",
       "      <td>2014</td>\n",
       "      <td>Whole Year</td>\n",
       "      <td>Sugarcane</td>\n",
       "      <td>324.0</td>\n",
       "      <td>16250.0</td>\n",
       "    </tr>\n",
       "    <tr>\n",
       "      <th>246089</th>\n",
       "      <td>West Bengal</td>\n",
       "      <td>PURULIA</td>\n",
       "      <td>2014</td>\n",
       "      <td>Winter</td>\n",
       "      <td>Rice</td>\n",
       "      <td>279151.0</td>\n",
       "      <td>597899.0</td>\n",
       "    </tr>\n",
       "    <tr>\n",
       "      <th>246090</th>\n",
       "      <td>West Bengal</td>\n",
       "      <td>PURULIA</td>\n",
       "      <td>2014</td>\n",
       "      <td>Winter</td>\n",
       "      <td>Sesamum</td>\n",
       "      <td>175.0</td>\n",
       "      <td>88.0</td>\n",
       "    </tr>\n",
       "  </tbody>\n",
       "</table>\n",
       "</div>"
      ],
      "text/plain": [
       "         State_Name District_Name  Crop_Year       Season       Crop  \\\n",
       "246086  West Bengal       PURULIA       2014  Summer            Rice   \n",
       "246087  West Bengal       PURULIA       2014  Summer         Sesamum   \n",
       "246088  West Bengal       PURULIA       2014  Whole Year   Sugarcane   \n",
       "246089  West Bengal       PURULIA       2014  Winter            Rice   \n",
       "246090  West Bengal       PURULIA       2014  Winter         Sesamum   \n",
       "\n",
       "            Area  Production  \n",
       "246086     306.0       801.0  \n",
       "246087     627.0       463.0  \n",
       "246088     324.0     16250.0  \n",
       "246089  279151.0    597899.0  \n",
       "246090     175.0        88.0  "
      ]
     },
     "execution_count": 4,
     "metadata": {},
     "output_type": "execute_result"
    }
   ],
   "source": [
    "df.tail()"
   ]
  },
  {
   "cell_type": "code",
   "execution_count": 5,
   "metadata": {
    "colab": {
     "base_uri": "https://localhost:8080/"
    },
    "executionInfo": {
     "elapsed": 25,
     "status": "ok",
     "timestamp": 1631783098885,
     "user": {
      "displayName": "Mirthula M",
      "photoUrl": "https://lh3.googleusercontent.com/a-/AOh14Gjzk08XC9_s634256p0qat8RQGnvbtNfsNxKmFxaw=s64",
      "userId": "12143112822111938694"
     },
     "user_tz": -330
    },
    "id": "Br36qXgfRSng",
    "outputId": "7665f514-f338-498a-b88f-aaa42527a4a5"
   },
   "outputs": [
    {
     "name": "stdout",
     "output_type": "stream",
     "text": [
      "<class 'pandas.core.frame.DataFrame'>\n",
      "RangeIndex: 246091 entries, 0 to 246090\n",
      "Data columns (total 7 columns):\n",
      " #   Column         Non-Null Count   Dtype  \n",
      "---  ------         --------------   -----  \n",
      " 0   State_Name     246091 non-null  object \n",
      " 1   District_Name  246091 non-null  object \n",
      " 2   Crop_Year      246091 non-null  int64  \n",
      " 3   Season         246091 non-null  object \n",
      " 4   Crop           246091 non-null  object \n",
      " 5   Area           246091 non-null  float64\n",
      " 6   Production     242361 non-null  float64\n",
      "dtypes: float64(2), int64(1), object(4)\n",
      "memory usage: 13.1+ MB\n"
     ]
    }
   ],
   "source": [
    "df.info()"
   ]
  },
  {
   "cell_type": "code",
   "execution_count": 6,
   "metadata": {
    "colab": {
     "base_uri": "https://localhost:8080/"
    },
    "executionInfo": {
     "elapsed": 24,
     "status": "ok",
     "timestamp": 1631783098887,
     "user": {
      "displayName": "Mirthula M",
      "photoUrl": "https://lh3.googleusercontent.com/a-/AOh14Gjzk08XC9_s634256p0qat8RQGnvbtNfsNxKmFxaw=s64",
      "userId": "12143112822111938694"
     },
     "user_tz": -330
    },
    "id": "wykX_MR4Qm4t",
    "outputId": "ca977d69-be57-455c-900b-885db11f10ef"
   },
   "outputs": [
    {
     "data": {
      "text/plain": [
       "State_Name        object\n",
       "District_Name     object\n",
       "Crop_Year          int64\n",
       "Season            object\n",
       "Crop              object\n",
       "Area             float64\n",
       "Production       float64\n",
       "dtype: object"
      ]
     },
     "execution_count": 6,
     "metadata": {},
     "output_type": "execute_result"
    }
   ],
   "source": [
    "df.dtypes"
   ]
  },
  {
   "cell_type": "code",
   "execution_count": 7,
   "metadata": {
    "colab": {
     "base_uri": "https://localhost:8080/"
    },
    "executionInfo": {
     "elapsed": 23,
     "status": "ok",
     "timestamp": 1631783098888,
     "user": {
      "displayName": "Mirthula M",
      "photoUrl": "https://lh3.googleusercontent.com/a-/AOh14Gjzk08XC9_s634256p0qat8RQGnvbtNfsNxKmFxaw=s64",
      "userId": "12143112822111938694"
     },
     "user_tz": -330
    },
    "id": "cuyfB8hcS5Jm",
    "outputId": "16c22b28-ea4e-4ed4-aa05-7867e94427f4"
   },
   "outputs": [
    {
     "data": {
      "text/plain": [
       "(246091, 7)"
      ]
     },
     "execution_count": 7,
     "metadata": {},
     "output_type": "execute_result"
    }
   ],
   "source": [
    "df.shape"
   ]
  },
  {
   "cell_type": "code",
   "execution_count": 8,
   "metadata": {
    "colab": {
     "base_uri": "https://localhost:8080/"
    },
    "executionInfo": {
     "elapsed": 21,
     "status": "ok",
     "timestamp": 1631783098888,
     "user": {
      "displayName": "Mirthula M",
      "photoUrl": "https://lh3.googleusercontent.com/a-/AOh14Gjzk08XC9_s634256p0qat8RQGnvbtNfsNxKmFxaw=s64",
      "userId": "12143112822111938694"
     },
     "user_tz": -330
    },
    "id": "vib8Qm2JQqUX",
    "outputId": "9293f176-08a1-4ed5-fd8f-ed4c15b716a5"
   },
   "outputs": [
    {
     "data": {
      "text/plain": [
       "State_Name       False\n",
       "District_Name    False\n",
       "Crop_Year        False\n",
       "Season           False\n",
       "Crop             False\n",
       "Area             False\n",
       "Production        True\n",
       "dtype: bool"
      ]
     },
     "execution_count": 8,
     "metadata": {},
     "output_type": "execute_result"
    }
   ],
   "source": [
    "df.isna().any()"
   ]
  },
  {
   "cell_type": "code",
   "execution_count": 9,
   "metadata": {
    "colab": {
     "base_uri": "https://localhost:8080/"
    },
    "executionInfo": {
     "elapsed": 20,
     "status": "ok",
     "timestamp": 1631783098889,
     "user": {
      "displayName": "Mirthula M",
      "photoUrl": "https://lh3.googleusercontent.com/a-/AOh14Gjzk08XC9_s634256p0qat8RQGnvbtNfsNxKmFxaw=s64",
      "userId": "12143112822111938694"
     },
     "user_tz": -330
    },
    "id": "IqudXt85Qxs_",
    "outputId": "86885431-a7d8-4308-e10a-798ca15dfae3"
   },
   "outputs": [
    {
     "data": {
      "text/plain": [
       "3730"
      ]
     },
     "execution_count": 9,
     "metadata": {},
     "output_type": "execute_result"
    }
   ],
   "source": [
    "df['Production'].isna().sum()"
   ]
  },
  {
   "cell_type": "code",
   "execution_count": 10,
   "metadata": {
    "colab": {
     "base_uri": "https://localhost:8080/"
    },
    "executionInfo": {
     "elapsed": 95136,
     "status": "ok",
     "timestamp": 1631783194006,
     "user": {
      "displayName": "Mirthula M",
      "photoUrl": "https://lh3.googleusercontent.com/a-/AOh14Gjzk08XC9_s634256p0qat8RQGnvbtNfsNxKmFxaw=s64",
      "userId": "12143112822111938694"
     },
     "user_tz": -330
    },
    "id": "6fAE7XWJRbrk",
    "outputId": "b0fa43da-1317-4a93-d186-9c8bb1313ce6"
   },
   "outputs": [
    {
     "name": "stderr",
     "output_type": "stream",
     "text": [
      "C:\\Users\\Akhil_Sathani\\AppData\\Local\\Temp\\ipykernel_11160\\1364440849.py:4: FutureWarning: A value is trying to be set on a copy of a DataFrame or Series through chained assignment using an inplace method.\n",
      "The behavior will change in pandas 3.0. This inplace method will never work because the intermediate object on which we are setting values always behaves as a copy.\n",
      "\n",
      "For example, when doing 'df[col].method(value, inplace=True)', try using 'df.method({col: value}, inplace=True)' or df[col] = df[col].method(value) instead, to perform the operation inplace on the original object.\n",
      "\n",
      "\n",
      "  df_district['Production'].fillna(df_district['Production'].mean(),inplace=True)\n",
      "C:\\Users\\Akhil_Sathani\\AppData\\Local\\Temp\\ipykernel_11160\\1364440849.py:4: SettingWithCopyWarning: \n",
      "A value is trying to be set on a copy of a slice from a DataFrame\n",
      "\n",
      "See the caveats in the documentation: https://pandas.pydata.org/pandas-docs/stable/user_guide/indexing.html#returning-a-view-versus-a-copy\n",
      "  df_district['Production'].fillna(df_district['Production'].mean(),inplace=True)\n"
     ]
    }
   ],
   "source": [
    "Frames=[]\n",
    "for i in list (set(df['District_Name'])):\n",
    "  df_district=df[df['District_Name']==i]\n",
    "  df_district['Production'].fillna(df_district['Production'].mean(),inplace=True)\n",
    "  Frames.append(df_district)\n",
    "  final_df= pd.concat(Frames)"
   ]
  },
  {
   "cell_type": "code",
   "execution_count": 11,
   "metadata": {
    "colab": {
     "base_uri": "https://localhost:8080/"
    },
    "executionInfo": {
     "elapsed": 38,
     "status": "ok",
     "timestamp": 1631783194012,
     "user": {
      "displayName": "Mirthula M",
      "photoUrl": "https://lh3.googleusercontent.com/a-/AOh14Gjzk08XC9_s634256p0qat8RQGnvbtNfsNxKmFxaw=s64",
      "userId": "12143112822111938694"
     },
     "user_tz": -330
    },
    "id": "DqRTu340VTDN",
    "outputId": "7bc28ea8-d3c3-4c7e-81df-9203356baa91"
   },
   "outputs": [
    {
     "data": {
      "text/plain": [
       "State_Name       False\n",
       "District_Name    False\n",
       "Crop_Year        False\n",
       "Season           False\n",
       "Crop             False\n",
       "Area             False\n",
       "Production       False\n",
       "dtype: bool"
      ]
     },
     "execution_count": 11,
     "metadata": {},
     "output_type": "execute_result"
    }
   ],
   "source": [
    "final_df.isna().any()"
   ]
  },
  {
   "cell_type": "code",
   "execution_count": 12,
   "metadata": {
    "colab": {
     "base_uri": "https://localhost:8080/"
    },
    "executionInfo": {
     "elapsed": 18,
     "status": "ok",
     "timestamp": 1631783194013,
     "user": {
      "displayName": "Mirthula M",
      "photoUrl": "https://lh3.googleusercontent.com/a-/AOh14Gjzk08XC9_s634256p0qat8RQGnvbtNfsNxKmFxaw=s64",
      "userId": "12143112822111938694"
     },
     "user_tz": -330
    },
    "id": "v0UzdezfVfVV",
    "outputId": "44fefd71-1611-4191-9d25-0ca461101bb8"
   },
   "outputs": [
    {
     "data": {
      "text/plain": [
       "False"
      ]
     },
     "execution_count": 12,
     "metadata": {},
     "output_type": "execute_result"
    }
   ],
   "source": [
    "final_df.duplicated(subset=None,keep='first').any()"
   ]
  },
  {
   "cell_type": "markdown",
   "metadata": {
    "id": "uzVhH3fW7v9t"
   },
   "source": [
    "### **Checking for correlation between variables**"
   ]
  },
  {
   "cell_type": "code",
   "execution_count": 13,
   "metadata": {
    "colab": {
     "base_uri": "https://localhost:8080/",
     "height": 285
    },
    "executionInfo": {
     "elapsed": 414,
     "status": "ok",
     "timestamp": 1631784574945,
     "user": {
      "displayName": "Mirthula M",
      "photoUrl": "https://lh3.googleusercontent.com/a-/AOh14Gjzk08XC9_s634256p0qat8RQGnvbtNfsNxKmFxaw=s64",
      "userId": "12143112822111938694"
     },
     "user_tz": -330
    },
    "id": "VjPveh5e72Bg",
    "outputId": "e186836d-1ad4-42a4-eac3-57f0e9f40cdc"
   },
   "outputs": [
    {
     "data": {
      "image/png": "[encoded data removed]",
      "text/plain": [
       "<Figure size 1000x800 with 2 Axes>"
      ]
     },
     "metadata": {},
     "output_type": "display_data"
    }
   ],
   "source": [
    "# Filter out non-numeric columns\n",
    "numeric_df = final_df.select_dtypes(include=[float, int])\n",
    "\n",
    "# Calculate correlation on numeric data\n",
    "corr_matrix = numeric_df.corr()\n",
    "\n",
    "# Plot the heatmap\n",
    "plt.figure(figsize=(10, 8))\n",
    "sns.heatmap(corr_matrix, annot=True, fmt='.2f')\n",
    "plt.show()"
   ]
  },
  {
   "cell_type": "markdown",
   "metadata": {
    "id": "oNvjIGyJ8K3Y"
   },
   "source": [
    "**Result :** There is no high relationship between any variables"
   ]
  },
  {
   "cell_type": "markdown",
   "metadata": {
    "id": "XfBHl7Jr3Je1"
   },
   "source": [
    "## **Univariate Analysis**"
   ]
  },
  {
   "cell_type": "markdown",
   "metadata": {
    "id": "XO70yqeo4myo"
   },
   "source": [
    "### **State Name variable**"
   ]
  },
  {
   "cell_type": "code",
   "execution_count": 14,
   "metadata": {
    "colab": {
     "base_uri": "https://localhost:8080/"
    },
    "executionInfo": {
     "elapsed": 344,
     "status": "ok",
     "timestamp": 1631783385383,
     "user": {
      "displayName": "Mirthula M",
      "photoUrl": "https://lh3.googleusercontent.com/a-/AOh14Gjzk08XC9_s634256p0qat8RQGnvbtNfsNxKmFxaw=s64",
      "userId": "12143112822111938694"
     },
     "user_tz": -330
    },
    "id": "W5XXFg6fXpzT",
    "outputId": "50044601-08b3-440a-8eb9-472b4afe0d80"
   },
   "outputs": [
    {
     "name": "stdout",
     "output_type": "stream",
     "text": [
      "33\n",
      "['Punjab' 'Madhya Pradesh' 'Haryana' 'Bihar' 'Himachal Pradesh'\n",
      " 'Uttar Pradesh' 'Karnataka' 'Manipur' 'Rajasthan' 'Maharashtra'\n",
      " 'Jharkhand' 'Chhattisgarh' 'Arunachal Pradesh' 'Meghalaya'\n",
      " 'Andhra Pradesh' 'Gujarat' 'Sikkim' 'Uttarakhand' 'Tripura' 'Odisha'\n",
      " 'West Bengal' 'Jammu and Kashmir ' 'Dadra and Nagar Haveli' 'Assam'\n",
      " 'Nagaland' 'Tamil Nadu' 'Telangana ' 'Chandigarh' 'Puducherry'\n",
      " 'Andaman and Nicobar Islands' 'Mizoram' 'Kerala' 'Goa']\n"
     ]
    }
   ],
   "source": [
    "print(final_df['State_Name'].nunique())\n",
    "print(final_df['State_Name'].unique())"
   ]
  },
  {
   "cell_type": "code",
   "execution_count": 15,
   "metadata": {
    "colab": {
     "base_uri": "https://localhost:8080/"
    },
    "executionInfo": {
     "elapsed": 322,
     "status": "ok",
     "timestamp": 1631783436630,
     "user": {
      "displayName": "Mirthula M",
      "photoUrl": "https://lh3.googleusercontent.com/a-/AOh14Gjzk08XC9_s634256p0qat8RQGnvbtNfsNxKmFxaw=s64",
      "userId": "12143112822111938694"
     },
     "user_tz": -330
    },
    "id": "clZDwM_o3lO6",
    "outputId": "0a762592-e258-415e-badd-31440a13fd60"
   },
   "outputs": [
    {
     "data": {
      "text/plain": [
       "State_Name\n",
       "Uttar Pradesh                  33306\n",
       "Madhya Pradesh                 22943\n",
       "Karnataka                      21122\n",
       "Bihar                          18885\n",
       "Assam                          14628\n",
       "Odisha                         13575\n",
       "Tamil Nadu                     13547\n",
       "Maharashtra                    12628\n",
       "Rajasthan                      12514\n",
       "Chhattisgarh                   10709\n",
       "Andhra Pradesh                  9628\n",
       "West Bengal                     9613\n",
       "Gujarat                         8436\n",
       "Haryana                         5875\n",
       "Telangana                       5649\n",
       "Uttarakhand                     4896\n",
       "Kerala                          4261\n",
       "Nagaland                        3906\n",
       "Punjab                          3173\n",
       "Meghalaya                       2867\n",
       "Arunachal Pradesh               2546\n",
       "Himachal Pradesh                2494\n",
       "Jammu and Kashmir               1634\n",
       "Tripura                         1412\n",
       "Manipur                         1267\n",
       "Jharkhand                       1266\n",
       "Mizoram                          957\n",
       "Puducherry                       876\n",
       "Sikkim                           714\n",
       "Dadra and Nagar Haveli           263\n",
       "Goa                              208\n",
       "Andaman and Nicobar Islands      203\n",
       "Chandigarh                        90\n",
       "Name: count, dtype: int64"
      ]
     },
     "execution_count": 15,
     "metadata": {},
     "output_type": "execute_result"
    }
   ],
   "source": [
    "final_df['State_Name'].value_counts()"
   ]
  },
  {
   "cell_type": "markdown",
   "metadata": {
    "id": "v4r8EXWX4HM9"
   },
   "source": [
    "**Result:** We have totally 33 unique states and we have more data from the top rich agriculture states like Uttar pradhesh , Madhya Pradesh and Karnataka"
   ]
  },
  {
   "cell_type": "markdown",
   "metadata": {
    "id": "YzDTq_DG4vX2"
   },
   "source": [
    "### **District Name variable**"
   ]
  },
  {
   "cell_type": "code",
   "execution_count": 16,
   "metadata": {
    "colab": {
     "base_uri": "https://localhost:8080/"
    },
    "executionInfo": {
     "elapsed": 363,
     "status": "ok",
     "timestamp": 1631783748669,
     "user": {
      "displayName": "Mirthula M",
      "photoUrl": "https://lh3.googleusercontent.com/a-/AOh14Gjzk08XC9_s634256p0qat8RQGnvbtNfsNxKmFxaw=s64",
      "userId": "12143112822111938694"
     },
     "user_tz": -330
    },
    "id": "rX3YhoF63z02",
    "outputId": "4331639d-62a6-4623-cd3f-29cf9d8cf998"
   },
   "outputs": [
    {
     "name": "stdout",
     "output_type": "stream",
     "text": [
      "646\n",
      "['FAZILKA' 'ALIRAJPUR' 'MAHENDRAGARH' 'MADHUBANI' 'GOPALGANJ' 'HAMIRPUR'\n",
      " 'BANGALORE RURAL' 'UKHRUL' 'PRATAPGARH' 'NASHIK' 'SHIMOGA' 'HATHRAS'\n",
      " 'RAE BARELI' 'JAMTARA' 'NAGPUR' 'BIJAPUR' 'WEST SIANG' 'KURUKSHETRA'\n",
      " 'EAST GARO HILLS' 'HAPUR' 'BUXAR' 'VIZIANAGARAM' 'RAJKOT' 'WEST DISTRICT'\n",
      " 'PAURI GARHWAL' 'KANKER' 'NORTH TRIPURA' 'LUCKNOW' 'SOUTH GARO HILLS'\n",
      " 'DEORIA' 'NARAYANPUR' 'PANNA' 'THOUBAL' 'DEHRADUN' 'GANDHINAGAR'\n",
      " 'BHAVNAGAR' 'SHEOHAR' 'JAJAPUR' 'MALDAH' 'EAST SIANG' 'EAST GODAVARI'\n",
      " 'BANDIPORA' 'MAINPURI' 'BARNALA' 'GOMATI' 'DHENKANAL' 'ASHOKNAGAR'\n",
      " 'BIKANER' 'RAMPUR' 'WEST KAMENG' 'UTTAR KANNAD' 'DINDORI' 'SHAJAPUR'\n",
      " 'SURAT' 'GURGAON' 'KRISHNA' 'GUNA' 'RAJSAMAND' 'BALOD'\n",
      " 'DADRA AND NAGAR HAVELI' 'UDALGURI' 'CHURACHANDPUR' 'BURHANPUR' 'MEWAT'\n",
      " 'MON' 'BUNDI' 'KANCHIPURAM' 'GADAG' 'SHAHDOL' 'BAGALKOT' 'KATNI' 'GAYA'\n",
      " 'BOUDH' 'LEH LADAKH' 'DARRANG' 'RAJNANDGAON' 'TUMKUR' 'KANPUR NAGAR'\n",
      " 'KANGRA' 'LOHARDAGA' 'PEREN' 'SINDHUDURG' 'SIDHI' 'MEDAK'\n",
      " 'JANJGIR-CHAMPA' 'NIZAMABAD' 'MANDYA' 'DHEMAJI' 'MOKOKCHUNG'\n",
      " 'TIRUNELVELI' 'DAVANGERE' 'BAGESHWAR' 'DURG' 'CHANDIGARH' 'KODERMA'\n",
      " 'EAST SINGHBUM' 'GAUTAM BUDDHA NAGAR' 'HAILAKANDI' 'LONGDING'\n",
      " 'VILLUPURAM' 'KIPHIRE' 'DUMKA' 'PONDICHERRY' 'KOLHAPUR' 'KISHANGANJ'\n",
      " 'SABAR KANTHA' 'NORTH GARO HILLS' 'NORTH AND MIDDLE ANDAMAN' 'SONEPUR'\n",
      " 'LAWNGTLAI' 'KANDHAMAL' 'SIKAR' 'SAHARSA' 'HOOGHLY' 'BANKA'\n",
      " 'BANAS KANTHA' 'PATIALA' 'SATNA' 'UJJAIN' 'MAHARAJGANJ' 'SURENDRANAGAR'\n",
      " 'TINSUKIA' 'BETUL' 'CHURU' 'MIRZAPUR' 'KOLAR' 'RAMGARH' 'LUDHIANA'\n",
      " 'SHOPIAN' 'THANJAVUR' 'PITHORAGARH' 'SUNDARGARH' 'DOHAD' 'MOGA' 'INDORE'\n",
      " 'SAIHA' 'SONIPAT' 'WEST KHASI HILLS' 'PUDUKKOTTAI' 'SAMBA' 'SHAHJAHANPUR'\n",
      " 'BIRBHUM' 'JABALPUR' 'BULDHANA' 'VARANASI' 'NAGAUR' 'KAUSHAMBI'\n",
      " 'SRIKAKULAM' 'NAMAKKAL' 'AGRA' 'PALI' 'DEOGHAR' 'JODHPUR' 'NALGONDA'\n",
      " 'BENGALURU URBAN' 'THENI' 'WOKHA' 'BHADRAK' 'KRISHNAGIRI' 'MORADABAD'\n",
      " 'BHILWARA' 'TAMENGLONG' 'SIVAGANGA' 'PALGHAR' 'BARMER' 'MANDSAUR'\n",
      " 'DHARMAPURI' 'ALWAR' 'GAJAPATI' 'JHUNJHUNU' 'HARDOI' 'SEHORE' 'SIMDEGA'\n",
      " 'CUTTACK' 'MUNGER' 'PANIPAT' 'KAITHAL' 'MADURAI' 'KATIHAR' 'PALWAL'\n",
      " 'KONDAGAON' 'WEST GODAVARI' 'MORENA' 'BIJNOR' 'MAHASAMUND' 'MUNGELI'\n",
      " 'CHAMOLI' 'SOUTH TRIPURA' 'CHANDEL' 'KORBA' 'BAREILLY' 'JUNAGADH'\n",
      " 'CHITRAKOOT' 'FATEHABAD' 'BELGAUM' 'KORAPUT' 'HAVERI' 'RAMANAGARA' 'TAPI'\n",
      " 'ETAWAH' 'DIBRUGARH' 'SONITPUR' 'WEST SINGHBHUM' 'DINDIGUL' 'ALAPPUZHA'\n",
      " 'RAIPUR' 'KANNAUJ' 'MAHE' 'KARIMGANJ' 'AMRAVATI' 'CACHAR' 'GODDA'\n",
      " 'AMROHA' 'KARIMNAGAR' 'MAU' 'POONCH' 'GURDASPUR' 'SIDDHARTH NAGAR'\n",
      " 'SAWAI MADHOPUR' 'EAST DISTRICT' 'MUMBAI' 'RI BHOI' 'NALANDA'\n",
      " 'MURSHIDABAD' 'PUNE' 'CHITTORGARH' 'KULGAM' 'CHANGLANG' 'SHEOPUR' 'BEED'\n",
      " 'HOSHIARPUR' 'KHAMMAM' 'KOPPAL' 'MAMIT' 'WARANGAL' 'LAKHIMPUR'\n",
      " 'ALLAHABAD' 'JHAJJAR' 'KINNAUR' 'CHIRANG' 'KABIRDHAM' 'BHIND' 'JALORE'\n",
      " '24 PARAGANAS SOUTH' 'KARUR' 'PARBHANI' 'ERNAKULAM' 'AZAMGARH' 'SURGUJA'\n",
      " 'TIRUVANNAMALAI' 'KHAGARIA' 'SOUTH WEST KHASI HILLS' 'JAMUI' 'PATHANKOT'\n",
      " 'NAINITAL' 'TEHRI GARHWAL' 'LUNGLEI' 'VIDISHA' 'BATHINDA'\n",
      " 'MEDINIPUR WEST' 'NAYAGARH' 'SUPAUL' 'DAMOH' 'WEST JAINTIA HILLS'\n",
      " 'BEMETARA' 'CHANDAULI' 'KENDRAPARA' 'KHEDA' 'PILIBHIT' 'MANDLA' 'GUNTUR'\n",
      " 'FAIZABAD' 'KULLU' 'SOLAPUR' 'JEHANABAD' 'KHANDWA' 'WARDHA' 'BELLARY'\n",
      " 'BONGAIGAON' 'PAPUM PARE' 'TIRAP' 'SIRMAUR' 'LATEHAR' 'ALIGARH' 'AKOLA'\n",
      " 'KOKRAJHAR' 'WAYANAD' 'RATNAGIRI' 'JAMMU' 'BISHNUPUR' 'UNNAO' 'BARDHAMAN'\n",
      " 'NAWANSHAHR' 'COOCHBEHAR' 'UDAIPUR' 'VAISHALI' 'SUKMA' 'YADGIR'\n",
      " 'MAHESANA' 'PANCH MAHALS' 'SHRAVASTI' 'HINGOLI' 'KODAGU' 'KANNIYAKUMARI'\n",
      " 'NUAPADA' 'ANUPPUR' 'YANAM' 'DHUBRI' 'WASHIM' 'MAYURBHANJ' 'PANCHKULA'\n",
      " 'MANDI' 'MARIGAON' 'CHITRADURGA' 'ANANTNAG' 'BEGUSARAI' 'NAMSAI' 'ERODE'\n",
      " 'DHAR' 'UDHAMPUR' 'SATARA' 'PORBANDAR' 'SAMBALPUR' 'HARDA' 'BHARUCH'\n",
      " 'KASGANJ' 'DHANBAD' 'THRISSUR' 'KAPURTHALA' 'DHARWAD'\n",
      " 'LOWER DIBANG VALLEY' 'COIMBATORE' 'JHABUA' 'KATHUA' 'ARARIA' 'SHIVPURI'\n",
      " 'KANNUR' 'UNA' 'BILASPUR' 'RAIGARH' 'NEEMUCH' 'BHARATPUR' 'SHAMLI'\n",
      " 'MUZAFFARPUR' 'LAKHISARAI' 'UPPER SIANG' 'KHORDHA' 'AMRELI' 'ADILABAD'\n",
      " 'BANDA' 'BULANDSHAHR' 'VISAKHAPATANAM' 'KARGIL' 'NAGAPATTINAM' 'NANDED'\n",
      " 'CUDDALORE' 'SIWAN' 'BARAMULLA' 'HYDERABAD' 'PULWAMA' 'KOLLAM'\n",
      " 'AURANGABAD' 'KARAULI' 'EAST JAINTIA HILLS' 'PURBI CHAMPARAN'\n",
      " 'IMPHAL WEST' 'AIZAWL' 'DHULE' 'BHAGALPUR' 'MATHURA' 'IMPHAL EAST'\n",
      " 'JAUNPUR' 'SOUTH GOA' 'MANSA' 'CHAMBA' 'KOTA' 'SEPAHIJALA' 'DHOLPUR'\n",
      " 'ARWAL' 'AMBEDKAR NAGAR' 'RUPNAGAR' 'SAHARANPUR' 'GADCHIROLI' 'DHALAI'\n",
      " 'SITAPUR' 'MEDINIPUR EAST' 'NAGAON' 'FARIDABAD' 'LATUR' 'GHAZIABAD'\n",
      " 'ANUGUL' 'CHANDRAPUR' 'GIRIDIH' 'JHANSI' 'GOLAGHAT' 'KOLASIB' 'BARWANI'\n",
      " 'BALAGHAT' 'SIRSA' 'MEERUT' 'BHOJPUR' 'SRINAGAR' 'CHITTOOR' 'SAGAR'\n",
      " 'SHEIKHPURA' 'BUDAUN' 'SULTANPUR' 'AJMER' 'GWALIOR' 'HISAR' 'PAKUR'\n",
      " 'KURNOOL' 'KAMRUP METRO' 'UDAM SINGH NAGAR' 'PURI' 'FIROZEPUR' 'RAMBAN'\n",
      " 'UNAKOTI' 'GORAKHPUR' 'BARAN' 'FIROZABAD' 'KOREA' 'CHATRA' 'MYSORE'\n",
      " 'SARAN' 'SITAMARHI' 'FATEHPUR' 'TUENSANG' 'BANKURA' 'ETAH' 'WEST TRIPURA'\n",
      " 'BAKSA' 'HASSAN' 'TUTICORIN' 'DANG' 'BADGAM' 'HOWRAH' 'BARPETA'\n",
      " 'OSMANABAD' 'ARIYALUR' 'LAHUL AND SPITI' 'RAJGARH' 'SINGRAULI' 'DATIA'\n",
      " 'NAVSARI' 'DIMA HASAO' 'UTTAR KASHI' 'TIKAMGARH' 'SALEM' 'SANGRUR'\n",
      " 'SOUTH WEST GARO HILLS' 'RAICHUR' 'TIRUCHIRAPPALLI' 'KUPWARA' 'PATAN'\n",
      " 'NABARANGPUR' 'THANE' 'REASI' 'VIRUDHUNAGAR' 'VALSAD' 'NORTH GOA'\n",
      " 'RANCHI' 'KHERI' 'SONBHADRA' 'UDUPI' 'SOUTH ANDAMANS' 'KAMRUP' 'KHOWAI'\n",
      " 'VELLORE' 'JHARSUGUDA' 'AMRITSAR' 'SAMASTIPUR' 'DAKSHIN KANNAD'\n",
      " 'TARN TARAN' 'CHHINDWARA' 'YAVATMAL' 'GONDA' 'JHALAWAR' 'KASARAGOD'\n",
      " 'RATLAM' 'PRAKASAM' 'PALAMU' 'YAMUNANAGAR' 'LOWER SUBANSIRI' 'GOALPARA'\n",
      " 'SANGLI' 'JASHPUR' 'NARSINGHPUR' 'DEWAS' 'TAWANG' 'SOUTH DISTRICT'\n",
      " 'GANGANAGAR' 'CHAMARAJANAGAR' 'GONDIA' 'SURAJPUR' 'ANJAW' 'PALAKKAD'\n",
      " 'BIDAR' 'GHAZIPUR' 'KHARGONE' 'CHAMPAWAT' 'SERCHHIP' 'RAMANATHAPURAM'\n",
      " 'MADHEPURA' 'RAIGAD' 'DIBANG VALLEY' 'TONK' 'KARAIKAL' 'LALITPUR'\n",
      " 'FARIDKOT' 'KOTTAYAM' 'KAIMUR (BHABUA)' 'MALKANGIRI' 'S.A.S NAGAR'\n",
      " 'IDUKKI' 'JAMNAGAR' 'KENDUJHAR' 'NANDURBAR' 'THIRUVARUR' 'AMETHI'\n",
      " 'REWARI' 'MUKTSAR' 'AHMADABAD' 'BHIWANI' 'SIVASAGAR' 'GANJAM' 'BHOPAL'\n",
      " 'THIRUVALLUR' 'CHHATARPUR' 'KANPUR DEHAT' 'LOHIT' 'JALGAON' 'KISHTWAR'\n",
      " 'GARHWA' 'SANT KABEER NAGAR' 'BAHRAICH' 'SIROHI' 'BHANDARA' 'SAMBHAL'\n",
      " 'DHAMTARI' 'TIRUPPUR' 'KARBI ANGLONG' 'JALANDHAR' 'BAGHPAT' 'HANUMANGARH'\n",
      " 'BALESHWAR' 'GULBARGA' 'FATEHGARH SAHIB' 'SANT RAVIDAS NAGAR' 'NADIA'\n",
      " 'EAST KHASI HILLS' 'PURULIA' 'REWA' 'KUSHI NAGAR' 'DINAJPUR UTTAR'\n",
      " 'HAZARIBAGH' 'KARNAL' 'WEST GARO HILLS' 'SHIMLA' 'JIND' 'JAIPUR'\n",
      " 'SARAIKELA KHARSAWAN' 'JALNA' 'NALBARI' 'MUZAFFARNAGAR' 'BALLIA'\n",
      " 'GARIYABAND' 'AHMEDNAGAR' 'RAYAGADA' 'ROHTAK' 'AGAR MALWA' 'RAISEN'\n",
      " 'RANGAREDDI' '24 PARAGANAS NORTH' 'DEOGARH' 'NICOBARS' 'ZUNHEBOTO'\n",
      " 'SAHEBGANJ' 'GANDERBAL' 'PURNIA' 'KADAPA' 'JAISALMER' 'HARIDWAR'\n",
      " 'THE NILGIRIS' 'NAWADA' 'CHIKBALLAPUR' 'JAGATSINGHAPUR' 'MAHBUBNAGAR'\n",
      " 'BARGARH' 'KOHIMA' 'CHAMPHAI' 'JALPAIGURI' 'SPSR NELLORE' 'KOZHIKODE'\n",
      " 'KALAHANDI' 'BANSWARA' 'PERAMBALUR' 'RUDRA PRAYAG' 'BASTI' 'PATNA'\n",
      " 'DARJEELING' 'NORTH DISTRICT' 'DARBHANGA' 'UMARIA' 'KACHCHH' 'BOKARO'\n",
      " 'HOSHANGABAD' 'BALANGIR' 'FARRUKHABAD' 'ANANTAPUR' 'PHEK' 'DAUSA'\n",
      " 'PASHCHIM CHAMPARAN' 'MALAPPURAM' 'JORHAT' 'CHIKMAGALUR' 'KHUNTI'\n",
      " 'AMBALA' 'LONGLENG' 'AURAIYA' 'JALAUN' 'PATHANAMTHITTA' 'SENAPATI'\n",
      " 'ROHTAS' 'GUMLA' 'SOLAN' 'KURUNG KUMEY' 'DANTEWADA' 'DIMAPUR' 'DODA'\n",
      " 'SEONI' 'BASTAR' 'NARMADA' 'VADODARA' 'EAST KAMENG' 'DUNGARPUR'\n",
      " 'DINAJPUR DAKSHIN' 'UPPER SUBANSIRI' 'MAHOBA' 'ANAND' 'BALRAMPUR'\n",
      " 'BALODA BAZAR' 'ALMORA' 'BARABANKI' 'THIRUVANANTHAPURAM' 'RAJAURI']\n"
     ]
    }
   ],
   "source": [
    "print(final_df['District_Name'].nunique())\n",
    "print(final_df['District_Name'].unique())"
   ]
  },
  {
   "cell_type": "code",
   "execution_count": 17,
   "metadata": {
    "colab": {
     "base_uri": "https://localhost:8080/"
    },
    "executionInfo": {
     "elapsed": 332,
     "status": "ok",
     "timestamp": 1631783801404,
     "user": {
      "displayName": "Mirthula M",
      "photoUrl": "https://lh3.googleusercontent.com/a-/AOh14Gjzk08XC9_s634256p0qat8RQGnvbtNfsNxKmFxaw=s64",
      "userId": "12143112822111938694"
     },
     "user_tz": -330
    },
    "id": "DSQku3so5ACM",
    "outputId": "a5c79a0e-9c42-4b82-8ca7-ecf3cb004bd8"
   },
   "outputs": [
    {
     "data": {
      "text/plain": [
       "District_Name\n",
       "BIJAPUR      945\n",
       "TUMKUR       936\n",
       "BELGAUM      925\n",
       "HASSAN       895\n",
       "BELLARY      887\n",
       "            ... \n",
       "HYDERABAD      8\n",
       "RAMGARH        6\n",
       "KHUNTI         6\n",
       "MUMBAI         1\n",
       "NAMSAI         1\n",
       "Name: count, Length: 646, dtype: int64"
      ]
     },
     "execution_count": 17,
     "metadata": {},
     "output_type": "execute_result"
    }
   ],
   "source": [
    "final_df['District_Name'].value_counts()"
   ]
  },
  {
   "cell_type": "markdown",
   "metadata": {
    "id": "eZ5yT7_H5N8x"
   },
   "source": [
    "**Result** : On district front we have more data coming from Bijapur , Tumkur followed by Belgaum , Hassan and Bellary"
   ]
  },
  {
   "cell_type": "markdown",
   "metadata": {
    "id": "cGgIx9PP8WU0"
   },
   "source": [
    "### **Crop year variable** "
   ]
  },
  {
   "cell_type": "code",
   "execution_count": 18,
   "metadata": {
    "colab": {
     "base_uri": "https://localhost:8080/"
    },
    "executionInfo": {
     "elapsed": 337,
     "status": "ok",
     "timestamp": 1631784820829,
     "user": {
      "displayName": "Mirthula M",
      "photoUrl": "https://lh3.googleusercontent.com/a-/AOh14Gjzk08XC9_s634256p0qat8RQGnvbtNfsNxKmFxaw=s64",
      "userId": "12143112822111938694"
     },
     "user_tz": -330
    },
    "id": "Y0XpOLaa8VmS",
    "outputId": "a72158cb-32fa-40c8-9d33-54cabae0a3e5"
   },
   "outputs": [
    {
     "name": "stdout",
     "output_type": "stream",
     "text": [
      "19\n",
      "2015\n",
      "1997\n"
     ]
    }
   ],
   "source": [
    "print(final_df['Crop_Year'].nunique())\n",
    "print(final_df['Crop_Year'].max())\n",
    "print(final_df['Crop_Year'].min())"
   ]
  },
  {
   "cell_type": "code",
   "execution_count": 19,
   "metadata": {
    "colab": {
     "base_uri": "https://localhost:8080/"
    },
    "executionInfo": {
     "elapsed": 335,
     "status": "ok",
     "timestamp": 1631785353598,
     "user": {
      "displayName": "Mirthula M",
      "photoUrl": "https://lh3.googleusercontent.com/a-/AOh14Gjzk08XC9_s634256p0qat8RQGnvbtNfsNxKmFxaw=s64",
      "userId": "12143112822111938694"
     },
     "user_tz": -330
    },
    "id": "ilaGR5UZ5M6Y",
    "outputId": "307aef60-138f-4e47-cf90-96f0503b74d6"
   },
   "outputs": [
    {
     "data": {
      "text/plain": [
       "Crop_Year\n",
       "2003    17287\n",
       "2002    16671\n",
       "2008    14550\n",
       "2007    14526\n",
       "2006    14328\n",
       "2004    14117\n",
       "2009    14116\n",
       "2011    14071\n",
       "2010    14065\n",
       "2005    13799\n",
       "2000    13658\n",
       "2013    13650\n",
       "2012    13410\n",
       "2001    13361\n",
       "1999    12515\n",
       "1998    11533\n",
       "2014    10973\n",
       "1997     8899\n",
       "2015      562\n",
       "Name: count, dtype: int64"
      ]
     },
     "execution_count": 19,
     "metadata": {},
     "output_type": "execute_result"
    }
   ],
   "source": [
    "final_df.Crop_Year.value_counts()"
   ]
  },
  {
   "cell_type": "markdown",
   "metadata": {
    "id": "DgrCwmP29fA3"
   },
   "source": [
    "**Result** : Data consists for India crop production from 1997 to 2015 , more vital data from 2003 and 2002."
   ]
  },
  {
   "cell_type": "markdown",
   "metadata": {
    "id": "2vg_sIfv_KYP"
   },
   "source": [
    "### **Season variable**"
   ]
  },
  {
   "cell_type": "code",
   "execution_count": 20,
   "metadata": {
    "colab": {
     "base_uri": "https://localhost:8080/"
    },
    "executionInfo": {
     "elapsed": 335,
     "status": "ok",
     "timestamp": 1631785438366,
     "user": {
      "displayName": "Mirthula M",
      "photoUrl": "https://lh3.googleusercontent.com/a-/AOh14Gjzk08XC9_s634256p0qat8RQGnvbtNfsNxKmFxaw=s64",
      "userId": "12143112822111938694"
     },
     "user_tz": -330
    },
    "id": "5uMJZ57k9GdV",
    "outputId": "f82c0281-28f7-4613-8451-53aad5616624"
   },
   "outputs": [
    {
     "data": {
      "text/plain": [
       "6"
      ]
     },
     "execution_count": 20,
     "metadata": {},
     "output_type": "execute_result"
    }
   ],
   "source": [
    "final_df['Season'].nunique()"
   ]
  },
  {
   "cell_type": "code",
   "execution_count": 21,
   "metadata": {
    "colab": {
     "base_uri": "https://localhost:8080/",
     "height": 35
    },
    "executionInfo": {
     "elapsed": 325,
     "status": "ok",
     "timestamp": 1631785462337,
     "user": {
      "displayName": "Mirthula M",
      "photoUrl": "https://lh3.googleusercontent.com/a-/AOh14Gjzk08XC9_s634256p0qat8RQGnvbtNfsNxKmFxaw=s64",
      "userId": "12143112822111938694"
     },
     "user_tz": -330
    },
    "id": "3IFZGw4-_XVx",
    "outputId": "857e2f16-fb97-4b94-8320-c3daf44799b7"
   },
   "outputs": [
    {
     "data": {
      "text/plain": [
       "'Winter     '"
      ]
     },
     "execution_count": 21,
     "metadata": {},
     "output_type": "execute_result"
    }
   ],
   "source": [
    "final_df['Season'].max()"
   ]
  },
  {
   "cell_type": "code",
   "execution_count": 22,
   "metadata": {
    "colab": {
     "base_uri": "https://localhost:8080/"
    },
    "executionInfo": {
     "elapsed": 690,
     "status": "ok",
     "timestamp": 1631785486464,
     "user": {
      "displayName": "Mirthula M",
      "photoUrl": "https://lh3.googleusercontent.com/a-/AOh14Gjzk08XC9_s634256p0qat8RQGnvbtNfsNxKmFxaw=s64",
      "userId": "12143112822111938694"
     },
     "user_tz": -330
    },
    "id": "zGYyeooP_ghe",
    "outputId": "5ccaef2f-fd66-4af9-f37c-7a6386ed76ae"
   },
   "outputs": [
    {
     "data": {
      "text/plain": [
       "Season\n",
       "Kharif         95951\n",
       "Rabi           66987\n",
       "Whole Year     57305\n",
       "Summer         14841\n",
       "Winter          6058\n",
       "Autumn          4949\n",
       "Name: count, dtype: int64"
      ]
     },
     "execution_count": 22,
     "metadata": {},
     "output_type": "execute_result"
    }
   ],
   "source": [
    "final_df['Season'].value_counts()"
   ]
  },
  {
   "cell_type": "markdown",
   "metadata": {
    "id": "LCHeoB3r_ppF"
   },
   "source": [
    "**Result** : More crops has been yeilded on winter season but more data points from Kharif followed by Rabi and whole year season"
   ]
  },
  {
   "cell_type": "markdown",
   "metadata": {
    "id": "no2haS-cAJfo"
   },
   "source": [
    "### **Crop variable** "
   ]
  },
  {
   "cell_type": "code",
   "execution_count": 23,
   "metadata": {
    "colab": {
     "base_uri": "https://localhost:8080/"
    },
    "executionInfo": {
     "elapsed": 355,
     "status": "ok",
     "timestamp": 1631785782954,
     "user": {
      "displayName": "Mirthula M",
      "photoUrl": "https://lh3.googleusercontent.com/a-/AOh14Gjzk08XC9_s634256p0qat8RQGnvbtNfsNxKmFxaw=s64",
      "userId": "12143112822111938694"
     },
     "user_tz": -330
    },
    "id": "o0lBiM9l_oNc",
    "outputId": "c73eeb8f-e99d-4561-eca3-d3f0f910c6fd"
   },
   "outputs": [
    {
     "name": "stdout",
     "output_type": "stream",
     "text": [
      "124\n",
      "Crop\n",
      "Rice                 15104\n",
      "Maize                13947\n",
      "Moong(Green Gram)    10318\n",
      "Urad                  9850\n",
      "Sesamum               9046\n",
      "Groundnut             8834\n",
      "Sugarcane             7921\n",
      "Wheat                 7899\n",
      "Rapeseed &Mustard     7592\n",
      "Arhar/Tur             7578\n",
      "Name: count, dtype: int64\n"
     ]
    }
   ],
   "source": [
    "print(final_df['Crop'].nunique())\n",
    "print(final_df.Crop.value_counts().head(10))"
   ]
  },
  {
   "cell_type": "code",
   "execution_count": 24,
   "metadata": {
    "colab": {
     "base_uri": "https://localhost:8080/",
     "height": 35
    },
    "executionInfo": {
     "elapsed": 694,
     "status": "ok",
     "timestamp": 1631785712755,
     "user": {
      "displayName": "Mirthula M",
      "photoUrl": "https://lh3.googleusercontent.com/a-/AOh14Gjzk08XC9_s634256p0qat8RQGnvbtNfsNxKmFxaw=s64",
      "userId": "12143112822111938694"
     },
     "user_tz": -330
    },
    "id": "pmkpeF-lAZoW",
    "outputId": "0f196fed-0907-4439-cf41-0a60777cd85e"
   },
   "outputs": [
    {
     "data": {
      "text/plain": [
       "'other oilseeds'"
      ]
     },
     "execution_count": 24,
     "metadata": {},
     "output_type": "execute_result"
    }
   ],
   "source": [
    "final_df['Crop'].max()"
   ]
  },
  {
   "cell_type": "code",
   "execution_count": 25,
   "metadata": {
    "colab": {
     "base_uri": "https://localhost:8080/"
    },
    "executionInfo": {
     "elapsed": 344,
     "status": "ok",
     "timestamp": 1631785761280,
     "user": {
      "displayName": "Mirthula M",
      "photoUrl": "https://lh3.googleusercontent.com/a-/AOh14Gjzk08XC9_s634256p0qat8RQGnvbtNfsNxKmFxaw=s64",
      "userId": "12143112822111938694"
     },
     "user_tz": -330
    },
    "id": "LJ88wGftAfeM",
    "outputId": "31b34e71-903a-4f3d-ce2a-133246928054"
   },
   "outputs": [
    {
     "data": {
      "text/plain": [
       "array(['Sugarcane', 'Bajra', 'Cotton(lint)', 'Guar seed', 'Rice',\n",
       "       'Barley', 'Gram', 'Rapeseed &Mustard', 'Wheat',\n",
       "       'Moong(Green Gram)', 'Arhar/Tur', 'Castor seed', 'Groundnut',\n",
       "       'Horse-gram', 'Jowar', 'Maize', 'Sannhamp', 'Soyabean', 'Urad',\n",
       "       'Peas & beans (Pulses)', 'Garlic', 'Onion', 'Sesamum',\n",
       "       'Small millets', 'Sweet potato', 'Turmeric', 'Dry chillies',\n",
       "       'Dry ginger', 'Linseed', 'Mesta', 'Potato', 'Other Kharif pulses',\n",
       "       'Coriander', 'Other  Rabi pulses', 'Moth', 'Other Vegetables',\n",
       "       'Safflower', 'Sunflower', 'Tobacco', 'Banana', 'Ragi', 'Blackgram',\n",
       "       'Jute', 'Khesari', 'Masoor', 'Ginger', 'Oilseeds total',\n",
       "       'Total foodgrain', 'Paddy', 'Niger seed', 'Arecanut', 'Coconut ',\n",
       "       'Black pepper', 'Tapioca', 'Arcanut (Processed)', 'Atcanut (Raw)',\n",
       "       'Beans & Mutter(Vegetable)', 'Brinjal', 'Cashewnut Processed',\n",
       "       'Cashewnut Raw', 'Citrus Fruit', 'Grapes', 'Mango',\n",
       "       'Other Fresh Fruits', 'Papaya', 'Pome Fruit', 'Tomato', 'Cardamom',\n",
       "       'Cashewnut', 'Cowpea(Lobia)', 'Bhindi', 'Cabbage', 'Carrot',\n",
       "       'Cauliflower', 'Jack Fruit', 'Pineapple', 'Redish', 'Bottle Gourd',\n",
       "       'Orange', 'other oilseeds', 'Pulses total',\n",
       "       'Other Cereals & Millets', 'Kapas', 'Korra', 'Samai', 'Cucumber',\n",
       "       'Lemon', 'Pome Granet', 'Sapota', 'Lentil', 'Jute & mesta',\n",
       "       'Bitter Gourd', 'other misc. pulses', 'Other Citrus Fruit',\n",
       "       'Water Melon', 'Peas  (vegetable)', 'Tea', 'Bean', 'Colocosia',\n",
       "       'Jobster', 'Perilla', 'Rajmash Kholar', 'Ricebean (nagadal)',\n",
       "       'Ash Gourd', 'Drum Stick', 'Lab-Lab', 'Pump Kin', 'Ribed Guard',\n",
       "       'Snak Guard', 'Yam', 'Turnip', 'Varagu', 'Litchi', 'Ber',\n",
       "       'Beet Root', 'Plums', 'other fibres', 'Pear', 'Apple', 'Peach',\n",
       "       'Rubber', 'Cond-spcs other', 'Coffee', 'Other Dry Fruit'],\n",
       "      dtype=object)"
      ]
     },
     "execution_count": 25,
     "metadata": {},
     "output_type": "execute_result"
    }
   ],
   "source": [
    "final_df['Crop'].unique()"
   ]
  },
  {
   "cell_type": "markdown",
   "metadata": {
    "id": "BZ5pSHV6BD0B"
   },
   "source": [
    "**Result** : 124 Unique crops available"
   ]
  },
  {
   "cell_type": "code",
   "execution_count": 26,
   "metadata": {
    "colab": {
     "base_uri": "https://localhost:8080/"
    },
    "executionInfo": {
     "elapsed": 331,
     "status": "ok",
     "timestamp": 1631785903567,
     "user": {
      "displayName": "Mirthula M",
      "photoUrl": "https://lh3.googleusercontent.com/a-/AOh14Gjzk08XC9_s634256p0qat8RQGnvbtNfsNxKmFxaw=s64",
      "userId": "12143112822111938694"
     },
     "user_tz": -330
    },
    "id": "31WHz0g1ArZn",
    "outputId": "10767165-61b6-4e7e-a168-22f117b38e52"
   },
   "outputs": [
    {
     "data": {
      "text/plain": [
       "count    2.460910e+05\n",
       "mean     6.069226e+05\n",
       "std      1.696894e+07\n",
       "min      0.000000e+00\n",
       "25%      9.100000e+01\n",
       "50%      7.880000e+02\n",
       "75%      7.870000e+03\n",
       "max      1.250800e+09\n",
       "Name: Production, dtype: float64"
      ]
     },
     "execution_count": 26,
     "metadata": {},
     "output_type": "execute_result"
    }
   ],
   "source": [
    "final_df.Production.describe()"
   ]
  },
  {
   "cell_type": "markdown",
   "metadata": {
    "id": "LbMJxffRBSOR"
   },
   "source": [
    "**Result**: Production value ranges from 0 to 1250800"
   ]
  },
  {
   "cell_type": "code",
   "execution_count": 27,
   "metadata": {
    "colab": {
     "base_uri": "https://localhost:8080/",
     "height": 410
    },
    "executionInfo": {
     "elapsed": 359,
     "status": "ok",
     "timestamp": 1631786637708,
     "user": {
      "displayName": "Mirthula M",
      "photoUrl": "https://lh3.googleusercontent.com/a-/AOh14Gjzk08XC9_s634256p0qat8RQGnvbtNfsNxKmFxaw=s64",
      "userId": "12143112822111938694"
     },
     "user_tz": -330
    },
    "id": "0EVM83kPCrrf",
    "outputId": "f0bf967f-ee3c-4716-c34e-0185796c6ccf"
   },
   "outputs": [
    {
     "data": {
      "text/plain": [
       "{'whiskers': [<matplotlib.lines.Line2D at 0x1f099e98cb0>,\n",
       "  <matplotlib.lines.Line2D at 0x1f09a76e3c0>],\n",
       " 'caps': [<matplotlib.lines.Line2D at 0x1f09a76e6c0>,\n",
       "  <matplotlib.lines.Line2D at 0x1f09a76e990>],\n",
       " 'boxes': [<matplotlib.lines.Line2D at 0x1f09a76df70>],\n",
       " 'medians': [<matplotlib.lines.Line2D at 0x1f09a76ec60>],\n",
       " 'fliers': [<matplotlib.lines.Line2D at 0x1f09a76ef60>],\n",
       " 'means': []}"
      ]
     },
     "execution_count": 27,
     "metadata": {},
     "output_type": "execute_result"
    },
    {
     "data": {
      "image/png": "[encoded data removed]",
      "text/plain": [
       "<Figure size 640x480 with 1 Axes>"
      ]
     },
     "metadata": {},
     "output_type": "display_data"
    }
   ],
   "source": [
    "plt.boxplot(final_df.Area)"
   ]
  },
  {
   "cell_type": "code",
   "execution_count": 28,
   "metadata": {
    "colab": {
     "base_uri": "https://localhost:8080/",
     "height": 410
    },
    "executionInfo": {
     "elapsed": 369,
     "status": "ok",
     "timestamp": 1631786646087,
     "user": {
      "displayName": "Mirthula M",
      "photoUrl": "https://lh3.googleusercontent.com/a-/AOh14Gjzk08XC9_s634256p0qat8RQGnvbtNfsNxKmFxaw=s64",
      "userId": "12143112822111938694"
     },
     "user_tz": -330
    },
    "id": "_vKVbk9uDdbi",
    "outputId": "33a694a9-e036-475d-a665-907193cb60ee"
   },
   "outputs": [
    {
     "data": {
      "text/plain": [
       "{'whiskers': [<matplotlib.lines.Line2D at 0x1f09a7d8c50>,\n",
       "  <matplotlib.lines.Line2D at 0x1f09a7d8ef0>],\n",
       " 'caps': [<matplotlib.lines.Line2D at 0x1f09a7d91f0>,\n",
       "  <matplotlib.lines.Line2D at 0x1f09a7d9460>],\n",
       " 'boxes': [<matplotlib.lines.Line2D at 0x1f09a7d8b30>],\n",
       " 'medians': [<matplotlib.lines.Line2D at 0x1f09a7d9760>],\n",
       " 'fliers': [<matplotlib.lines.Line2D at 0x1f09a7d9a00>],\n",
       " 'means': []}"
      ]
     },
     "execution_count": 28,
     "metadata": {},
     "output_type": "execute_result"
    },
    {
     "data": {
      "image/png": "[encoded data removed]",
      "text/plain": [
       "<Figure size 640x480 with 1 Axes>"
      ]
     },
     "metadata": {},
     "output_type": "display_data"
    }
   ],
   "source": [
    "plt.boxplot(final_df.Production)"
   ]
  },
  {
   "cell_type": "markdown",
   "metadata": {
    "id": "K-cl0xUEEGho"
   },
   "source": [
    "**Result:** The area under cultivation and production is highly skewed and has many outliers"
   ]
  },
  {
   "cell_type": "markdown",
   "metadata": {
    "id": "jMcAbzyIE_Hz"
   },
   "source": [
    "## **Bivariate Analysis**"
   ]
  },
  {
   "cell_type": "code",
   "execution_count": 29,
   "metadata": {
    "colab": {
     "base_uri": "https://localhost:8080/",
     "height": 877
    },
    "executionInfo": {
     "elapsed": 4411,
     "status": "ok",
     "timestamp": 1631787136128,
     "user": {
      "displayName": "Mirthula M",
      "photoUrl": "https://lh3.googleusercontent.com/a-/AOh14Gjzk08XC9_s634256p0qat8RQGnvbtNfsNxKmFxaw=s64",
      "userId": "12143112822111938694"
     },
     "user_tz": -330
    },
    "id": "KqN0uEz_FeU1",
    "outputId": "ff4b3c4e-eaaf-4327-adee-85dd7db0d628"
   },
   "outputs": [
    {
     "data": {
      "image/png": "[encoded data removed]",
      "text/plain": [
       "<Figure size 1500x1500 with 1 Axes>"
      ]
     },
     "metadata": {},
     "output_type": "display_data"
    }
   ],
   "source": [
    "plt.figure(figsize=(15,15))\n",
    "sns.barplot(x=df['Production'],y= df[\"State_Name\"], orient='h');"
   ]
  },
  {
   "cell_type": "markdown",
   "metadata": {
    "id": "AcT8bCQ9GD17"
   },
   "source": [
    "**Result** : Kerala has yeilded the highest production "
   ]
  },
  {
   "cell_type": "markdown",
   "metadata": {
    "id": "lVT_UcM8JGel"
   },
   "source": [
    "## **New variables**"
   ]
  },
  {
   "cell_type": "code",
   "execution_count": 30,
   "metadata": {
    "executionInfo": {
     "elapsed": 364,
     "status": "ok",
     "timestamp": 1631787985961,
     "user": {
      "displayName": "Mirthula M",
      "photoUrl": "https://lh3.googleusercontent.com/a-/AOh14Gjzk08XC9_s634256p0qat8RQGnvbtNfsNxKmFxaw=s64",
      "userId": "12143112822111938694"
     },
     "user_tz": -330
    },
    "id": "-LXXwoa8I-bM"
   },
   "outputs": [],
   "source": [
    "#Zone-Wise Production - 1997-2014\n",
    "north_india = ['Jammu and Kashmir', 'Punjab', 'Himachal Pradesh', 'Haryana', 'Uttarakhand', 'Uttar Pradesh', 'Chandigarh']\n",
    "east_india = ['Bihar', 'Odisha', 'Jharkhand', 'West Bengal']\n",
    "south_india = ['Andhra Pradesh', 'Karnataka', 'Kerala' ,'Tamil Nadu', 'Telangana']\n",
    "west_india = ['Rajasthan' , 'Gujarat', 'Goa','Maharashtra']\n",
    "central_india = ['Madhya Pradesh', 'Chhattisgarh']\n",
    "north_east_india = ['Assam', 'Sikkim', 'Nagaland', 'Meghalaya', 'Manipur', 'Mizoram', 'Tripura', 'Arunachal Pradesh']\n",
    "ut_india = ['Andaman and Nicobar Islands', 'Dadra and Nagar Haveli', 'Puducherry']"
   ]
  },
  {
   "cell_type": "code",
   "execution_count": 31,
   "metadata": {
    "colab": {
     "base_uri": "https://localhost:8080/"
    },
    "executionInfo": {
     "elapsed": 4815,
     "status": "ok",
     "timestamp": 1631788212835,
     "user": {
      "displayName": "Mirthula M",
      "photoUrl": "https://lh3.googleusercontent.com/a-/AOh14Gjzk08XC9_s634256p0qat8RQGnvbtNfsNxKmFxaw=s64",
      "userId": "12143112822111938694"
     },
     "user_tz": -330
    },
    "id": "jRmQo5SgJKhi",
    "outputId": "2dba5a54-f210-4038-e335-cad8f6077726"
   },
   "outputs": [
    {
     "data": {
      "text/plain": [
       "array(['North Zone', 'Central Zone', 'East Zone', 'South Zone', 'NE Zone',\n",
       "       'West Zone', 'Union Terr'], dtype=object)"
      ]
     },
     "execution_count": 31,
     "metadata": {},
     "output_type": "execute_result"
    }
   ],
   "source": [
    "def get_zonal_names(row):\n",
    "    if row['State_Name'].strip() in north_india:\n",
    "        val = 'North Zone'\n",
    "    elif row['State_Name'].strip()  in south_india:\n",
    "        val = 'South Zone'\n",
    "    elif row['State_Name'].strip()  in east_india:\n",
    "        val = 'East Zone'\n",
    "    elif row['State_Name'].strip()  in west_india:\n",
    "        val = 'West Zone'\n",
    "    elif row['State_Name'].strip()  in central_india:\n",
    "        val = 'Central Zone'\n",
    "    elif row['State_Name'].strip()  in north_east_india:\n",
    "        val = 'NE Zone'\n",
    "    elif row['State_Name'].strip()  in ut_india:\n",
    "        val = 'Union Terr'\n",
    "    else:\n",
    "        val = 'No Value'\n",
    "    return val\n",
    "\n",
    "final_df['Zones'] = final_df.apply(get_zonal_names, axis=1)\n",
    "final_df['Zones'].unique()"
   ]
  },
  {
   "cell_type": "code",
   "execution_count": 32,
   "metadata": {
    "colab": {
     "base_uri": "https://localhost:8080/"
    },
    "executionInfo": {
     "elapsed": 360,
     "status": "ok",
     "timestamp": 1631788243996,
     "user": {
      "displayName": "Mirthula M",
      "photoUrl": "https://lh3.googleusercontent.com/a-/AOh14Gjzk08XC9_s634256p0qat8RQGnvbtNfsNxKmFxaw=s64",
      "userId": "12143112822111938694"
     },
     "user_tz": -330
    },
    "id": "NsLnrWXhKEkW",
    "outputId": "4b383dff-57fc-4c09-98a5-b0de79ac9a10"
   },
   "outputs": [
    {
     "data": {
      "text/plain": [
       "Zones\n",
       "South Zone      54207\n",
       "North Zone      51468\n",
       "East Zone       43339\n",
       "West Zone       33786\n",
       "Central Zone    33652\n",
       "NE Zone         28297\n",
       "Union Terr       1342\n",
       "Name: count, dtype: int64"
      ]
     },
     "execution_count": 32,
     "metadata": {},
     "output_type": "execute_result"
    }
   ],
   "source": [
    "final_df['Zones'].value_counts()"
   ]
  },
  {
   "cell_type": "code",
   "execution_count": 33,
   "metadata": {
    "executionInfo": {
     "elapsed": 966,
     "status": "ok",
     "timestamp": 1631788267919,
     "user": {
      "displayName": "Mirthula M",
      "photoUrl": "https://lh3.googleusercontent.com/a-/AOh14Gjzk08XC9_s634256p0qat8RQGnvbtNfsNxKmFxaw=s64",
      "userId": "12143112822111938694"
     },
     "user_tz": -330
    },
    "id": "z-ord5nKJTnO"
   },
   "outputs": [],
   "source": [
    "crop=final_df['Crop']\n",
    "def cat_crop(crop):\n",
    "    for i in ['Rice','Maize','Wheat','Barley','Varagu','Other Cereals & Millets','Ragi','Small millets','Bajra','Jowar', 'Paddy','Total foodgrain','Jobster']:\n",
    "        if crop==i:\n",
    "            return 'Cereal'\n",
    "    for i in ['Moong','Urad','Arhar/Tur','Peas & beans','Masoor',\n",
    "              'Other Kharif pulses','other misc. pulses','Ricebean (nagadal)',\n",
    "              'Rajmash Kholar','Lentil','Samai','Blackgram','Korra','Cowpea(Lobia)',\n",
    "              'Other  Rabi pulses','Other Kharif pulses','Peas & beans (Pulses)','Pulses total','Gram']:\n",
    "        if crop==i:\n",
    "            return 'Pulses'\n",
    "    for i in ['Peach','Apple','Litchi','Pear','Plums','Ber','Sapota','Lemon','Pome Granet',\n",
    "               'Other Citrus Fruit','Water Melon','Jack Fruit','Grapes','Pineapple','Orange',\n",
    "               'Pome Fruit','Citrus Fruit','Other Fresh Fruits','Mango','Papaya','Coconut','Banana']:\n",
    "        if crop==i:\n",
    "            return 'Fruits'\n",
    "    for i in ['Bean','Lab-Lab','Moth','Guar seed','Soyabean','Horse-gram']:\n",
    "        if crop==i:\n",
    "            return 'Beans'\n",
    "    for i in ['Turnip','Peas','Beet Root','Carrot','Yam','Ribed Guard','Ash Gourd ','Pump Kin','Redish','Snak Guard','Bottle Gourd',\n",
    "              'Bitter Gourd','Cucumber','Drum Stick','Cauliflower','Beans & Mutter(Vegetable)','Cabbage',\n",
    "              'Bhindi','Tomato','Brinjal','Khesari','Sweet potato','Potato','Onion','Tapioca','Colocosia']:\n",
    "              if crop==i:\n",
    "                return 'Vegetables'\n",
    "    for i in ['Perilla','Ginger','Cardamom','Black pepper','Dry ginger','Garlic','Coriander','Turmeric','Dry chillies','Cond-spcs other']:\n",
    "        if crop==i:\n",
    "            return 'spices'\n",
    "    for i in ['other fibres','Kapas','Jute & mesta','Jute','Mesta','Cotton(lint)','Sannhamp']:\n",
    "        if crop==i:\n",
    "            return 'fibres'\n",
    "    for i in ['Arcanut (Processed)','Atcanut (Raw)','Cashewnut Processed','Cashewnut Raw','Cashewnut','Arecanut','Groundnut']:\n",
    "        if crop==i:\n",
    "            return 'Nuts'\n",
    "    for i in ['other oilseeds','Safflower','Niger seed','Castor seed','Linseed','Sunflower','Rapeseed &Mustard','Sesamum','Oilseeds total']:\n",
    "        if crop==i:\n",
    "            return 'oilseeds'\n",
    "    for i in ['Tobacco','Coffee','Tea','Sugarcane','Rubber']:\n",
    "        if crop==i:\n",
    "            return 'Commercial'\n",
    "\n",
    "final_df['cat_crop']=final_df['Crop'].apply(cat_crop)"
   ]
  },
  {
   "cell_type": "code",
   "execution_count": 34,
   "metadata": {
    "colab": {
     "base_uri": "https://localhost:8080/"
    },
    "executionInfo": {
     "elapsed": 347,
     "status": "ok",
     "timestamp": 1631788271087,
     "user": {
      "displayName": "Mirthula M",
      "photoUrl": "https://lh3.googleusercontent.com/a-/AOh14Gjzk08XC9_s634256p0qat8RQGnvbtNfsNxKmFxaw=s64",
      "userId": "12143112822111938694"
     },
     "user_tz": -330
    },
    "id": "G3voNrHDJ11B",
    "outputId": "46dcc3c9-e3dd-422a-f50c-7eea2e5fb603"
   },
   "outputs": [
    {
     "data": {
      "text/plain": [
       "cat_crop\n",
       "Cereal        63800\n",
       "Pulses        41689\n",
       "oilseeds      34454\n",
       "Vegetables    23325\n",
       "spices        21986\n",
       "Nuts          11588\n",
       "Commercial    10716\n",
       "fibres        10195\n",
       "Beans          9355\n",
       "Fruits         6243\n",
       "Name: count, dtype: int64"
      ]
     },
     "execution_count": 34,
     "metadata": {},
     "output_type": "execute_result"
    }
   ],
   "source": [
    "final_df['cat_crop'].value_counts()"
   ]
  },
  {
   "cell_type": "markdown",
   "metadata": {
    "id": "X5A3ur-OKQJa"
   },
   "source": [
    "## **Findings and Visualisations**"
   ]
  },
  {
   "cell_type": "markdown",
   "metadata": {},
   "source": [
    "### **Zone wise production**"
   ]
  },
  {
   "cell_type": "code",
   "execution_count": 35,
   "metadata": {},
   "outputs": [
    {
     "data": {
      "image/png": "[encoded data removed]",
      "text/plain": [
       "<Figure size 1500x1000 with 1 Axes>"
      ]
     },
     "metadata": {},
     "output_type": "display_data"
    }
   ],
   "source": [
    "fig, ax = plt.subplots(figsize=(15, 10))\n",
    "\n",
    "# Correct usage with keyword arguments\n",
    "sns.barplot(x=final_df.Zones.sort_values(ascending=False), y=final_df.Production, ax=ax)\n",
    "\n",
    "plt.yscale('log')\n",
    "plt.title('Zone wise total production')\n",
    "plt.show()"
   ]
  },
  {
   "cell_type": "markdown",
   "metadata": {},
   "source": [
    "**Result :** South zone supplies the highest production followed by the union territories"
   ]
  },
  {
   "cell_type": "markdown",
   "metadata": {},
   "source": [
    "### **Analysing the state in south zone which produces the highest production**"
   ]
  },
  {
   "cell_type": "code",
   "execution_count": 36,
   "metadata": {},
   "outputs": [
    {
     "name": "stderr",
     "output_type": "stream",
     "text": [
      "C:\\Users\\Akhil_Sathani\\AppData\\Local\\Temp\\ipykernel_11160\\1111797540.py:5: FutureWarning: \n",
      "\n",
      "The `errwidth` parameter is deprecated. And will be removed in v0.15.0. Pass `err_kws={'linewidth': 0}` instead.\n",
      "\n",
      "  sns.barplot(x=south_zone.State_Name, y=south_zone.Production, errwidth=0, ax=ax)\n"
     ]
    },
    {
     "data": {
      "image/png": "[encoded data removed]",
      "text/plain": [
       "<Figure size 1500x1000 with 1 Axes>"
      ]
     },
     "metadata": {},
     "output_type": "display_data"
    }
   ],
   "source": [
    "south_zone = final_df[(final_df[\"Zones\"] == 'South Zone')]\n",
    "fig, ax = plt.subplots(figsize=(15, 10))\n",
    "\n",
    "# Use keyword arguments for x and y\n",
    "sns.barplot(x=south_zone.State_Name, y=south_zone.Production, errwidth=0, ax=ax)\n",
    "\n",
    "plt.yscale('log')\n",
    "plt.title('Southern-Zone wise Production')\n",
    "plt.show()"
   ]
  },
  {
   "cell_type": "markdown",
   "metadata": {},
   "source": [
    "**Result** : Kerala provides the highest production in south zone"
   ]
  },
  {
   "cell_type": "markdown",
   "metadata": {},
   "source": [
    "### **Analysing the district zone in kerala which gives the highest production**"
   ]
  },
  {
   "cell_type": "code",
   "execution_count": 37,
   "metadata": {},
   "outputs": [
    {
     "name": "stderr",
     "output_type": "stream",
     "text": [
      "C:\\Users\\Akhil_Sathani\\AppData\\Local\\Temp\\ipykernel_11160\\122486917.py:5: FutureWarning: \n",
      "\n",
      "The `errwidth` parameter is deprecated. And will be removed in v0.15.0. Pass `err_kws={'linewidth': 0}` instead.\n",
      "\n",
      "  sns.barplot(x=Kerala.District_Name, y=Kerala.Production, errwidth=0, ax=ax)\n"
     ]
    },
    {
     "data": {
      "image/png": "[encoded data removed]",
      "text/plain": [
       "<Figure size 1500x1000 with 1 Axes>"
      ]
     },
     "metadata": {},
     "output_type": "display_data"
    }
   ],
   "source": [
    "Kerala = final_df[(final_df[\"State_Name\"] == 'Kerala')]\n",
    "fig, ax = plt.subplots(figsize=(15, 10))\n",
    "\n",
    "# Use keyword arguments for x and y\n",
    "sns.barplot(x=Kerala.District_Name, y=Kerala.Production, errwidth=0, ax=ax)\n",
    "\n",
    "plt.yscale('log')\n",
    "plt.xticks(rotation=90)\n",
    "plt.title('District-wise Production in Kerala')\n",
    "plt.show()"
   ]
  },
  {
   "cell_type": "markdown",
   "metadata": {},
   "source": [
    "**Result** : Kozhikode , Malappuram and Thiruvananthapuram gives the highest production in Kerala state"
   ]
  },
  {
   "cell_type": "markdown",
   "metadata": {},
   "source": [
    "### **Crop wise production**"
   ]
  },
  {
   "cell_type": "code",
   "execution_count": 38,
   "metadata": {},
   "outputs": [
    {
     "ename": "AttributeError",
     "evalue": "'Series' object has no attribute 'Crop'",
     "output_type": "error",
     "traceback": [
      "\u001b[1;31m---------------------------------------------------------------------------\u001b[0m",
      "\u001b[1;31mAttributeError\u001b[0m                            Traceback (most recent call last)",
      "\u001b[1;32m~\\AppData\\Local\\Temp\\ipykernel_11160\\1242432022.py\u001b[0m in \u001b[0;36m?\u001b[1;34m()\u001b[0m\n\u001b[0;32m      1\u001b[0m \u001b[0mfig\u001b[0m\u001b[1;33m,\u001b[0m \u001b[0max\u001b[0m \u001b[1;33m=\u001b[0m \u001b[0mplt\u001b[0m\u001b[1;33m.\u001b[0m\u001b[0msubplots\u001b[0m\u001b[1;33m(\u001b[0m\u001b[0mfigsize\u001b[0m\u001b[1;33m=\u001b[0m\u001b[1;33m(\u001b[0m\u001b[1;36m15\u001b[0m\u001b[1;33m,\u001b[0m \u001b[1;36m10\u001b[0m\u001b[1;33m)\u001b[0m\u001b[1;33m)\u001b[0m\u001b[1;33m\u001b[0m\u001b[1;33m\u001b[0m\u001b[0m\n\u001b[0;32m      2\u001b[0m \u001b[1;33m\u001b[0m\u001b[0m\n\u001b[0;32m      3\u001b[0m \u001b[1;31m# Use keyword arguments for x and y\u001b[0m\u001b[1;33m\u001b[0m\u001b[1;33m\u001b[0m\u001b[0m\n\u001b[1;32m----> 4\u001b[1;33m \u001b[0msns\u001b[0m\u001b[1;33m.\u001b[0m\u001b[0mbarplot\u001b[0m\u001b[1;33m(\u001b[0m\u001b[0mx\u001b[0m\u001b[1;33m=\u001b[0m\u001b[0mcrop\u001b[0m\u001b[1;33m.\u001b[0m\u001b[0mCrop\u001b[0m\u001b[1;33m,\u001b[0m \u001b[0my\u001b[0m\u001b[1;33m=\u001b[0m\u001b[0mcrop\u001b[0m\u001b[1;33m.\u001b[0m\u001b[0mProduction\u001b[0m\u001b[1;33m,\u001b[0m \u001b[0max\u001b[0m\u001b[1;33m=\u001b[0m\u001b[0max\u001b[0m\u001b[1;33m)\u001b[0m\u001b[1;33m\u001b[0m\u001b[1;33m\u001b[0m\u001b[0m\n\u001b[0m\u001b[0;32m      5\u001b[0m \u001b[1;33m\u001b[0m\u001b[0m\n\u001b[0;32m      6\u001b[0m \u001b[0mplt\u001b[0m\u001b[1;33m.\u001b[0m\u001b[0myscale\u001b[0m\u001b[1;33m(\u001b[0m\u001b[1;34m'log'\u001b[0m\u001b[1;33m)\u001b[0m\u001b[1;33m\u001b[0m\u001b[1;33m\u001b[0m\u001b[0m\n\u001b[0;32m      7\u001b[0m \u001b[0mplt\u001b[0m\u001b[1;33m.\u001b[0m\u001b[0mxticks\u001b[0m\u001b[1;33m(\u001b[0m\u001b[0mrotation\u001b[0m\u001b[1;33m=\u001b[0m\u001b[1;36m90\u001b[0m\u001b[1;33m)\u001b[0m\u001b[1;33m\u001b[0m\u001b[1;33m\u001b[0m\u001b[0m\n",
      "\u001b[1;32m~\\anaconda3\\Lib\\site-packages\\pandas\\core\\generic.py\u001b[0m in \u001b[0;36m?\u001b[1;34m(self, name)\u001b[0m\n\u001b[0;32m   6295\u001b[0m             \u001b[1;32mand\u001b[0m \u001b[0mname\u001b[0m \u001b[1;32mnot\u001b[0m \u001b[1;32min\u001b[0m \u001b[0mself\u001b[0m\u001b[1;33m.\u001b[0m\u001b[0m_accessors\u001b[0m\u001b[1;33m\u001b[0m\u001b[1;33m\u001b[0m\u001b[0m\n\u001b[0;32m   6296\u001b[0m             \u001b[1;32mand\u001b[0m \u001b[0mself\u001b[0m\u001b[1;33m.\u001b[0m\u001b[0m_info_axis\u001b[0m\u001b[1;33m.\u001b[0m\u001b[0m_can_hold_identifiers_and_holds_name\u001b[0m\u001b[1;33m(\u001b[0m\u001b[0mname\u001b[0m\u001b[1;33m)\u001b[0m\u001b[1;33m\u001b[0m\u001b[1;33m\u001b[0m\u001b[0m\n\u001b[0;32m   6297\u001b[0m         \u001b[1;33m)\u001b[0m\u001b[1;33m:\u001b[0m\u001b[1;33m\u001b[0m\u001b[1;33m\u001b[0m\u001b[0m\n\u001b[0;32m   6298\u001b[0m             \u001b[1;32mreturn\u001b[0m \u001b[0mself\u001b[0m\u001b[1;33m[\u001b[0m\u001b[0mname\u001b[0m\u001b[1;33m]\u001b[0m\u001b[1;33m\u001b[0m\u001b[1;33m\u001b[0m\u001b[0m\n\u001b[1;32m-> 6299\u001b[1;33m         \u001b[1;32mreturn\u001b[0m \u001b[0mobject\u001b[0m\u001b[1;33m.\u001b[0m\u001b[0m__getattribute__\u001b[0m\u001b[1;33m(\u001b[0m\u001b[0mself\u001b[0m\u001b[1;33m,\u001b[0m \u001b[0mname\u001b[0m\u001b[1;33m)\u001b[0m\u001b[1;33m\u001b[0m\u001b[1;33m\u001b[0m\u001b[0m\n\u001b[0m",
      "\u001b[1;31mAttributeError\u001b[0m: 'Series' object has no attribute 'Crop'"
     ]
    },
    {
     "data": {
      "image/png": "[encoded data removed]",
      "text/plain": [
       "<Figure size 1500x1000 with 1 Axes>"
      ]
     },
     "metadata": {},
     "output_type": "display_data"
    }
   ],
   "source": [
    "fig, ax = plt.subplots(figsize=(15, 10))\n",
    "\n",
    "# Use keyword arguments for x and y\n",
    "sns.barplot(x=crop.Crop, y=crop.Production, ax=ax)\n",
    "\n",
    "plt.yscale('log')\n",
    "plt.xticks(rotation=90)\n",
    "plt.title('Crop-wise Production')\n",
    "plt.show()"
   ]
  },
  {
   "cell_type": "markdown",
   "metadata": {},
   "source": [
    "**Result:** Coconut is the top production followed by Sugar crane and Cardamom"
   ]
  },
  {
   "cell_type": "markdown",
   "metadata": {},
   "source": [
    "### **Season wise productions**"
   ]
  },
  {
   "cell_type": "code",
   "execution_count": null,
   "metadata": {},
   "outputs": [],
   "source": [
    "season = final_df.groupby(by='Season')['Production'].sum().reset_index().sort_values(by='Production', ascending=False).head(10)\n",
    "fig, ax = plt.subplots(figsize=(15, 10))\n",
    "\n",
    "# Use keyword arguments for x and y\n",
    "sns.barplot(x=season.Season, y=season.Production, errwidth=0, ax=ax)\n",
    "\n",
    "plt.yscale('log')\n",
    "plt.title('Seasonal Crops vs Production')\n",
    "plt.show()"
   ]
  },
  {
   "cell_type": "markdown",
   "metadata": {},
   "source": [
    "**Result:** More productions can be witnessed in WHOLE YEAR followed by Kharif and Rabi."
   ]
  },
  {
   "cell_type": "markdown",
   "metadata": {},
   "source": [
    "### **Year vs Production Analysis**"
   ]
  },
  {
   "cell_type": "code",
   "execution_count": null,
   "metadata": {},
   "outputs": [],
   "source": [
    "plt.tick_params(labelsize=10)\n",
    "final_df.groupby('Crop_Year')['Production'].agg('sum').plot.bar()\n",
    "\n"
   ]
  },
  {
   "cell_type": "markdown",
   "metadata": {},
   "source": [
    "**Result:** More productions was witnessed in 2011 followed by 2013."
   ]
  },
  {
   "cell_type": "markdown",
   "metadata": {},
   "source": [
    "### **Crop categories vs Production**"
   ]
  },
  {
   "cell_type": "code",
   "execution_count": null,
   "metadata": {},
   "outputs": [],
   "source": [
    "final_df.groupby('cat_crop')['Production'].agg(\"count\").plot.bar()\n",
    "plt.tick_params(labelsize=10)"
   ]
  },
  {
   "cell_type": "markdown",
   "metadata": {},
   "source": [
    "**Result:** Cereals has the highest production followed by pulses and oilseeds"
   ]
  },
  {
   "cell_type": "markdown",
   "metadata": {},
   "source": [
    "### **Season vs Crop categories vs State**"
   ]
  },
  {
   "cell_type": "code",
   "execution_count": null,
   "metadata": {},
   "outputs": [],
   "source": [
    "plt.figure(figsize=(20,9))\n",
    "plt.xticks(rotation=90)\n",
    "sns.scatterplot(data = final_df , x=\"State_Name\", y=\"cat_crop\", hue='Season')\n",
    "plt.show()"
   ]
  },
  {
   "cell_type": "markdown",
   "metadata": {},
   "source": [
    "**Result:** Top agriculture rich state like Uttar pradesh produce abundance of Kharif crops , Kerala produces abundance of whole year crops"
   ]
  },
  {
   "cell_type": "markdown",
   "metadata": {},
   "source": [
    "### **Percentage of crop categories**"
   ]
  },
  {
   "cell_type": "code",
   "execution_count": null,
   "metadata": {},
   "outputs": [],
   "source": [
    "cat_crop_count_df=final_df[\"cat_crop\"].value_counts()\n",
    "cat_crop_count_df.plot(radius=3,kind=\"pie\",autopct=\"%1.1f\",pctdistance=0.6)\n",
    "plt.tick_params(labelsize=10)"
   ]
  },
  {
   "cell_type": "markdown",
   "metadata": {},
   "source": [
    "**Result**: Cereals production was greater followed by Pulses and oilseeds"
   ]
  },
  {
   "cell_type": "markdown",
   "metadata": {},
   "source": [
    "## **Key Indicators and obtaining useful insights**"
   ]
  },
  {
   "cell_type": "markdown",
   "metadata": {},
   "source": [
    "### **State that dominates in crop production by producing a variety of crop categories** "
   ]
  },
  {
   "cell_type": "code",
   "execution_count": null,
   "metadata": {},
   "outputs": [],
   "source": [
    "state_cat_crop= pd.crosstab(final_df['State_Name'],final_df['cat_crop'])\n",
    "state_cat_crop.plot(kind=\"bar\",stacked=True,figsize=(15,8))"
   ]
  },
  {
   "cell_type": "markdown",
   "metadata": {},
   "source": [
    "**Result** : Uttar Pradhesh produces a various of crop categories and dominates in high production rank followed by Madhya pradesh and Karnataka"
   ]
  },
  {
   "cell_type": "markdown",
   "metadata": {},
   "source": [
    "### **Which crop is grown in high frequency in India? Provide useful insights for the same**"
   ]
  },
  {
   "cell_type": "code",
   "execution_count": null,
   "metadata": {},
   "outputs": [],
   "source": [
    "final_df['Crop'].value_counts()[:5]"
   ]
  },
  {
   "cell_type": "code",
   "execution_count": null,
   "metadata": {},
   "outputs": [],
   "source": [
    "rice_df=final_df[final_df['Crop']==\"Rice\"]\n",
    "print(rice_df.shape)\n",
    "rice_df.head(4)"
   ]
  },
  {
   "cell_type": "code",
   "execution_count": null,
   "metadata": {},
   "outputs": [],
   "source": [
    "sns.barplot(x=\"Season\", y=\"Production\", data=rice_df)"
   ]
  },
  {
   "cell_type": "code",
   "execution_count": null,
   "metadata": {},
   "outputs": [],
   "source": [
    "plt.figure(figsize=(10, 8))\n",
    "\n",
    "# Correct usage with keyword arguments\n",
    "sns.barplot(x=\"State_Name\", y=\"Production\", data=rice_df)\n",
    "\n",
    "plt.xticks(rotation=90)\n",
    "plt.show()"
   ]
  },
  {
   "cell_type": "code",
   "execution_count": null,
   "metadata": {},
   "outputs": [],
   "source": [
    "top_rice_dist = rice_df.groupby(\"District_Name\")[\"Production\"].sum().reset_index().sort_values(by=\"Production\", ascending=False)\n",
    "top_rice_dist.head(5)"
   ]
  },
  {
   "cell_type": "code",
   "execution_count": null,
   "metadata": {},
   "outputs": [],
   "source": [
    "plt.figure(figsize=(10,8))\n",
    "sns.barplot(x=\"District_Name\",y=\"Production\",data=top_rice_dist[:10])\n",
    "plt.xticks(rotation=90)\n",
    "plt.show()"
   ]
  },
  {
   "cell_type": "code",
   "execution_count": null,
   "metadata": {},
   "outputs": [],
   "source": [
    "plt.figure(figsize=(15,10))\n",
    "sns.barplot(x=\"Crop_Year\",y=\"Production\",data=rice_df)\n",
    "plt.xticks(rotation=45)\n",
    "plt.show()"
   ]
  },
  {
   "cell_type": "code",
   "execution_count": null,
   "metadata": {},
   "outputs": [],
   "source": [
    "sns.jointplot(x=\"Area\",y=\"Production\",data=rice_df,kind=\"reg\")"
   ]
  },
  {
   "cell_type": "markdown",
   "metadata": {},
   "source": [
    "**Result**:\n",
    "1. Rice is the most frequent crop in India.\n",
    "2. Rice is produced in high is Winter season followed by Whole year and Kharif\n",
    "3. Punjab is richest state for high rice production.\n",
    "4. Bardaman district in Punjab is rich for rice production"
   ]
  },
  {
   "cell_type": "markdown",
   "metadata": {},
   "source": [
    "### **State that ranks high in area wise crop production in India**"
   ]
  },
  {
   "cell_type": "code",
   "execution_count": null,
   "metadata": {},
   "outputs": [],
   "source": [
    "df_area=final_df.groupby(\"State_Name\")[\"Area\"].sum().reset_index().sort_values(by=\"Area\",ascending=False)\n",
    "df_area.head()"
   ]
  },
  {
   "cell_type": "code",
   "execution_count": null,
   "metadata": {},
   "outputs": [],
   "source": [
    "fig, ax = plt.subplots(figsize=(25, 10))\n",
    "\n",
    "# Use keyword arguments for x and y\n",
    "sns.barplot(x=df_area.State_Name.head(10), y=df_area.Area.head(10), errwidth=0, ax=ax)\n",
    "\n",
    "plt.title('Indian Agricultural Area Distribution')\n",
    "plt.show()\n"
   ]
  },
  {
   "cell_type": "markdown",
   "metadata": {},
   "source": [
    "**Result:** Top crop producing states based on Area are Uttar Pradhesh followed by Madhya Pradhesh and Maharashtra"
   ]
  },
  {
   "cell_type": "markdown",
   "metadata": {},
   "source": [
    "### **Top Crops produced in Northern parts of State**"
   ]
  },
  {
   "cell_type": "code",
   "execution_count": null,
   "metadata": {},
   "outputs": [],
   "source": [
    "North_Zone=final_df[final_df[\"Zones\"]==\"North Zone\"]\n",
    "print(North_Zone.shape)"
   ]
  },
  {
   "cell_type": "code",
   "execution_count": null,
   "metadata": {},
   "outputs": [],
   "source": [
    "North_Zone.head()"
   ]
  },
  {
   "cell_type": "code",
   "execution_count": null,
   "metadata": {},
   "outputs": [],
   "source": [
    "grouped_data = North_Zone.groupby(by='State_Name')['Production'].sum().reset_index().sort_values(by='Production', ascending=False)\n",
    "\n",
    "# Plotting the bar plot with keyword arguments\n",
    "plt.figure(figsize=(12, 8))  # Optional: adjust figure size if needed\n",
    "sns.barplot(x='State_Name', y='Production', data=grouped_data)\n",
    "\n",
    "# Rotate x-axis labels if needed\n",
    "plt.xticks(rotation=90)\n",
    "\n",
    "# Set y-axis to log scale if needed\n",
    "plt.yscale('log')\n",
    "\n",
    "# Set title\n",
    "plt.title('Northern-Zone Production')\n",
    "\n",
    "# Show the plot\n",
    "plt.show()\n"
   ]
  },
  {
   "cell_type": "code",
   "execution_count": null,
   "metadata": {},
   "outputs": [],
   "source": [
    "df_NZ = North_Zone.groupby(\"Crop\")[\"Production\"].sum().reset_index().sort_values(by=\"Production\", ascending=False).head(10)\n",
    "\n",
    "# Plotting the bar plot with keyword arguments\n",
    "plt.figure(figsize=(12, 8))  # Optional: adjust figure size if needed\n",
    "sns.barplot(x='Crop', y='Production', data=df_NZ)\n",
    "\n",
    "# Rotate x-axis labels if needed\n",
    "plt.xticks(rotation=90)\n",
    "\n",
    "# Set y-axis to log scale if needed\n",
    "plt.yscale('log')\n",
    "\n",
    "# Set title\n",
    "plt.title('Crop vs Production in Northern-Zone')\n",
    "\n",
    "# Show the plot\n",
    "plt.show()"
   ]
  },
  {
   "cell_type": "markdown",
   "metadata": {},
   "source": [
    "**Result**:\n",
    "1. Top crop producing states in North parts are Punjab followed by Uttar pradhesh\n",
    "2. Top crops produced in Northern zone are Sugar cane followed by Wheat. "
   ]
  },
  {
   "cell_type": "markdown",
   "metadata": {},
   "source": [
    "### **Top crop produced in Southern Zone**"
   ]
  },
  {
   "cell_type": "code",
   "execution_count": null,
   "metadata": {},
   "outputs": [],
   "source": [
    "South_Zone=final_df[final_df[\"Zones\"]==\"South Zone\"]\n",
    "print(South_Zone.shape)"
   ]
  },
  {
   "cell_type": "code",
   "execution_count": null,
   "metadata": {},
   "outputs": [],
   "source": [
    "South_Zone.head(10)"
   ]
  },
  {
   "cell_type": "code",
   "execution_count": null,
   "metadata": {},
   "outputs": [],
   "source": [
    "df_SZ = South_Zone.groupby(\"Crop\")[\"Production\"].sum().reset_index().sort_values(by=\"Production\", ascending=False).head(10)\n",
    "# Plotting the bar plot with keyword arguments\n",
    "plt.figure(figsize=(12, 8))\n",
    "sns.barplot(x='Crop', y='Production', data=df_SZ)\n",
    "# Rotate x-axis labels if needed\n",
    "plt.xticks(rotation=90)\n",
    "# Set y-axis to log scale if needed\n",
    "plt.yscale('log')\n",
    "# Set title\n",
    "plt.title('Crop vs Production in Southern-Zone')\n",
    "# Show the plot\n",
    "plt.show()"
   ]
  },
  {
   "cell_type": "code",
   "execution_count": null,
   "metadata": {},
   "outputs": [],
   "source": [
    "df_coco = final_df[final_df[\"Crop\"]==\"Coconut \"]\n",
    "print(df_coco.shape)\n",
    "df_coco[:5]"
   ]
  },
  {
   "cell_type": "code",
   "execution_count": null,
   "metadata": {},
   "outputs": [],
   "source": [
    "sns.barplot(x=\"Season\",y=\"Production\",data=df_coco)"
   ]
  },
  {
   "cell_type": "code",
   "execution_count": null,
   "metadata": {},
   "outputs": [],
   "source": [
    "plt.figure(figsize=(10,8))\n",
    "sns.barplot(x=\"State_Name\",y=\"Production\",data=df_coco)\n",
    "plt.xticks(rotation=90)\n",
    "plt.show"
   ]
  },
  {
   "cell_type": "code",
   "execution_count": null,
   "metadata": {},
   "outputs": [],
   "source": [
    "top_coco_dist = df_coco.groupby(\"District_Name\")[\"Production\"].sum().reset_index().sort_values(by=\"Production\", ascending=False)\n",
    "top_coco_dist.head(5)"
   ]
  },
  {
   "cell_type": "code",
   "execution_count": null,
   "metadata": {},
   "outputs": [],
   "source": [
    "plt.figure(figsize=(10,12))\n",
    "sns.barplot(x=\"District_Name\",y=\"Production\",data=top_coco_dist[:8])\n",
    "plt.xticks(rotation=90)\n",
    "plt.show()"
   ]
  },
  {
   "cell_type": "code",
   "execution_count": null,
   "metadata": {},
   "outputs": [],
   "source": [
    "plt.figure(figsize=(15,10))\n",
    "sns.barplot(x=\"Crop_Year\",y=\"Production\",data=df_coco)\n",
    "plt.xticks(rotation=45)\n",
    "plt.show()"
   ]
  },
  {
   "cell_type": "code",
   "execution_count": null,
   "metadata": {},
   "outputs": [],
   "source": [
    "plt.figure(figsize=(15,10))\n",
    "sns.jointplot(x=\"Area\",y=\"Production\",data=df_coco,kind=\"reg\")\n",
    "plt.xticks(rotation=90)\n",
    "plt.show()"
   ]
  },
  {
   "cell_type": "markdown",
   "metadata": {},
   "source": [
    "**Result:** \n",
    "1. Top crop grown in Southern Zone is coconut.\n",
    "2. The coconut gets matured in Whole year season\n",
    "3. Kerala state in southern zone yeilds a high amount of Coconut\n",
    "4. Kozhikode and Malapuram districts of Kerala are rich in Coconut production\n",
    "5. Coconut production was yeilded more during 2011 and 2014.\n",
    "6. High coconut cultivation is directly proportional to area under cultivation.\n"
   ]
  },
  {
   "cell_type": "markdown",
   "metadata": {},
   "source": [
    "### **Top crop produced in Central state**"
   ]
  },
  {
   "cell_type": "code",
   "execution_count": null,
   "metadata": {},
   "outputs": [],
   "source": [
    "Central_Zone=final_df[final_df[\"Zones\"]==\"Central Zone\"]\n",
    "print(Central_Zone.shape)"
   ]
  },
  {
   "cell_type": "code",
   "execution_count": null,
   "metadata": {},
   "outputs": [],
   "source": [
    "Central_Zone.head(8)"
   ]
  },
  {
   "cell_type": "code",
   "execution_count": null,
   "metadata": {},
   "outputs": [],
   "source": [
    "df_central_crop = Central_Zone.groupby(\"Crop\")[\"Production\"].sum().reset_index().sort_values(by=\"Production\",ascending=False).head(10)\n",
    "sns.barplot(x=\"Crop\",y=\"Production\",data=df_central_crop)\n",
    "plt.xticks(rotation=90)\n",
    "plt.yscale('log')\n",
    "plt.title(\"Top crop produced in Central zone\")"
   ]
  },
  {
   "cell_type": "code",
   "execution_count": null,
   "metadata": {},
   "outputs": [],
   "source": [
    "sns.barplot(x=\"State_Name\",y=\"Production\",data=Central_Zone)\n",
    "plt.xticks(rotation=90);\n",
    "plt.yscale('log')\n",
    "plt.title('Central-Zone Production')\n",
    "Central_Zone.groupby(by='State_Name')['Production'].sum().reset_index().sort_values(by='Production', ascending=False)"
   ]
  },
  {
   "cell_type": "markdown",
   "metadata": {},
   "source": [
    "**Result:** \n",
    "1. Wheat is the top crop produced in Central Zone\n",
    "2. State rich in Wheat production is Madhya Pradesh"
   ]
  },
  {
   "cell_type": "markdown",
   "metadata": {},
   "source": [
    "### **Crop categories and their Production rate**"
   ]
  },
  {
   "cell_type": "code",
   "execution_count": null,
   "metadata": {},
   "outputs": [],
   "source": [
    "sns.set_style('darkgrid')\n",
    "sns.lineplot(data=final_df, x='cat_crop', y='Production')\n",
    "\n",
    "plt.title('Crop categories vs Production rate')\n",
    "plt.xlabel('Crop categories')\n",
    "plt.ylabel('Production')\n",
    "plt.xticks(rotation=90);\n",
    "plt.yscale('log')\n",
    "\n",
    "plt.show()\n",
    "\n",
    "final_df.groupby(by='cat_crop')['Production'].sum().reset_index().sort_values(by='Production', ascending=False)"
   ]
  },
  {
   "cell_type": "markdown",
   "metadata": {},
   "source": [
    "**Result:** Commercial crops like Tobacco , Coffee , Tea , Rubber and Sugar cane has given the largest production"
   ]
  },
  {
   "cell_type": "code",
   "execution_count": null,
   "metadata": {},
   "outputs": [],
   "source": []
  }
 ],
 "metadata": {
  "colab": {
   "authorship_tag": "ABX9TyMHgPM+84m7LxkOxOJPO70c",
   "collapsed_sections": [],
   "name": "Crop production.ipynb",
   "provenance": []
  },
  "kernelspec": {
   "display_name": "Python 3 (ipykernel)",
   "language": "python",
   "name": "python3"
  },
  "language_info": {
   "codemirror_mode": {
    "name": "ipython",
    "version": 3
   },
   "file_extension": ".py",
   "mimetype": "text/x-python",
   "name": "python",
   "nbconvert_exporter": "python",
   "pygments_lexer": "ipython3",
   "version": "3.12.4"
  }
 },
 "nbformat": 4,
 "nbformat_minor": 4
}
